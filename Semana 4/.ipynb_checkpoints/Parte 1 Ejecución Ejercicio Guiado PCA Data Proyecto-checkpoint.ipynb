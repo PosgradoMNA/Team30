{
 "cells": [
  {
   "cell_type": "markdown",
   "metadata": {
    "id": "MYTkAs_9uJg8"
   },
   "source": [
    "# Dimension Reduction"
   ]
  },
  {
   "cell_type": "code",
   "execution_count": 1,
   "metadata": {},
   "outputs": [],
   "source": [
    "import pandas as pd\n",
    "import numpy as np"
   ]
  },
  {
   "cell_type": "markdown",
   "metadata": {
    "id": "PDgGqcpE3Zau"
   },
   "source": [
    "# Principal components analysis (PCA) \n",
    "\n",
    "* It is a useful method for dimension reduction, especially when the number of variables is large.\n",
    "* PCA is intended for use with numerical variables. \n",
    "   * For categorical variables, other methods such as correspondence analysis are more suitable. "
   ]
  },
  {
   "cell_type": "code",
   "execution_count": 2,
   "metadata": {
    "id": "eZIIbxdR27FX"
   },
   "outputs": [],
   "source": [
    "Path = 'C:\\\\Users\\\\npradah\\\\Documents\\\\Team30_ArtificialmenteInteligentes\\\\Semana 4\\\\default of credit card clients.csv'"
   ]
  },
  {
   "cell_type": "code",
   "execution_count": 3,
   "metadata": {
    "colab": {
     "base_uri": "https://localhost:8080/",
     "height": 411
    },
    "id": "x6I7njK8YHQO",
    "outputId": "873b1363-740d-49d0-c814-5bf353e7af68"
   },
   "outputs": [
    {
     "data": {
      "text/html": [
       "<div>\n",
       "<style scoped>\n",
       "    .dataframe tbody tr th:only-of-type {\n",
       "        vertical-align: middle;\n",
       "    }\n",
       "\n",
       "    .dataframe tbody tr th {\n",
       "        vertical-align: top;\n",
       "    }\n",
       "\n",
       "    .dataframe thead th {\n",
       "        text-align: right;\n",
       "    }\n",
       "</style>\n",
       "<table border=\"1\" class=\"dataframe\">\n",
       "  <thead>\n",
       "    <tr style=\"text-align: right;\">\n",
       "      <th></th>\n",
       "      <th>credit</th>\n",
       "      <th>gender</th>\n",
       "      <th>education</th>\n",
       "      <th>marital</th>\n",
       "      <th>age</th>\n",
       "      <th>hpp Sep 2005</th>\n",
       "      <th>hpp Aug 2005</th>\n",
       "      <th>hpp Jul 2005</th>\n",
       "      <th>hpp Jun 2005</th>\n",
       "      <th>hpp May 2005</th>\n",
       "      <th>...</th>\n",
       "      <th>abs Jun 2005</th>\n",
       "      <th>abs May 2005</th>\n",
       "      <th>abs Apr 2005</th>\n",
       "      <th>app Sep 2005</th>\n",
       "      <th>app Aug 2005</th>\n",
       "      <th>app Jul 2005</th>\n",
       "      <th>app Jun 2005</th>\n",
       "      <th>app May 2005</th>\n",
       "      <th>app Apr 2005</th>\n",
       "      <th>Y credibility</th>\n",
       "    </tr>\n",
       "    <tr>\n",
       "      <th>ID</th>\n",
       "      <th></th>\n",
       "      <th></th>\n",
       "      <th></th>\n",
       "      <th></th>\n",
       "      <th></th>\n",
       "      <th></th>\n",
       "      <th></th>\n",
       "      <th></th>\n",
       "      <th></th>\n",
       "      <th></th>\n",
       "      <th></th>\n",
       "      <th></th>\n",
       "      <th></th>\n",
       "      <th></th>\n",
       "      <th></th>\n",
       "      <th></th>\n",
       "      <th></th>\n",
       "      <th></th>\n",
       "      <th></th>\n",
       "      <th></th>\n",
       "      <th></th>\n",
       "    </tr>\n",
       "  </thead>\n",
       "  <tbody>\n",
       "    <tr>\n",
       "      <th>1</th>\n",
       "      <td>20000</td>\n",
       "      <td>2.0</td>\n",
       "      <td>2.0</td>\n",
       "      <td>1.0</td>\n",
       "      <td>24.0</td>\n",
       "      <td>2.0</td>\n",
       "      <td>2.0</td>\n",
       "      <td>-1.0</td>\n",
       "      <td>-1.0</td>\n",
       "      <td>-2.0</td>\n",
       "      <td>...</td>\n",
       "      <td>0.0</td>\n",
       "      <td>0.0</td>\n",
       "      <td>0.0</td>\n",
       "      <td>0.0</td>\n",
       "      <td>689.0</td>\n",
       "      <td>0.0</td>\n",
       "      <td>0.0</td>\n",
       "      <td>0.0</td>\n",
       "      <td>0.0</td>\n",
       "      <td>1.0</td>\n",
       "    </tr>\n",
       "    <tr>\n",
       "      <th>2</th>\n",
       "      <td>120000</td>\n",
       "      <td>2.0</td>\n",
       "      <td>2.0</td>\n",
       "      <td>2.0</td>\n",
       "      <td>26.0</td>\n",
       "      <td>-1.0</td>\n",
       "      <td>2.0</td>\n",
       "      <td>0.0</td>\n",
       "      <td>0.0</td>\n",
       "      <td>0.0</td>\n",
       "      <td>...</td>\n",
       "      <td>3272.0</td>\n",
       "      <td>3455.0</td>\n",
       "      <td>3261.0</td>\n",
       "      <td>0.0</td>\n",
       "      <td>1000.0</td>\n",
       "      <td>1000.0</td>\n",
       "      <td>1000.0</td>\n",
       "      <td>0.0</td>\n",
       "      <td>2000.0</td>\n",
       "      <td>1.0</td>\n",
       "    </tr>\n",
       "    <tr>\n",
       "      <th>3</th>\n",
       "      <td>90000</td>\n",
       "      <td>2.0</td>\n",
       "      <td>2.0</td>\n",
       "      <td>2.0</td>\n",
       "      <td>34.0</td>\n",
       "      <td>0.0</td>\n",
       "      <td>0.0</td>\n",
       "      <td>0.0</td>\n",
       "      <td>0.0</td>\n",
       "      <td>0.0</td>\n",
       "      <td>...</td>\n",
       "      <td>14331.0</td>\n",
       "      <td>14948.0</td>\n",
       "      <td>15549.0</td>\n",
       "      <td>1518.0</td>\n",
       "      <td>1500.0</td>\n",
       "      <td>1000.0</td>\n",
       "      <td>1000.0</td>\n",
       "      <td>1000.0</td>\n",
       "      <td>5000.0</td>\n",
       "      <td>0.0</td>\n",
       "    </tr>\n",
       "    <tr>\n",
       "      <th>4</th>\n",
       "      <td>50000</td>\n",
       "      <td>2.0</td>\n",
       "      <td>2.0</td>\n",
       "      <td>1.0</td>\n",
       "      <td>37.0</td>\n",
       "      <td>0.0</td>\n",
       "      <td>0.0</td>\n",
       "      <td>0.0</td>\n",
       "      <td>0.0</td>\n",
       "      <td>0.0</td>\n",
       "      <td>...</td>\n",
       "      <td>28314.0</td>\n",
       "      <td>28959.0</td>\n",
       "      <td>29547.0</td>\n",
       "      <td>2000.0</td>\n",
       "      <td>2019.0</td>\n",
       "      <td>1200.0</td>\n",
       "      <td>1100.0</td>\n",
       "      <td>1069.0</td>\n",
       "      <td>1000.0</td>\n",
       "      <td>0.0</td>\n",
       "    </tr>\n",
       "    <tr>\n",
       "      <th>5</th>\n",
       "      <td>50000</td>\n",
       "      <td>1.0</td>\n",
       "      <td>2.0</td>\n",
       "      <td>1.0</td>\n",
       "      <td>57.0</td>\n",
       "      <td>-1.0</td>\n",
       "      <td>0.0</td>\n",
       "      <td>-1.0</td>\n",
       "      <td>0.0</td>\n",
       "      <td>0.0</td>\n",
       "      <td>...</td>\n",
       "      <td>20940.0</td>\n",
       "      <td>19146.0</td>\n",
       "      <td>19131.0</td>\n",
       "      <td>2000.0</td>\n",
       "      <td>36681.0</td>\n",
       "      <td>10000.0</td>\n",
       "      <td>9000.0</td>\n",
       "      <td>689.0</td>\n",
       "      <td>679.0</td>\n",
       "      <td>0.0</td>\n",
       "    </tr>\n",
       "    <tr>\n",
       "      <th>...</th>\n",
       "      <td>...</td>\n",
       "      <td>...</td>\n",
       "      <td>...</td>\n",
       "      <td>...</td>\n",
       "      <td>...</td>\n",
       "      <td>...</td>\n",
       "      <td>...</td>\n",
       "      <td>...</td>\n",
       "      <td>...</td>\n",
       "      <td>...</td>\n",
       "      <td>...</td>\n",
       "      <td>...</td>\n",
       "      <td>...</td>\n",
       "      <td>...</td>\n",
       "      <td>...</td>\n",
       "      <td>...</td>\n",
       "      <td>...</td>\n",
       "      <td>...</td>\n",
       "      <td>...</td>\n",
       "      <td>...</td>\n",
       "      <td>...</td>\n",
       "    </tr>\n",
       "    <tr>\n",
       "      <th>29996</th>\n",
       "      <td>220000</td>\n",
       "      <td>1.0</td>\n",
       "      <td>3.0</td>\n",
       "      <td>1.0</td>\n",
       "      <td>39.0</td>\n",
       "      <td>0.0</td>\n",
       "      <td>0.0</td>\n",
       "      <td>0.0</td>\n",
       "      <td>0.0</td>\n",
       "      <td>0.0</td>\n",
       "      <td>...</td>\n",
       "      <td>88004.0</td>\n",
       "      <td>31237.0</td>\n",
       "      <td>15980.0</td>\n",
       "      <td>8500.0</td>\n",
       "      <td>20000.0</td>\n",
       "      <td>5003.0</td>\n",
       "      <td>3047.0</td>\n",
       "      <td>5000.0</td>\n",
       "      <td>1000.0</td>\n",
       "      <td>0.0</td>\n",
       "    </tr>\n",
       "    <tr>\n",
       "      <th>29997</th>\n",
       "      <td>150000</td>\n",
       "      <td>1.0</td>\n",
       "      <td>3.0</td>\n",
       "      <td>2.0</td>\n",
       "      <td>43.0</td>\n",
       "      <td>-1.0</td>\n",
       "      <td>-1.0</td>\n",
       "      <td>-1.0</td>\n",
       "      <td>-1.0</td>\n",
       "      <td>0.0</td>\n",
       "      <td>...</td>\n",
       "      <td>8979.0</td>\n",
       "      <td>5190.0</td>\n",
       "      <td>0.0</td>\n",
       "      <td>1837.0</td>\n",
       "      <td>3526.0</td>\n",
       "      <td>8998.0</td>\n",
       "      <td>129.0</td>\n",
       "      <td>0.0</td>\n",
       "      <td>0.0</td>\n",
       "      <td>0.0</td>\n",
       "    </tr>\n",
       "    <tr>\n",
       "      <th>29998</th>\n",
       "      <td>30000</td>\n",
       "      <td>1.0</td>\n",
       "      <td>2.0</td>\n",
       "      <td>2.0</td>\n",
       "      <td>37.0</td>\n",
       "      <td>4.0</td>\n",
       "      <td>3.0</td>\n",
       "      <td>2.0</td>\n",
       "      <td>-1.0</td>\n",
       "      <td>0.0</td>\n",
       "      <td>...</td>\n",
       "      <td>20878.0</td>\n",
       "      <td>20582.0</td>\n",
       "      <td>19357.0</td>\n",
       "      <td>0.0</td>\n",
       "      <td>0.0</td>\n",
       "      <td>22000.0</td>\n",
       "      <td>4200.0</td>\n",
       "      <td>2000.0</td>\n",
       "      <td>3100.0</td>\n",
       "      <td>1.0</td>\n",
       "    </tr>\n",
       "    <tr>\n",
       "      <th>29999</th>\n",
       "      <td>80000</td>\n",
       "      <td>1.0</td>\n",
       "      <td>3.0</td>\n",
       "      <td>1.0</td>\n",
       "      <td>41.0</td>\n",
       "      <td>1.0</td>\n",
       "      <td>-1.0</td>\n",
       "      <td>0.0</td>\n",
       "      <td>0.0</td>\n",
       "      <td>0.0</td>\n",
       "      <td>...</td>\n",
       "      <td>52774.0</td>\n",
       "      <td>11855.0</td>\n",
       "      <td>48944.0</td>\n",
       "      <td>85900.0</td>\n",
       "      <td>3409.0</td>\n",
       "      <td>1178.0</td>\n",
       "      <td>1926.0</td>\n",
       "      <td>52964.0</td>\n",
       "      <td>1804.0</td>\n",
       "      <td>1.0</td>\n",
       "    </tr>\n",
       "    <tr>\n",
       "      <th>30000</th>\n",
       "      <td>50000</td>\n",
       "      <td>1.0</td>\n",
       "      <td>2.0</td>\n",
       "      <td>1.0</td>\n",
       "      <td>46.0</td>\n",
       "      <td>0.0</td>\n",
       "      <td>0.0</td>\n",
       "      <td>0.0</td>\n",
       "      <td>0.0</td>\n",
       "      <td>0.0</td>\n",
       "      <td>...</td>\n",
       "      <td>36535.0</td>\n",
       "      <td>32428.0</td>\n",
       "      <td>15313.0</td>\n",
       "      <td>2078.0</td>\n",
       "      <td>1800.0</td>\n",
       "      <td>1430.0</td>\n",
       "      <td>1000.0</td>\n",
       "      <td>1000.0</td>\n",
       "      <td>1000.0</td>\n",
       "      <td>1.0</td>\n",
       "    </tr>\n",
       "  </tbody>\n",
       "</table>\n",
       "<p>30000 rows × 24 columns</p>\n",
       "</div>"
      ],
      "text/plain": [
       "       credit  gender  education  marital   age  hpp Sep 2005  hpp Aug 2005  \\\n",
       "ID                                                                            \n",
       "1       20000     2.0        2.0      1.0  24.0           2.0           2.0   \n",
       "2      120000     2.0        2.0      2.0  26.0          -1.0           2.0   \n",
       "3       90000     2.0        2.0      2.0  34.0           0.0           0.0   \n",
       "4       50000     2.0        2.0      1.0  37.0           0.0           0.0   \n",
       "5       50000     1.0        2.0      1.0  57.0          -1.0           0.0   \n",
       "...       ...     ...        ...      ...   ...           ...           ...   \n",
       "29996  220000     1.0        3.0      1.0  39.0           0.0           0.0   \n",
       "29997  150000     1.0        3.0      2.0  43.0          -1.0          -1.0   \n",
       "29998   30000     1.0        2.0      2.0  37.0           4.0           3.0   \n",
       "29999   80000     1.0        3.0      1.0  41.0           1.0          -1.0   \n",
       "30000   50000     1.0        2.0      1.0  46.0           0.0           0.0   \n",
       "\n",
       "       hpp Jul 2005  hpp Jun 2005  hpp May 2005  ...  abs Jun 2005  \\\n",
       "ID                                               ...                 \n",
       "1              -1.0          -1.0          -2.0  ...           0.0   \n",
       "2               0.0           0.0           0.0  ...        3272.0   \n",
       "3               0.0           0.0           0.0  ...       14331.0   \n",
       "4               0.0           0.0           0.0  ...       28314.0   \n",
       "5              -1.0           0.0           0.0  ...       20940.0   \n",
       "...             ...           ...           ...  ...           ...   \n",
       "29996           0.0           0.0           0.0  ...       88004.0   \n",
       "29997          -1.0          -1.0           0.0  ...        8979.0   \n",
       "29998           2.0          -1.0           0.0  ...       20878.0   \n",
       "29999           0.0           0.0           0.0  ...       52774.0   \n",
       "30000           0.0           0.0           0.0  ...       36535.0   \n",
       "\n",
       "       abs May 2005  abs Apr 2005  app Sep 2005  app Aug 2005  app Jul 2005  \\\n",
       "ID                                                                            \n",
       "1               0.0           0.0           0.0         689.0           0.0   \n",
       "2            3455.0        3261.0           0.0        1000.0        1000.0   \n",
       "3           14948.0       15549.0        1518.0        1500.0        1000.0   \n",
       "4           28959.0       29547.0        2000.0        2019.0        1200.0   \n",
       "5           19146.0       19131.0        2000.0       36681.0       10000.0   \n",
       "...             ...           ...           ...           ...           ...   \n",
       "29996       31237.0       15980.0        8500.0       20000.0        5003.0   \n",
       "29997        5190.0           0.0        1837.0        3526.0        8998.0   \n",
       "29998       20582.0       19357.0           0.0           0.0       22000.0   \n",
       "29999       11855.0       48944.0       85900.0        3409.0        1178.0   \n",
       "30000       32428.0       15313.0        2078.0        1800.0        1430.0   \n",
       "\n",
       "       app Jun 2005  app May 2005  app Apr 2005  Y credibility  \n",
       "ID                                                              \n",
       "1               0.0           0.0           0.0            1.0  \n",
       "2            1000.0           0.0        2000.0            1.0  \n",
       "3            1000.0        1000.0        5000.0            0.0  \n",
       "4            1100.0        1069.0        1000.0            0.0  \n",
       "5            9000.0         689.0         679.0            0.0  \n",
       "...             ...           ...           ...            ...  \n",
       "29996        3047.0        5000.0        1000.0            0.0  \n",
       "29997         129.0           0.0           0.0            0.0  \n",
       "29998        4200.0        2000.0        3100.0            1.0  \n",
       "29999        1926.0       52964.0        1804.0            1.0  \n",
       "30000        1000.0        1000.0        1000.0            1.0  \n",
       "\n",
       "[30000 rows x 24 columns]"
      ]
     },
     "execution_count": 3,
     "metadata": {},
     "output_type": "execute_result"
    }
   ],
   "source": [
    "credit_df = pd.read_csv(Path, index_col = 0)\n",
    "credit_df.rename(columns = {'X1' : 'credit', 'X2': 'gender', 'X3': 'education', 'X4': 'marital', 'X5': 'age',\n",
    "                      'X6' : 'hpp Sep 2005', 'X7' : 'hpp Aug 2005', 'X8' : 'hpp Jul 2005', 'X9' : 'hpp Jun 2005', 'X10' : 'hpp May 2005', 'X11' : 'hpp Apr 2005', \n",
    "                      'X12' : 'abs Sep 2005', 'X13' : 'abs Aug 2005', 'X14' : 'abs Jul 2005', 'X15' : 'abs Jun 2005', 'X16' : 'abs May 2005', 'X17' : 'abs Apr 2005', \n",
    "                      'X18' : 'app Sep 2005', 'X19' : 'app Aug 2005', 'X20' : 'app Jul 2005', 'X21' : 'app Jun 2005', 'X22' : 'app May 2005', 'X23' : 'app Apr 2005', \n",
    "                            'Y':'Y credibility'}, inplace = True)\n",
    "\n",
    "\n",
    "\n",
    "df = credit_df.copy()\n",
    "\n",
    "credit_df = credit_df.drop(['gender','education','marital','Y credibility'],axis=1)\n",
    "df"
   ]
  },
  {
   "cell_type": "code",
   "execution_count": 4,
   "metadata": {
    "colab": {
     "base_uri": "https://localhost:8080/"
    },
    "id": "m4C4Vl9P6Mld",
    "outputId": "64717339-beb0-4b9f-aece-d38470c54ffa"
   },
   "outputs": [
    {
     "data": {
      "text/plain": [
       "(30000, 24)"
      ]
     },
     "execution_count": 4,
     "metadata": {},
     "output_type": "execute_result"
    }
   ],
   "source": [
    "df.shape"
   ]
  },
  {
   "cell_type": "code",
   "execution_count": 5,
   "metadata": {},
   "outputs": [
    {
     "data": {
      "text/plain": [
       "(30000, 20)"
      ]
     },
     "execution_count": 5,
     "metadata": {},
     "output_type": "execute_result"
    }
   ],
   "source": [
    "df_pca = df.drop(['gender','education','marital','Y credibility'],axis=1)\n",
    "df_pca.shape"
   ]
  },
  {
   "cell_type": "markdown",
   "metadata": {
    "id": "xAYdWuxn6rHb"
   },
   "source": [
    "For each client, the data include 20 numerical variables, and we are interested in reducing this dimension.\n",
    "\n",
    "Principal Component Analysis can tell you what variables in your data are the most important. "
   ]
  },
  {
   "cell_type": "code",
   "execution_count": 6,
   "metadata": {},
   "outputs": [
    {
     "data": {
      "text/html": [
       "<div>\n",
       "<style scoped>\n",
       "    .dataframe tbody tr th:only-of-type {\n",
       "        vertical-align: middle;\n",
       "    }\n",
       "\n",
       "    .dataframe tbody tr th {\n",
       "        vertical-align: top;\n",
       "    }\n",
       "\n",
       "    .dataframe thead th {\n",
       "        text-align: right;\n",
       "    }\n",
       "</style>\n",
       "<table border=\"1\" class=\"dataframe\">\n",
       "  <thead>\n",
       "    <tr style=\"text-align: right;\">\n",
       "      <th></th>\n",
       "      <th>credit</th>\n",
       "      <th>gender</th>\n",
       "      <th>education</th>\n",
       "      <th>marital</th>\n",
       "      <th>age</th>\n",
       "      <th>hpp Sep 2005</th>\n",
       "      <th>hpp Aug 2005</th>\n",
       "      <th>hpp Jul 2005</th>\n",
       "      <th>hpp Jun 2005</th>\n",
       "      <th>hpp May 2005</th>\n",
       "      <th>...</th>\n",
       "      <th>abs Jun 2005</th>\n",
       "      <th>abs May 2005</th>\n",
       "      <th>abs Apr 2005</th>\n",
       "      <th>app Sep 2005</th>\n",
       "      <th>app Aug 2005</th>\n",
       "      <th>app Jul 2005</th>\n",
       "      <th>app Jun 2005</th>\n",
       "      <th>app May 2005</th>\n",
       "      <th>app Apr 2005</th>\n",
       "      <th>Y credibility</th>\n",
       "    </tr>\n",
       "    <tr>\n",
       "      <th>ID</th>\n",
       "      <th></th>\n",
       "      <th></th>\n",
       "      <th></th>\n",
       "      <th></th>\n",
       "      <th></th>\n",
       "      <th></th>\n",
       "      <th></th>\n",
       "      <th></th>\n",
       "      <th></th>\n",
       "      <th></th>\n",
       "      <th></th>\n",
       "      <th></th>\n",
       "      <th></th>\n",
       "      <th></th>\n",
       "      <th></th>\n",
       "      <th></th>\n",
       "      <th></th>\n",
       "      <th></th>\n",
       "      <th></th>\n",
       "      <th></th>\n",
       "      <th></th>\n",
       "    </tr>\n",
       "  </thead>\n",
       "  <tbody>\n",
       "    <tr>\n",
       "      <th>1</th>\n",
       "      <td>20000</td>\n",
       "      <td>2.0</td>\n",
       "      <td>2.0</td>\n",
       "      <td>1.0</td>\n",
       "      <td>24.0</td>\n",
       "      <td>2.0</td>\n",
       "      <td>2.0</td>\n",
       "      <td>-1.0</td>\n",
       "      <td>-1.0</td>\n",
       "      <td>-2.0</td>\n",
       "      <td>...</td>\n",
       "      <td>0.0</td>\n",
       "      <td>0.0</td>\n",
       "      <td>0.0</td>\n",
       "      <td>0.0</td>\n",
       "      <td>689.0</td>\n",
       "      <td>0.0</td>\n",
       "      <td>0.0</td>\n",
       "      <td>0.0</td>\n",
       "      <td>0.0</td>\n",
       "      <td>1.0</td>\n",
       "    </tr>\n",
       "    <tr>\n",
       "      <th>2</th>\n",
       "      <td>120000</td>\n",
       "      <td>2.0</td>\n",
       "      <td>2.0</td>\n",
       "      <td>2.0</td>\n",
       "      <td>26.0</td>\n",
       "      <td>-1.0</td>\n",
       "      <td>2.0</td>\n",
       "      <td>0.0</td>\n",
       "      <td>0.0</td>\n",
       "      <td>0.0</td>\n",
       "      <td>...</td>\n",
       "      <td>3272.0</td>\n",
       "      <td>3455.0</td>\n",
       "      <td>3261.0</td>\n",
       "      <td>0.0</td>\n",
       "      <td>1000.0</td>\n",
       "      <td>1000.0</td>\n",
       "      <td>1000.0</td>\n",
       "      <td>0.0</td>\n",
       "      <td>2000.0</td>\n",
       "      <td>1.0</td>\n",
       "    </tr>\n",
       "    <tr>\n",
       "      <th>3</th>\n",
       "      <td>90000</td>\n",
       "      <td>2.0</td>\n",
       "      <td>2.0</td>\n",
       "      <td>2.0</td>\n",
       "      <td>34.0</td>\n",
       "      <td>0.0</td>\n",
       "      <td>0.0</td>\n",
       "      <td>0.0</td>\n",
       "      <td>0.0</td>\n",
       "      <td>0.0</td>\n",
       "      <td>...</td>\n",
       "      <td>14331.0</td>\n",
       "      <td>14948.0</td>\n",
       "      <td>15549.0</td>\n",
       "      <td>1518.0</td>\n",
       "      <td>1500.0</td>\n",
       "      <td>1000.0</td>\n",
       "      <td>1000.0</td>\n",
       "      <td>1000.0</td>\n",
       "      <td>5000.0</td>\n",
       "      <td>0.0</td>\n",
       "    </tr>\n",
       "    <tr>\n",
       "      <th>4</th>\n",
       "      <td>50000</td>\n",
       "      <td>2.0</td>\n",
       "      <td>2.0</td>\n",
       "      <td>1.0</td>\n",
       "      <td>37.0</td>\n",
       "      <td>0.0</td>\n",
       "      <td>0.0</td>\n",
       "      <td>0.0</td>\n",
       "      <td>0.0</td>\n",
       "      <td>0.0</td>\n",
       "      <td>...</td>\n",
       "      <td>28314.0</td>\n",
       "      <td>28959.0</td>\n",
       "      <td>29547.0</td>\n",
       "      <td>2000.0</td>\n",
       "      <td>2019.0</td>\n",
       "      <td>1200.0</td>\n",
       "      <td>1100.0</td>\n",
       "      <td>1069.0</td>\n",
       "      <td>1000.0</td>\n",
       "      <td>0.0</td>\n",
       "    </tr>\n",
       "    <tr>\n",
       "      <th>5</th>\n",
       "      <td>50000</td>\n",
       "      <td>1.0</td>\n",
       "      <td>2.0</td>\n",
       "      <td>1.0</td>\n",
       "      <td>57.0</td>\n",
       "      <td>-1.0</td>\n",
       "      <td>0.0</td>\n",
       "      <td>-1.0</td>\n",
       "      <td>0.0</td>\n",
       "      <td>0.0</td>\n",
       "      <td>...</td>\n",
       "      <td>20940.0</td>\n",
       "      <td>19146.0</td>\n",
       "      <td>19131.0</td>\n",
       "      <td>2000.0</td>\n",
       "      <td>36681.0</td>\n",
       "      <td>10000.0</td>\n",
       "      <td>9000.0</td>\n",
       "      <td>689.0</td>\n",
       "      <td>679.0</td>\n",
       "      <td>0.0</td>\n",
       "    </tr>\n",
       "    <tr>\n",
       "      <th>...</th>\n",
       "      <td>...</td>\n",
       "      <td>...</td>\n",
       "      <td>...</td>\n",
       "      <td>...</td>\n",
       "      <td>...</td>\n",
       "      <td>...</td>\n",
       "      <td>...</td>\n",
       "      <td>...</td>\n",
       "      <td>...</td>\n",
       "      <td>...</td>\n",
       "      <td>...</td>\n",
       "      <td>...</td>\n",
       "      <td>...</td>\n",
       "      <td>...</td>\n",
       "      <td>...</td>\n",
       "      <td>...</td>\n",
       "      <td>...</td>\n",
       "      <td>...</td>\n",
       "      <td>...</td>\n",
       "      <td>...</td>\n",
       "      <td>...</td>\n",
       "    </tr>\n",
       "    <tr>\n",
       "      <th>29996</th>\n",
       "      <td>220000</td>\n",
       "      <td>1.0</td>\n",
       "      <td>3.0</td>\n",
       "      <td>1.0</td>\n",
       "      <td>39.0</td>\n",
       "      <td>0.0</td>\n",
       "      <td>0.0</td>\n",
       "      <td>0.0</td>\n",
       "      <td>0.0</td>\n",
       "      <td>0.0</td>\n",
       "      <td>...</td>\n",
       "      <td>88004.0</td>\n",
       "      <td>31237.0</td>\n",
       "      <td>15980.0</td>\n",
       "      <td>8500.0</td>\n",
       "      <td>20000.0</td>\n",
       "      <td>5003.0</td>\n",
       "      <td>3047.0</td>\n",
       "      <td>5000.0</td>\n",
       "      <td>1000.0</td>\n",
       "      <td>0.0</td>\n",
       "    </tr>\n",
       "    <tr>\n",
       "      <th>29997</th>\n",
       "      <td>150000</td>\n",
       "      <td>1.0</td>\n",
       "      <td>3.0</td>\n",
       "      <td>2.0</td>\n",
       "      <td>43.0</td>\n",
       "      <td>-1.0</td>\n",
       "      <td>-1.0</td>\n",
       "      <td>-1.0</td>\n",
       "      <td>-1.0</td>\n",
       "      <td>0.0</td>\n",
       "      <td>...</td>\n",
       "      <td>8979.0</td>\n",
       "      <td>5190.0</td>\n",
       "      <td>0.0</td>\n",
       "      <td>1837.0</td>\n",
       "      <td>3526.0</td>\n",
       "      <td>8998.0</td>\n",
       "      <td>129.0</td>\n",
       "      <td>0.0</td>\n",
       "      <td>0.0</td>\n",
       "      <td>0.0</td>\n",
       "    </tr>\n",
       "    <tr>\n",
       "      <th>29998</th>\n",
       "      <td>30000</td>\n",
       "      <td>1.0</td>\n",
       "      <td>2.0</td>\n",
       "      <td>2.0</td>\n",
       "      <td>37.0</td>\n",
       "      <td>4.0</td>\n",
       "      <td>3.0</td>\n",
       "      <td>2.0</td>\n",
       "      <td>-1.0</td>\n",
       "      <td>0.0</td>\n",
       "      <td>...</td>\n",
       "      <td>20878.0</td>\n",
       "      <td>20582.0</td>\n",
       "      <td>19357.0</td>\n",
       "      <td>0.0</td>\n",
       "      <td>0.0</td>\n",
       "      <td>22000.0</td>\n",
       "      <td>4200.0</td>\n",
       "      <td>2000.0</td>\n",
       "      <td>3100.0</td>\n",
       "      <td>1.0</td>\n",
       "    </tr>\n",
       "    <tr>\n",
       "      <th>29999</th>\n",
       "      <td>80000</td>\n",
       "      <td>1.0</td>\n",
       "      <td>3.0</td>\n",
       "      <td>1.0</td>\n",
       "      <td>41.0</td>\n",
       "      <td>1.0</td>\n",
       "      <td>-1.0</td>\n",
       "      <td>0.0</td>\n",
       "      <td>0.0</td>\n",
       "      <td>0.0</td>\n",
       "      <td>...</td>\n",
       "      <td>52774.0</td>\n",
       "      <td>11855.0</td>\n",
       "      <td>48944.0</td>\n",
       "      <td>85900.0</td>\n",
       "      <td>3409.0</td>\n",
       "      <td>1178.0</td>\n",
       "      <td>1926.0</td>\n",
       "      <td>52964.0</td>\n",
       "      <td>1804.0</td>\n",
       "      <td>1.0</td>\n",
       "    </tr>\n",
       "    <tr>\n",
       "      <th>30000</th>\n",
       "      <td>50000</td>\n",
       "      <td>1.0</td>\n",
       "      <td>2.0</td>\n",
       "      <td>1.0</td>\n",
       "      <td>46.0</td>\n",
       "      <td>0.0</td>\n",
       "      <td>0.0</td>\n",
       "      <td>0.0</td>\n",
       "      <td>0.0</td>\n",
       "      <td>0.0</td>\n",
       "      <td>...</td>\n",
       "      <td>36535.0</td>\n",
       "      <td>32428.0</td>\n",
       "      <td>15313.0</td>\n",
       "      <td>2078.0</td>\n",
       "      <td>1800.0</td>\n",
       "      <td>1430.0</td>\n",
       "      <td>1000.0</td>\n",
       "      <td>1000.0</td>\n",
       "      <td>1000.0</td>\n",
       "      <td>1.0</td>\n",
       "    </tr>\n",
       "  </tbody>\n",
       "</table>\n",
       "<p>29958 rows × 24 columns</p>\n",
       "</div>"
      ],
      "text/plain": [
       "       credit  gender  education  marital   age  hpp Sep 2005  hpp Aug 2005  \\\n",
       "ID                                                                            \n",
       "1       20000     2.0        2.0      1.0  24.0           2.0           2.0   \n",
       "2      120000     2.0        2.0      2.0  26.0          -1.0           2.0   \n",
       "3       90000     2.0        2.0      2.0  34.0           0.0           0.0   \n",
       "4       50000     2.0        2.0      1.0  37.0           0.0           0.0   \n",
       "5       50000     1.0        2.0      1.0  57.0          -1.0           0.0   \n",
       "...       ...     ...        ...      ...   ...           ...           ...   \n",
       "29996  220000     1.0        3.0      1.0  39.0           0.0           0.0   \n",
       "29997  150000     1.0        3.0      2.0  43.0          -1.0          -1.0   \n",
       "29998   30000     1.0        2.0      2.0  37.0           4.0           3.0   \n",
       "29999   80000     1.0        3.0      1.0  41.0           1.0          -1.0   \n",
       "30000   50000     1.0        2.0      1.0  46.0           0.0           0.0   \n",
       "\n",
       "       hpp Jul 2005  hpp Jun 2005  hpp May 2005  ...  abs Jun 2005  \\\n",
       "ID                                               ...                 \n",
       "1              -1.0          -1.0          -2.0  ...           0.0   \n",
       "2               0.0           0.0           0.0  ...        3272.0   \n",
       "3               0.0           0.0           0.0  ...       14331.0   \n",
       "4               0.0           0.0           0.0  ...       28314.0   \n",
       "5              -1.0           0.0           0.0  ...       20940.0   \n",
       "...             ...           ...           ...  ...           ...   \n",
       "29996           0.0           0.0           0.0  ...       88004.0   \n",
       "29997          -1.0          -1.0           0.0  ...        8979.0   \n",
       "29998           2.0          -1.0           0.0  ...       20878.0   \n",
       "29999           0.0           0.0           0.0  ...       52774.0   \n",
       "30000           0.0           0.0           0.0  ...       36535.0   \n",
       "\n",
       "       abs May 2005  abs Apr 2005  app Sep 2005  app Aug 2005  app Jul 2005  \\\n",
       "ID                                                                            \n",
       "1               0.0           0.0           0.0         689.0           0.0   \n",
       "2            3455.0        3261.0           0.0        1000.0        1000.0   \n",
       "3           14948.0       15549.0        1518.0        1500.0        1000.0   \n",
       "4           28959.0       29547.0        2000.0        2019.0        1200.0   \n",
       "5           19146.0       19131.0        2000.0       36681.0       10000.0   \n",
       "...             ...           ...           ...           ...           ...   \n",
       "29996       31237.0       15980.0        8500.0       20000.0        5003.0   \n",
       "29997        5190.0           0.0        1837.0        3526.0        8998.0   \n",
       "29998       20582.0       19357.0           0.0           0.0       22000.0   \n",
       "29999       11855.0       48944.0       85900.0        3409.0        1178.0   \n",
       "30000       32428.0       15313.0        2078.0        1800.0        1430.0   \n",
       "\n",
       "       app Jun 2005  app May 2005  app Apr 2005  Y credibility  \n",
       "ID                                                              \n",
       "1               0.0           0.0           0.0            1.0  \n",
       "2            1000.0           0.0        2000.0            1.0  \n",
       "3            1000.0        1000.0        5000.0            0.0  \n",
       "4            1100.0        1069.0        1000.0            0.0  \n",
       "5            9000.0         689.0         679.0            0.0  \n",
       "...             ...           ...           ...            ...  \n",
       "29996        3047.0        5000.0        1000.0            0.0  \n",
       "29997         129.0           0.0           0.0            0.0  \n",
       "29998        4200.0        2000.0        3100.0            1.0  \n",
       "29999        1926.0       52964.0        1804.0            1.0  \n",
       "30000        1000.0        1000.0        1000.0            1.0  \n",
       "\n",
       "[29958 rows x 24 columns]"
      ]
     },
     "execution_count": 6,
     "metadata": {},
     "output_type": "execute_result"
    }
   ],
   "source": [
    "df.dropna(axis = 0, inplace = True) # axis 1 is columns / axis 0 is rows. dat\n",
    "df"
   ]
  },
  {
   "cell_type": "markdown",
   "metadata": {},
   "source": [
    "We focus first on two variables: `credit` and consumer `age`: "
   ]
  },
  {
   "cell_type": "code",
   "execution_count": 7,
   "metadata": {
    "colab": {
     "base_uri": "https://localhost:8080/",
     "height": 109
    },
    "id": "pwvuGk-13Itd",
    "outputId": "3976f628-cc49-4f2b-f8e5-ccb8047bcd7f"
   },
   "outputs": [
    {
     "data": {
      "text/html": [
       "<div>\n",
       "<style scoped>\n",
       "    .dataframe tbody tr th:only-of-type {\n",
       "        vertical-align: middle;\n",
       "    }\n",
       "\n",
       "    .dataframe tbody tr th {\n",
       "        vertical-align: top;\n",
       "    }\n",
       "\n",
       "    .dataframe thead th {\n",
       "        text-align: right;\n",
       "    }\n",
       "</style>\n",
       "<table border=\"1\" class=\"dataframe\">\n",
       "  <thead>\n",
       "    <tr style=\"text-align: right;\">\n",
       "      <th></th>\n",
       "      <th>credit</th>\n",
       "      <th>age</th>\n",
       "    </tr>\n",
       "  </thead>\n",
       "  <tbody>\n",
       "    <tr>\n",
       "      <th>credit</th>\n",
       "      <td>1.000000</td>\n",
       "      <td>0.144515</td>\n",
       "    </tr>\n",
       "    <tr>\n",
       "      <th>age</th>\n",
       "      <td>0.144515</td>\n",
       "      <td>1.000000</td>\n",
       "    </tr>\n",
       "  </tbody>\n",
       "</table>\n",
       "</div>"
      ],
      "text/plain": [
       "          credit       age\n",
       "credit  1.000000  0.144515\n",
       "age     0.144515  1.000000"
      ]
     },
     "execution_count": 7,
     "metadata": {},
     "output_type": "execute_result"
    }
   ],
   "source": [
    "ndf = df[['credit', 'age']]\n",
    "ndf.corr()"
   ]
  },
  {
   "cell_type": "code",
   "execution_count": 8,
   "metadata": {},
   "outputs": [
    {
     "data": {
      "text/plain": [
       "167555.9"
      ]
     },
     "execution_count": 8,
     "metadata": {},
     "output_type": "execute_result"
    }
   ],
   "source": [
    "round(df.credit.mean(),2)"
   ]
  },
  {
   "cell_type": "code",
   "execution_count": 9,
   "metadata": {},
   "outputs": [
    {
     "data": {
      "text/plain": [
       "35.48"
      ]
     },
     "execution_count": 9,
     "metadata": {},
     "output_type": "execute_result"
    }
   ],
   "source": [
    "round(df.age.mean(),2)\n"
   ]
  },
  {
   "cell_type": "code",
   "execution_count": 10,
   "metadata": {},
   "outputs": [
    {
     "data": {
      "text/plain": [
       "array([[1.68317668e+10, 1.72759143e+05],\n",
       "       [1.72759143e+05, 8.49036715e+01]])"
      ]
     },
     "execution_count": 10,
     "metadata": {},
     "output_type": "execute_result"
    }
   ],
   "source": [
    "Varience = np.cov([df.credit, df.age])\n",
    "Varience"
   ]
  },
  {
   "cell_type": "code",
   "execution_count": 11,
   "metadata": {},
   "outputs": [
    {
     "data": {
      "text/plain": [
       "16831766859.49057"
      ]
     },
     "execution_count": 11,
     "metadata": {},
     "output_type": "execute_result"
    }
   ],
   "source": [
    "ndf = df[['credit','age']]\n",
    "ndf.var().sum()"
   ]
  },
  {
   "cell_type": "code",
   "execution_count": 12,
   "metadata": {},
   "outputs": [],
   "source": [
    "t= ndf.var().sum()\n",
    "varM =Varience[0][0]\n",
    "varA = Varience[1][1]"
   ]
  },
  {
   "cell_type": "code",
   "execution_count": 13,
   "metadata": {},
   "outputs": [
    {
     "name": "stdout",
     "output_type": "stream",
     "text": [
      "Total Varience \t\t\t: 16831766859.49\n",
      "Varience prop. of credit \t: 100.0 %\n",
      "Varience prop. of age \t: 0.0 %\n"
     ]
    }
   ],
   "source": [
    "print('Total Varience \\t\\t\\t:', t.round(2) )\n",
    "print('Varience prop. of credit \\t:', ((varM/t)*100).round(2),'%' )\n",
    "print('Varience prop. of age \\t:', ((varA/t)*100).round(2),'%' )"
   ]
  },
  {
   "cell_type": "markdown",
   "metadata": {},
   "source": [
    "If we drop `age` for the sake of dimension reduction, we lose at least 0% of the total variability. "
   ]
  },
  {
   "cell_type": "code",
   "execution_count": 14,
   "metadata": {},
   "outputs": [
    {
     "data": {
      "text/html": [
       "<div>\n",
       "<style scoped>\n",
       "    .dataframe tbody tr th:only-of-type {\n",
       "        vertical-align: middle;\n",
       "    }\n",
       "\n",
       "    .dataframe tbody tr th {\n",
       "        vertical-align: top;\n",
       "    }\n",
       "\n",
       "    .dataframe thead th {\n",
       "        text-align: right;\n",
       "    }\n",
       "</style>\n",
       "<table border=\"1\" class=\"dataframe\">\n",
       "  <thead>\n",
       "    <tr style=\"text-align: right;\">\n",
       "      <th></th>\n",
       "      <th>credit</th>\n",
       "      <th>age</th>\n",
       "    </tr>\n",
       "  </thead>\n",
       "  <tbody>\n",
       "    <tr>\n",
       "      <th>credit</th>\n",
       "      <td>1.00</td>\n",
       "      <td>0.14</td>\n",
       "    </tr>\n",
       "    <tr>\n",
       "      <th>age</th>\n",
       "      <td>0.14</td>\n",
       "      <td>1.00</td>\n",
       "    </tr>\n",
       "  </tbody>\n",
       "</table>\n",
       "</div>"
      ],
      "text/plain": [
       "        credit   age\n",
       "credit    1.00  0.14\n",
       "age       0.14  1.00"
      ]
     },
     "execution_count": 14,
     "metadata": {},
     "output_type": "execute_result"
    }
   ],
   "source": [
    "ndf.corr().round(2)"
   ]
  },
  {
   "cell_type": "markdown",
   "metadata": {},
   "source": [
    "Roughly speaking, 14% of the total variation in both variables is actually “co-variation,” or variation in one variable that is duplicated by similar variation in the other variable. \n",
    "\n",
    "Can we use this fact to reduce the number of variables, while making maximum use of their unique contributions to the overall variation? \n",
    "\n",
    "Since there is redundancy in the information that the two variables contain, it might be possible to reduce the `two variables` to a `single variable` `without losing` `too much` information. \n",
    "\n",
    "The idea in PCA is to find a linear combination of the two variables that contains most, even if not all, of the information, so that this new variable can replace the two original variables.  "
   ]
  },
  {
   "cell_type": "markdown",
   "metadata": {},
   "source": [
    "The line `z1 (first principal component = PC1)` is the direction in which the variability of the points is largest. \n",
    "\n",
    "The `z2 (second principal component = PC2)`-axis is chosen to be perpendicular to the z1-axis.  "
   ]
  },
  {
   "cell_type": "code",
   "execution_count": 15,
   "metadata": {
    "id": "jEOhJk1Sg9fc"
   },
   "outputs": [],
   "source": [
    "import seaborn as sns"
   ]
  },
  {
   "cell_type": "code",
   "execution_count": 16,
   "metadata": {
    "colab": {
     "base_uri": "https://localhost:8080/",
     "height": 305
    },
    "id": "LA1DY6SFgsCN",
    "outputId": "69913999-3639-40b0-a363-c055a17de5e5"
   },
   "outputs": [
    {
     "data": {
      "text/plain": [
       "<AxesSubplot:xlabel='credit', ylabel='age'>"
      ]
     },
     "execution_count": 16,
     "metadata": {},
     "output_type": "execute_result"
    },
    {
     "data": {
      "image/png": "[encoded data removed]",
      "text/plain": [
       "<Figure size 432x288 with 1 Axes>"
      ]
     },
     "metadata": {
      "needs_background": "light"
     },
     "output_type": "display_data"
    }
   ],
   "source": [
    "p = sns.regplot(data = df,  \n",
    "                x = df.credit, \n",
    "                y = df.age\n",
    "               ) \n",
    "\n",
    "p"
   ]
  },
  {
   "cell_type": "code",
   "execution_count": 17,
   "metadata": {
    "id": "Nn3-e5zE3ouV"
   },
   "outputs": [],
   "source": [
    "import numpy as np\n",
    "from sklearn.decomposition import PCA"
   ]
  },
  {
   "cell_type": "code",
   "execution_count": 18,
   "metadata": {
    "colab": {
     "base_uri": "https://localhost:8080/",
     "height": 109
    },
    "id": "MjLgwAOV3EIU",
    "outputId": "b480fb9f-e823-4088-9262-d94579dcdd08"
   },
   "outputs": [
    {
     "data": {
      "text/html": [
       "<div>\n",
       "<style scoped>\n",
       "    .dataframe tbody tr th:only-of-type {\n",
       "        vertical-align: middle;\n",
       "    }\n",
       "\n",
       "    .dataframe tbody tr th {\n",
       "        vertical-align: top;\n",
       "    }\n",
       "\n",
       "    .dataframe thead th {\n",
       "        text-align: right;\n",
       "    }\n",
       "</style>\n",
       "<table border=\"1\" class=\"dataframe\">\n",
       "  <thead>\n",
       "    <tr style=\"text-align: right;\">\n",
       "      <th></th>\n",
       "      <th>Standard deviation</th>\n",
       "      <th>Proportion of variance</th>\n",
       "      <th>Cumulative proportion</th>\n",
       "    </tr>\n",
       "  </thead>\n",
       "  <tbody>\n",
       "    <tr>\n",
       "      <th>0</th>\n",
       "      <td>129737.299095</td>\n",
       "      <td>1.000000e+00</td>\n",
       "      <td>1.0</td>\n",
       "    </tr>\n",
       "    <tr>\n",
       "      <th>1</th>\n",
       "      <td>9.117593</td>\n",
       "      <td>4.938905e-09</td>\n",
       "      <td>1.0</td>\n",
       "    </tr>\n",
       "  </tbody>\n",
       "</table>\n",
       "</div>"
      ],
      "text/plain": [
       "   Standard deviation  Proportion of variance  Cumulative proportion\n",
       "0       129737.299095            1.000000e+00                    1.0\n",
       "1            9.117593            4.938905e-09                    1.0"
      ]
     },
     "execution_count": 18,
     "metadata": {},
     "output_type": "execute_result"
    }
   ],
   "source": [
    "pcs = PCA(n_components=2)\n",
    "\n",
    "pcs.fit(df[['credit', 'age']])\n",
    "\n",
    "pcsSummary = pd.DataFrame({'Standard deviation': np.sqrt(pcs.explained_variance_),\n",
    "                          'Proportion of variance': pcs.explained_variance_ratio_,\n",
    "                          'Cumulative proportion': np.cumsum(pcs.explained_variance_ratio_)#column \n",
    "                          }\n",
    "                          )\n",
    "pcsSummary"
   ]
  },
  {
   "cell_type": "code",
   "execution_count": 19,
   "metadata": {
    "colab": {
     "base_uri": "https://localhost:8080/",
     "height": 140
    },
    "id": "2RXvhDOn3yRc",
    "outputId": "0eadf7a8-3d6e-4f99-a3b9-261715844b25"
   },
   "outputs": [
    {
     "data": {
      "text/html": [
       "<div>\n",
       "<style scoped>\n",
       "    .dataframe tbody tr th:only-of-type {\n",
       "        vertical-align: middle;\n",
       "    }\n",
       "\n",
       "    .dataframe tbody tr th {\n",
       "        vertical-align: top;\n",
       "    }\n",
       "\n",
       "    .dataframe thead th {\n",
       "        text-align: right;\n",
       "    }\n",
       "</style>\n",
       "<table border=\"1\" class=\"dataframe\">\n",
       "  <thead>\n",
       "    <tr style=\"text-align: right;\">\n",
       "      <th></th>\n",
       "      <th>0</th>\n",
       "      <th>1</th>\n",
       "    </tr>\n",
       "  </thead>\n",
       "  <tbody>\n",
       "    <tr>\n",
       "      <th>Standard deviation</th>\n",
       "      <td>129737.3</td>\n",
       "      <td>9.12</td>\n",
       "    </tr>\n",
       "    <tr>\n",
       "      <th>Proportion of variance</th>\n",
       "      <td>1.0</td>\n",
       "      <td>0.00</td>\n",
       "    </tr>\n",
       "    <tr>\n",
       "      <th>Cumulative proportion</th>\n",
       "      <td>1.0</td>\n",
       "      <td>1.00</td>\n",
       "    </tr>\n",
       "  </tbody>\n",
       "</table>\n",
       "</div>"
      ],
      "text/plain": [
       "                               0     1\n",
       "Standard deviation      129737.3  9.12\n",
       "Proportion of variance       1.0  0.00\n",
       "Cumulative proportion        1.0  1.00"
      ]
     },
     "execution_count": 19,
     "metadata": {},
     "output_type": "execute_result"
    }
   ],
   "source": [
    "pcsSummary = pcsSummary.transpose()\n",
    "pcsSummary.round(2)"
   ]
  },
  {
   "cell_type": "code",
   "execution_count": 20,
   "metadata": {
    "colab": {
     "base_uri": "https://localhost:8080/",
     "height": 140
    },
    "id": "O9Y616c04NBl",
    "outputId": "0bb37e3b-7336-4b86-e0d0-202ebd5d735d"
   },
   "outputs": [
    {
     "data": {
      "text/html": [
       "<div>\n",
       "<style scoped>\n",
       "    .dataframe tbody tr th:only-of-type {\n",
       "        vertical-align: middle;\n",
       "    }\n",
       "\n",
       "    .dataframe tbody tr th {\n",
       "        vertical-align: top;\n",
       "    }\n",
       "\n",
       "    .dataframe thead th {\n",
       "        text-align: right;\n",
       "    }\n",
       "</style>\n",
       "<table border=\"1\" class=\"dataframe\">\n",
       "  <thead>\n",
       "    <tr style=\"text-align: right;\">\n",
       "      <th></th>\n",
       "      <th>PC1</th>\n",
       "      <th>PC2</th>\n",
       "    </tr>\n",
       "  </thead>\n",
       "  <tbody>\n",
       "    <tr>\n",
       "      <th>Standard deviation</th>\n",
       "      <td>129737.2991</td>\n",
       "      <td>9.1176</td>\n",
       "    </tr>\n",
       "    <tr>\n",
       "      <th>Proportion of variance</th>\n",
       "      <td>1.0000</td>\n",
       "      <td>0.0000</td>\n",
       "    </tr>\n",
       "    <tr>\n",
       "      <th>Cumulative proportion</th>\n",
       "      <td>1.0000</td>\n",
       "      <td>1.0000</td>\n",
       "    </tr>\n",
       "  </tbody>\n",
       "</table>\n",
       "</div>"
      ],
      "text/plain": [
       "                                PC1     PC2\n",
       "Standard deviation      129737.2991  9.1176\n",
       "Proportion of variance       1.0000  0.0000\n",
       "Cumulative proportion        1.0000  1.0000"
      ]
     },
     "execution_count": 20,
     "metadata": {},
     "output_type": "execute_result"
    }
   ],
   "source": [
    "pcsSummary.columns = ['PC1', 'PC2']\n",
    "pcsSummary = pcsSummary.round(4)\n",
    "pcsSummary"
   ]
  },
  {
   "cell_type": "markdown",
   "metadata": {},
   "source": [
    "The summary gives the reallocated variance: \n",
    "* `z1` accounts for 100% of the total variability and \n",
    "* `z2` for the remaining 0%. \n",
    "\n",
    "Therefore, if we drop `z2 = PC2`, we still maintain 100% of the total variability. \n",
    "\n",
    "https://www.youtube.com/watch?v=FgakZw6K1QQ "
   ]
  },
  {
   "cell_type": "markdown",
   "metadata": {},
   "source": [
    "### Scree Plot"
   ]
  },
  {
   "cell_type": "code",
   "execution_count": 21,
   "metadata": {},
   "outputs": [],
   "source": [
    "import matplotlib as mpl\n",
    "import matplotlib.pyplot as plt"
   ]
  },
  {
   "cell_type": "code",
   "execution_count": 22,
   "metadata": {
    "colab": {
     "base_uri": "https://localhost:8080/",
     "height": 469
    },
    "id": "7HvNPyJi_d3D",
    "outputId": "6d575c83-261d-470d-cbc0-4b6f43106862"
   },
   "outputs": [
    {
     "data": {
      "image/png": "[encoded data removed]",
      "text/plain": [
       "<Figure size 720x504 with 1 Axes>"
      ]
     },
     "metadata": {},
     "output_type": "display_data"
    }
   ],
   "source": [
    "PC_components = np.arange(pcs.n_components_) + 1\n",
    "#PC_components\n",
    "\n",
    "_ = sns.set(style = 'whitegrid', \n",
    "            font_scale = 1.2\n",
    "            )\n",
    "\n",
    "fig, ax = plt.subplots(figsize=(10, 7))\n",
    "\n",
    "_ = sns.barplot(x = PC_components, \n",
    "                y = pcs.explained_variance_ratio_, \n",
    "                color = 'b'\n",
    "                )\n",
    "\n",
    "_ = sns.lineplot(x = PC_components-1, \n",
    "                 y = np.cumsum(pcs.explained_variance_ratio_), \n",
    "                 color = 'black', \n",
    "                 linestyle = '-', \n",
    "                 linewidth = 2, \n",
    "                 marker = 'o', \n",
    "                 markersize = 8\n",
    "                 )\n",
    "\n",
    "plt.title('Scree Plot')\n",
    "plt.xlabel('N-th Principal Component')\n",
    "plt.ylabel('Variance Explained')\n",
    "plt.ylim(0, 1)\n",
    "plt.show()"
   ]
  },
  {
   "cell_type": "markdown",
   "metadata": {},
   "source": [
    "* The first principal component has the largest possible variance (that is, accounts for as much of the variability in the data as possible)\n",
    "* Each succeeding component, in turn, has the highest variance possible under the constraint that it is orthogonal the preceding components."
   ]
  },
  {
   "cell_type": "code",
   "execution_count": 23,
   "metadata": {
    "colab": {
     "base_uri": "https://localhost:8080/"
    },
    "id": "rk1ke8Lj4i2B",
    "outputId": "ced343db-02a6-4635-bbfb-4c8a668e2463"
   },
   "outputs": [
    {
     "data": {
      "text/plain": [
       "array([[ 1.,  0.],\n",
       "       [-0.,  1.]])"
      ]
     },
     "execution_count": 23,
     "metadata": {},
     "output_type": "execute_result"
    }
   ],
   "source": [
    "pcs.components_.round(4) #is the set of all eigenvectors for your projection space (one eigenvector for each principal component)."
   ]
  },
  {
   "cell_type": "code",
   "execution_count": 24,
   "metadata": {
    "colab": {
     "base_uri": "https://localhost:8080/",
     "height": 109
    },
    "id": "dTo86uS14RbJ",
    "outputId": "6d74c1cd-7e1e-4c39-924e-0384bc48ff93"
   },
   "outputs": [
    {
     "data": {
      "text/html": [
       "<div>\n",
       "<style scoped>\n",
       "    .dataframe tbody tr th:only-of-type {\n",
       "        vertical-align: middle;\n",
       "    }\n",
       "\n",
       "    .dataframe tbody tr th {\n",
       "        vertical-align: top;\n",
       "    }\n",
       "\n",
       "    .dataframe thead th {\n",
       "        text-align: right;\n",
       "    }\n",
       "</style>\n",
       "<table border=\"1\" class=\"dataframe\">\n",
       "  <thead>\n",
       "    <tr style=\"text-align: right;\">\n",
       "      <th></th>\n",
       "      <th>PC1</th>\n",
       "      <th>PC2</th>\n",
       "    </tr>\n",
       "  </thead>\n",
       "  <tbody>\n",
       "    <tr>\n",
       "      <th>credit</th>\n",
       "      <td>1.00000</td>\n",
       "      <td>-0.00001</td>\n",
       "    </tr>\n",
       "    <tr>\n",
       "      <th>age</th>\n",
       "      <td>0.00001</td>\n",
       "      <td>1.00000</td>\n",
       "    </tr>\n",
       "  </tbody>\n",
       "</table>\n",
       "</div>"
      ],
      "text/plain": [
       "            PC1      PC2\n",
       "credit  1.00000 -0.00001\n",
       "age     0.00001  1.00000"
      ]
     },
     "execution_count": 24,
     "metadata": {},
     "output_type": "execute_result"
    }
   ],
   "source": [
    "pcsComponents_df = pd.DataFrame(pcs.components_.transpose(), \n",
    "                                columns=['PC1', 'PC2'],\n",
    "                                index=['credit', 'age']\n",
    "                                )\n",
    "pcsComponents_df"
   ]
  },
  {
   "cell_type": "markdown",
   "metadata": {
    "id": "LlWava2Cu-Ei"
   },
   "source": [
    "> The first column here shows coefficients of linear combination that defines PC1 (z1)\n",
    "\n",
    "> The second column shows coefficients for PC2 (z2)."
   ]
  },
  {
   "cell_type": "markdown",
   "metadata": {
    "id": "hrcrhoCookhL"
   },
   "source": [
    "# The weights are used to compute principal component scores, which are the projected values of credit and age onto the new axes (after subtracting the means). \n",
    "\n",
    "* The average credit across the 29958 clients is `167555.9` and the average consumer age is `35.48`.\n",
    "\n",
    "* The first column is the projection onto z1 using the weights (1, 0.00001). \n",
    "\n",
    "    * The second column is the projection onto z2 using the weights (-0.00001, 1). \n",
    "    \n",
    "For example:  \n",
    "\n",
    "First, we need to center the original variables by subtracting column means\n",
    "(20000 − `167555.9`)   & (24 − `35.48`)\n",
    "\n",
    "Second multiply them with corresponding Principal components. \n",
    "\n",
    "The first score for the 100% Bran cereal (with 20000 credit and a age of 24) is \n",
    "$$( 1)(20000 − 167555.9) + (0.00001)(24 − 35.48) = -147555.9$$\n",
    "$$ Z_i = a_{i1} (X_1 - \\bar{X_1}) + a_{i2} (X_2 - \\bar{X_2}) + \\cdots + a_{in} (X_n - \\bar{X_n}) ; i = 1, 2, 3, \\cdots n$$"
   ]
  },
  {
   "cell_type": "code",
   "execution_count": 25,
   "metadata": {
    "colab": {
     "base_uri": "https://localhost:8080/",
     "height": 201
    },
    "id": "7nkdeQp159hZ",
    "outputId": "a2917b4d-0579-4039-c46e-4b4b716d1959"
   },
   "outputs": [
    {
     "data": {
      "text/html": [
       "<div>\n",
       "<style scoped>\n",
       "    .dataframe tbody tr th:only-of-type {\n",
       "        vertical-align: middle;\n",
       "    }\n",
       "\n",
       "    .dataframe tbody tr th {\n",
       "        vertical-align: top;\n",
       "    }\n",
       "\n",
       "    .dataframe thead th {\n",
       "        text-align: right;\n",
       "    }\n",
       "</style>\n",
       "<table border=\"1\" class=\"dataframe\">\n",
       "  <thead>\n",
       "    <tr style=\"text-align: right;\">\n",
       "      <th></th>\n",
       "      <th>x</th>\n",
       "      <th>y</th>\n",
       "    </tr>\n",
       "  </thead>\n",
       "  <tbody>\n",
       "    <tr>\n",
       "      <th>0</th>\n",
       "      <td>-147555.901038</td>\n",
       "      <td>-9.968948</td>\n",
       "    </tr>\n",
       "    <tr>\n",
       "      <th>1</th>\n",
       "      <td>-47555.901023</td>\n",
       "      <td>-8.995336</td>\n",
       "    </tr>\n",
       "    <tr>\n",
       "      <th>2</th>\n",
       "      <td>-77555.900939</td>\n",
       "      <td>-0.687419</td>\n",
       "    </tr>\n",
       "    <tr>\n",
       "      <th>3</th>\n",
       "      <td>-117555.900906</td>\n",
       "      <td>2.723136</td>\n",
       "    </tr>\n",
       "    <tr>\n",
       "      <th>4</th>\n",
       "      <td>-117555.900701</td>\n",
       "      <td>22.723136</td>\n",
       "    </tr>\n",
       "  </tbody>\n",
       "</table>\n",
       "</div>"
      ],
      "text/plain": [
       "               x          y\n",
       "0 -147555.901038  -9.968948\n",
       "1  -47555.901023  -8.995336\n",
       "2  -77555.900939  -0.687419\n",
       "3 -117555.900906   2.723136\n",
       "4 -117555.900701  22.723136"
      ]
     },
     "execution_count": 25,
     "metadata": {},
     "output_type": "execute_result"
    }
   ],
   "source": [
    "scores = pd.DataFrame(pcs.transform(df[['credit', 'age']]),\n",
    "                      columns=['x', 'y']\n",
    "                      )\n",
    "scores.head()"
   ]
  },
  {
   "cell_type": "code",
   "execution_count": 26,
   "metadata": {
    "id": "oPKWgp0C6G9-"
   },
   "outputs": [],
   "source": [
    "x = (1)*(20000-167555.9)+(0.00001)*(24-35.48)\n",
    "\n",
    "y = (-0.00001)*(20000-167555.9)+(1.0000)*(24-35.48)"
   ]
  },
  {
   "cell_type": "code",
   "execution_count": 27,
   "metadata": {
    "colab": {
     "base_uri": "https://localhost:8080/"
    },
    "id": "du4dDNj70dc_",
    "outputId": "2da1bfb5-a18d-489b-d464-0e526b9f15ac"
   },
   "outputs": [
    {
     "name": "stdout",
     "output_type": "stream",
     "text": [
      "For the PC1\n",
      " \t x =  -147555.9001148 \n",
      "\t y =  -10.004440999999996\n"
     ]
    }
   ],
   "source": [
    "print('For the PC1\\n \\t x = ', x, '\\n\\t y = ', y)"
   ]
  },
  {
   "cell_type": "code",
   "execution_count": 28,
   "metadata": {
    "colab": {
     "base_uri": "https://localhost:8080/"
    },
    "id": "w1cfTB1t095i",
    "outputId": "dcb3b0ce-3b1b-42ff-cb92-cfdfa66aee0b"
   },
   "outputs": [
    {
     "data": {
      "text/plain": [
       "-1.2068792501635717e-11"
      ]
     },
     "execution_count": 28,
     "metadata": {},
     "output_type": "execute_result"
    }
   ],
   "source": [
    "scores.x.mean()"
   ]
  },
  {
   "cell_type": "code",
   "execution_count": 29,
   "metadata": {
    "colab": {
     "base_uri": "https://localhost:8080/"
    },
    "id": "0EyKIGk11YeQ",
    "outputId": "7f978f0c-594a-40c9-85fa-142d49511d4e"
   },
   "outputs": [
    {
     "data": {
      "text/plain": [
       "-6.230038707144558e-11"
      ]
     },
     "execution_count": 29,
     "metadata": {},
     "output_type": "execute_result"
    }
   ],
   "source": [
    "scores.y.sum()"
   ]
  },
  {
   "cell_type": "markdown",
   "metadata": {},
   "source": [
    "The sum of the variances `var(z1) + var(z2)` is equal to the sum of the variances of the original variables, `var(credit) + var(age)`.  "
   ]
  },
  {
   "cell_type": "code",
   "execution_count": 30,
   "metadata": {
    "colab": {
     "base_uri": "https://localhost:8080/"
    },
    "id": "q7QLcJLN1eaG",
    "outputId": "cf31e975-e9dd-4d37-fb02-5e6aa82aea9b"
   },
   "outputs": [
    {
     "data": {
      "text/plain": [
       "16831766859.488016"
      ]
     },
     "execution_count": 30,
     "metadata": {},
     "output_type": "execute_result"
    }
   ],
   "source": [
    "scores.x.var() + scores.y.var()"
   ]
  },
  {
   "cell_type": "code",
   "execution_count": 31,
   "metadata": {
    "colab": {
     "base_uri": "https://localhost:8080/"
    },
    "id": "p0gsYAF01vKA",
    "outputId": "73b3ae28-6d7b-46a8-989e-fb643f7f5b4f"
   },
   "outputs": [
    {
     "data": {
      "text/plain": [
       "16831766859.490568"
      ]
     },
     "execution_count": 31,
     "metadata": {},
     "output_type": "execute_result"
    }
   ],
   "source": [
    "df.credit.var() + df.age.var()"
   ]
  },
  {
   "cell_type": "code",
   "execution_count": 32,
   "metadata": {
    "colab": {
     "base_uri": "https://localhost:8080/"
    },
    "id": "Hykb7IsW10q-",
    "outputId": "42dd852e-b189-4c92-894a-deb2f17aa655"
   },
   "outputs": [
    {
     "data": {
      "text/plain": [
       "100.0"
      ]
     },
     "execution_count": 32,
     "metadata": {},
     "output_type": "execute_result"
    }
   ],
   "source": [
    "round(((scores.x.var()/\n",
    "  (scores.x.var()+scores.y.var())\n",
    " )*100),0)"
   ]
  },
  {
   "cell_type": "code",
   "execution_count": 33,
   "metadata": {
    "colab": {
     "base_uri": "https://localhost:8080/",
     "height": 140
    },
    "id": "0q4Y1djY2PYj",
    "outputId": "bc85fca6-cae9-46cb-d948-5bf8615f1a61"
   },
   "outputs": [
    {
     "data": {
      "text/html": [
       "<div>\n",
       "<style scoped>\n",
       "    .dataframe tbody tr th:only-of-type {\n",
       "        vertical-align: middle;\n",
       "    }\n",
       "\n",
       "    .dataframe tbody tr th {\n",
       "        vertical-align: top;\n",
       "    }\n",
       "\n",
       "    .dataframe thead th {\n",
       "        text-align: right;\n",
       "    }\n",
       "</style>\n",
       "<table border=\"1\" class=\"dataframe\">\n",
       "  <thead>\n",
       "    <tr style=\"text-align: right;\">\n",
       "      <th></th>\n",
       "      <th>0</th>\n",
       "      <th>1</th>\n",
       "      <th>2</th>\n",
       "      <th>3</th>\n",
       "      <th>4</th>\n",
       "      <th>5</th>\n",
       "      <th>6</th>\n",
       "      <th>7</th>\n",
       "      <th>8</th>\n",
       "      <th>9</th>\n",
       "      <th>10</th>\n",
       "      <th>11</th>\n",
       "      <th>12</th>\n",
       "      <th>13</th>\n",
       "      <th>14</th>\n",
       "      <th>15</th>\n",
       "      <th>16</th>\n",
       "    </tr>\n",
       "  </thead>\n",
       "  <tbody>\n",
       "    <tr>\n",
       "      <th>Standard deviation</th>\n",
       "      <td>155841.858701</td>\n",
       "      <td>37338.073642</td>\n",
       "      <td>27844.166817</td>\n",
       "      <td>21440.998639</td>\n",
       "      <td>20314.589407</td>\n",
       "      <td>18522.679643</td>\n",
       "      <td>17040.035861</td>\n",
       "      <td>16327.241339</td>\n",
       "      <td>11623.458479</td>\n",
       "      <td>10435.755871</td>\n",
       "      <td>8786.471848</td>\n",
       "      <td>8201.498865</td>\n",
       "      <td>2.144480e+00</td>\n",
       "      <td>8.488960e-01</td>\n",
       "      <td>6.173954e-01</td>\n",
       "      <td>5.185782e-01</td>\n",
       "      <td>4.190132e-01</td>\n",
       "    </tr>\n",
       "    <tr>\n",
       "      <th>Proportion of variance</th>\n",
       "      <td>0.848680</td>\n",
       "      <td>0.048717</td>\n",
       "      <td>0.027092</td>\n",
       "      <td>0.016064</td>\n",
       "      <td>0.014421</td>\n",
       "      <td>0.011989</td>\n",
       "      <td>0.010147</td>\n",
       "      <td>0.009315</td>\n",
       "      <td>0.004721</td>\n",
       "      <td>0.003806</td>\n",
       "      <td>0.002698</td>\n",
       "      <td>0.002351</td>\n",
       "      <td>1.607014e-10</td>\n",
       "      <td>2.518167e-11</td>\n",
       "      <td>1.331994e-11</td>\n",
       "      <td>9.397323e-12</td>\n",
       "      <td>6.135232e-12</td>\n",
       "    </tr>\n",
       "    <tr>\n",
       "      <th>Cumulative proportion</th>\n",
       "      <td>0.848680</td>\n",
       "      <td>0.897397</td>\n",
       "      <td>0.924489</td>\n",
       "      <td>0.940553</td>\n",
       "      <td>0.954974</td>\n",
       "      <td>0.966963</td>\n",
       "      <td>0.977110</td>\n",
       "      <td>0.986425</td>\n",
       "      <td>0.991146</td>\n",
       "      <td>0.994952</td>\n",
       "      <td>0.997649</td>\n",
       "      <td>1.000000</td>\n",
       "      <td>1.000000e+00</td>\n",
       "      <td>1.000000e+00</td>\n",
       "      <td>1.000000e+00</td>\n",
       "      <td>1.000000e+00</td>\n",
       "      <td>1.000000e+00</td>\n",
       "    </tr>\n",
       "  </tbody>\n",
       "</table>\n",
       "</div>"
      ],
      "text/plain": [
       "                                   0             1             2   \\\n",
       "Standard deviation      155841.858701  37338.073642  27844.166817   \n",
       "Proportion of variance       0.848680      0.048717      0.027092   \n",
       "Cumulative proportion        0.848680      0.897397      0.924489   \n",
       "\n",
       "                                  3             4             5   \\\n",
       "Standard deviation      21440.998639  20314.589407  18522.679643   \n",
       "Proportion of variance      0.016064      0.014421      0.011989   \n",
       "Cumulative proportion       0.940553      0.954974      0.966963   \n",
       "\n",
       "                                  6             7             8   \\\n",
       "Standard deviation      17040.035861  16327.241339  11623.458479   \n",
       "Proportion of variance      0.010147      0.009315      0.004721   \n",
       "Cumulative proportion       0.977110      0.986425      0.991146   \n",
       "\n",
       "                                  9            10           11            12  \\\n",
       "Standard deviation      10435.755871  8786.471848  8201.498865  2.144480e+00   \n",
       "Proportion of variance      0.003806     0.002698     0.002351  1.607014e-10   \n",
       "Cumulative proportion       0.994952     0.997649     1.000000  1.000000e+00   \n",
       "\n",
       "                                  13            14            15            16  \n",
       "Standard deviation      8.488960e-01  6.173954e-01  5.185782e-01  4.190132e-01  \n",
       "Proportion of variance  2.518167e-11  1.331994e-11  9.397323e-12  6.135232e-12  \n",
       "Cumulative proportion   1.000000e+00  1.000000e+00  1.000000e+00  1.000000e+00  "
      ]
     },
     "execution_count": 33,
     "metadata": {},
     "output_type": "execute_result"
    }
   ],
   "source": [
    "pcs = PCA()\n",
    "pcs.fit(credit_df.iloc[:, 3:].dropna(axis=0))\n",
    "pcsSummary_df = pd.DataFrame({'Standard deviation': np.sqrt(pcs.explained_variance_),\n",
    "                             'Proportion of variance': pcs.explained_variance_ratio_,\n",
    "                             'Cumulative proportion': np.cumsum(pcs.explained_variance_ratio_)\n",
    "                             })\n",
    "pcsSummary_df = pcsSummary_df.transpose()\n",
    "pcsSummary_df"
   ]
  },
  {
   "cell_type": "markdown",
   "metadata": {},
   "source": [
    "### Scree Plot"
   ]
  },
  {
   "cell_type": "code",
   "execution_count": 34,
   "metadata": {
    "colab": {
     "base_uri": "https://localhost:8080/",
     "height": 469
    },
    "id": "dp5szqxU_O50",
    "outputId": "3955463c-f429-4386-c8dc-44b40a296c02"
   },
   "outputs": [
    {
     "data": {
      "image/png": "[encoded data removed]",
      "text/plain": [
       "<Figure size 720x504 with 1 Axes>"
      ]
     },
     "metadata": {},
     "output_type": "display_data"
    }
   ],
   "source": [
    "PC_components = np.arange(pcs.n_components_) + 1\n",
    "#PC_components\n",
    "\n",
    "_ = sns.set(style = 'whitegrid', \n",
    "            font_scale = 1.2\n",
    "            )\n",
    "\n",
    "fig, ax = plt.subplots(figsize=(10, 7))\n",
    "\n",
    "_ = sns.barplot(x = PC_components, \n",
    "                y = pcs.explained_variance_ratio_, \n",
    "                color = 'b'\n",
    "                )\n",
    "\n",
    "_ = sns.lineplot(x = PC_components-1, \n",
    "                 y = np.cumsum(pcs.explained_variance_ratio_), \n",
    "                 color = 'black', \n",
    "                 linestyle = '-', \n",
    "                 linewidth = 2, \n",
    "                 marker = 'o', \n",
    "                 markersize = 8\n",
    "                 )\n",
    "\n",
    "plt.title('Scree Plot')\n",
    "plt.xlabel('N-th Principal Component')\n",
    "plt.ylabel('Variance Explained')\n",
    "plt.ylim(0, 1)\n",
    "plt.show()\n"
   ]
  },
  {
   "cell_type": "markdown",
   "metadata": {
    "id": "NZqgwnZSSTzD"
   },
   "source": [
    "Note that the first three components account for more than 92% of the total variation associated with all 24 of the original variables."
   ]
  },
  {
   "cell_type": "code",
   "execution_count": 35,
   "metadata": {
    "colab": {
     "base_uri": "https://localhost:8080/"
    },
    "id": "Pr9NgpKpRslo",
    "outputId": "f60673a1-19a2-4957-9b0f-88114f189f30"
   },
   "outputs": [
    {
     "data": {
      "text/plain": [
       "92.0"
      ]
     },
     "execution_count": 35,
     "metadata": {},
     "output_type": "execute_result"
    }
   ],
   "source": [
    "#pcsSummary_df.iloc[1][0]+pcsSummary_df.iloc[1][1]+pcsSummary_df.iloc[1][2]\n",
    "#OR\n",
    "((pcsSummary_df.iloc[2][2])*100).round(0)\n",
    "#type(pcsSummary_df)"
   ]
  },
  {
   "cell_type": "markdown",
   "metadata": {
    "id": "FjO0RDicSunS"
   },
   "source": [
    "In fact, the first two principal components alone capture 89.74% of the total variation."
   ]
  },
  {
   "cell_type": "code",
   "execution_count": 36,
   "metadata": {
    "colab": {
     "base_uri": "https://localhost:8080/"
    },
    "id": "STkHp3faSx9D",
    "outputId": "023e9a98-9935-4b7b-95e2-d0a12cdaad29"
   },
   "outputs": [
    {
     "data": {
      "text/plain": [
       "89.74"
      ]
     },
     "execution_count": 36,
     "metadata": {},
     "output_type": "execute_result"
    }
   ],
   "source": [
    "#pcsSummary_df.iloc[1][0]+pcsSummary_df.iloc[1][1]\n",
    "#OR\n",
    "((pcsSummary_df.iloc[2][1])*100).round(2)"
   ]
  },
  {
   "cell_type": "code",
   "execution_count": 37,
   "metadata": {
    "colab": {
     "base_uri": "https://localhost:8080/",
     "height": 140
    },
    "id": "CXrtccVROj9n",
    "outputId": "de319130-7ae6-4d1b-a63d-0783e3008eef"
   },
   "outputs": [
    {
     "data": {
      "text/html": [
       "<div>\n",
       "<style scoped>\n",
       "    .dataframe tbody tr th:only-of-type {\n",
       "        vertical-align: middle;\n",
       "    }\n",
       "\n",
       "    .dataframe tbody tr th {\n",
       "        vertical-align: top;\n",
       "    }\n",
       "\n",
       "    .dataframe thead th {\n",
       "        text-align: right;\n",
       "    }\n",
       "</style>\n",
       "<table border=\"1\" class=\"dataframe\">\n",
       "  <thead>\n",
       "    <tr style=\"text-align: right;\">\n",
       "      <th></th>\n",
       "      <th>PC1</th>\n",
       "      <th>PC2</th>\n",
       "      <th>PC3</th>\n",
       "      <th>PC4</th>\n",
       "      <th>PC5</th>\n",
       "      <th>PC6</th>\n",
       "      <th>PC7</th>\n",
       "      <th>PC8</th>\n",
       "      <th>PC9</th>\n",
       "      <th>PC10</th>\n",
       "      <th>PC11</th>\n",
       "      <th>PC12</th>\n",
       "      <th>PC13</th>\n",
       "      <th>PC14</th>\n",
       "      <th>PC15</th>\n",
       "      <th>PC16</th>\n",
       "      <th>PC17</th>\n",
       "    </tr>\n",
       "  </thead>\n",
       "  <tbody>\n",
       "    <tr>\n",
       "      <th>Standard deviation</th>\n",
       "      <td>155841.8587</td>\n",
       "      <td>37338.0736</td>\n",
       "      <td>27844.1668</td>\n",
       "      <td>21440.9986</td>\n",
       "      <td>20314.5894</td>\n",
       "      <td>18522.6796</td>\n",
       "      <td>17040.0359</td>\n",
       "      <td>16327.2413</td>\n",
       "      <td>11623.4585</td>\n",
       "      <td>10435.7559</td>\n",
       "      <td>8786.4718</td>\n",
       "      <td>8201.4989</td>\n",
       "      <td>2.1445</td>\n",
       "      <td>0.8489</td>\n",
       "      <td>0.6174</td>\n",
       "      <td>0.5186</td>\n",
       "      <td>0.419</td>\n",
       "    </tr>\n",
       "    <tr>\n",
       "      <th>Proportion of variance</th>\n",
       "      <td>0.8487</td>\n",
       "      <td>0.0487</td>\n",
       "      <td>0.0271</td>\n",
       "      <td>0.0161</td>\n",
       "      <td>0.0144</td>\n",
       "      <td>0.0120</td>\n",
       "      <td>0.0101</td>\n",
       "      <td>0.0093</td>\n",
       "      <td>0.0047</td>\n",
       "      <td>0.0038</td>\n",
       "      <td>0.0027</td>\n",
       "      <td>0.0024</td>\n",
       "      <td>0.0000</td>\n",
       "      <td>0.0000</td>\n",
       "      <td>0.0000</td>\n",
       "      <td>0.0000</td>\n",
       "      <td>0.000</td>\n",
       "    </tr>\n",
       "    <tr>\n",
       "      <th>Cumulative proportion</th>\n",
       "      <td>0.8487</td>\n",
       "      <td>0.8974</td>\n",
       "      <td>0.9245</td>\n",
       "      <td>0.9406</td>\n",
       "      <td>0.9550</td>\n",
       "      <td>0.9670</td>\n",
       "      <td>0.9771</td>\n",
       "      <td>0.9864</td>\n",
       "      <td>0.9911</td>\n",
       "      <td>0.9950</td>\n",
       "      <td>0.9976</td>\n",
       "      <td>1.0000</td>\n",
       "      <td>1.0000</td>\n",
       "      <td>1.0000</td>\n",
       "      <td>1.0000</td>\n",
       "      <td>1.0000</td>\n",
       "      <td>1.000</td>\n",
       "    </tr>\n",
       "  </tbody>\n",
       "</table>\n",
       "</div>"
      ],
      "text/plain": [
       "                                PC1         PC2         PC3         PC4  \\\n",
       "Standard deviation      155841.8587  37338.0736  27844.1668  21440.9986   \n",
       "Proportion of variance       0.8487      0.0487      0.0271      0.0161   \n",
       "Cumulative proportion        0.8487      0.8974      0.9245      0.9406   \n",
       "\n",
       "                               PC5         PC6         PC7         PC8  \\\n",
       "Standard deviation      20314.5894  18522.6796  17040.0359  16327.2413   \n",
       "Proportion of variance      0.0144      0.0120      0.0101      0.0093   \n",
       "Cumulative proportion       0.9550      0.9670      0.9771      0.9864   \n",
       "\n",
       "                               PC9        PC10       PC11       PC12    PC13  \\\n",
       "Standard deviation      11623.4585  10435.7559  8786.4718  8201.4989  2.1445   \n",
       "Proportion of variance      0.0047      0.0038     0.0027     0.0024  0.0000   \n",
       "Cumulative proportion       0.9911      0.9950     0.9976     1.0000  1.0000   \n",
       "\n",
       "                          PC14    PC15    PC16   PC17  \n",
       "Standard deviation      0.8489  0.6174  0.5186  0.419  \n",
       "Proportion of variance  0.0000  0.0000  0.0000  0.000  \n",
       "Cumulative proportion   1.0000  1.0000  1.0000  1.000  "
      ]
     },
     "execution_count": 37,
     "metadata": {},
     "output_type": "execute_result"
    }
   ],
   "source": [
    "pcsSummary_df.columns = ['PC{}'.format(i) for i in range(1, len(pcsSummary_df.columns) + 1)]\n",
    "pcsSummary_df.round(4)"
   ]
  },
  {
   "cell_type": "code",
   "execution_count": 38,
   "metadata": {
    "colab": {
     "base_uri": "https://localhost:8080/"
    },
    "id": "KcwhtymLVVgC",
    "outputId": "fb0faf05-1e06-4a6c-ae55-aaff9ad27c0e"
   },
   "outputs": [
    {
     "data": {
      "text/plain": [
       "array([[ 1.81982545e-06,  1.80128215e-06,  1.81900124e-06,\n",
       "         1.85079913e-06,  1.91465813e-06,  4.46555462e-01,\n",
       "         4.40877070e-01,  4.29192025e-01,  3.97480521e-01,\n",
       "         3.69459826e-01,  3.52644584e-01,  2.49822873e-02,\n",
       "         2.84025166e-02,  2.38452205e-02,  1.93468667e-02,\n",
       "         1.90038654e-02,  2.06262868e-02],\n",
       "       [-1.49975730e-06, -3.84326703e-07,  1.25822191e-06,\n",
       "         2.66369448e-06,  3.67300317e-06, -5.48935385e-01,\n",
       "        -3.93843775e-01, -5.02997215e-02,  2.57543542e-01,\n",
       "         4.24101453e-01,  4.79661871e-01,  4.36479153e-02,\n",
       "         1.69387922e-01,  1.41916930e-01,  1.00113321e-01,\n",
       "         6.20413985e-02, -1.22921559e-02],\n",
       "       [-4.19703573e-06, -3.31806408e-06, -1.27930012e-06,\n",
       "        -2.27079169e-06, -3.57919631e-06, -1.90177646e-01,\n",
       "        -3.57746150e-02,  5.38449125e-01,  6.85906494e-02,\n",
       "        -2.06058063e-01, -3.11922694e-01,  2.04310335e-01,\n",
       "         6.80297620e-01,  4.46764329e-02, -2.52282281e-02,\n",
       "         2.77548402e-02,  1.42177590e-01],\n",
       "       [-7.85732154e-06, -8.94817635e-06, -9.80759367e-06,\n",
       "        -8.50430499e-06, -6.81300566e-06,  3.13628374e-01,\n",
       "         2.86665814e-02, -3.33121596e-01, -2.47255644e-01,\n",
       "        -3.57090647e-03,  1.26819278e-01,  2.44830403e-01,\n",
       "         2.59002409e-01,  4.23096825e-01,  4.14676904e-01,\n",
       "         3.13919338e-01,  3.68885965e-01],\n",
       "       [ 2.30559682e-06,  8.17215284e-07,  2.00143123e-06,\n",
       "        -1.24145150e-06,  8.52881105e-07,  7.87740312e-02,\n",
       "        -7.56236868e-02,  2.29739426e-01, -5.47508137e-01,\n",
       "        -7.85942333e-02,  4.34760079e-01, -1.72574582e-01,\n",
       "         1.91241618e-01, -4.72897003e-01,  1.25446363e-01,\n",
       "         2.84675323e-01, -2.31458892e-01],\n",
       "       [-2.73650739e-06,  3.53312807e-06,  7.63443627e-07,\n",
       "        -9.05502704e-07,  2.82932660e-09, -4.58159614e-01,\n",
       "         5.26305836e-01,  3.11030205e-02, -1.77412315e-01,\n",
       "        -1.41227456e-02,  7.69495322e-02,  6.09334761e-01,\n",
       "        -2.57439372e-01, -1.57017388e-01,  8.22182170e-02,\n",
       "         6.00185116e-02,  4.41398626e-02],\n",
       "       [ 8.25855190e-07,  2.67508486e-07,  1.37787709e-06,\n",
       "        -5.61840942e-07,  3.29131431e-06,  8.31247107e-03,\n",
       "        -6.47553369e-02,  7.94739210e-02, -2.28958225e-01,\n",
       "         4.80768376e-01, -2.62882453e-01, -7.99722255e-02,\n",
       "        -2.03279247e-03, -3.04620836e-01,  4.50825909e-01,\n",
       "        -4.82330958e-01,  3.18862924e-01],\n",
       "       [-5.84122742e-07, -5.01322788e-07, -1.46851319e-06,\n",
       "        -6.69357719e-07,  1.26694922e-06,  7.77672113e-02,\n",
       "         1.03443589e-01, -1.17671375e-01, -1.01788746e-01,\n",
       "         1.24684859e-01, -9.96129027e-02,  1.81512379e-01,\n",
       "         2.39519359e-01,  2.48300334e-01,  2.36350818e-01,\n",
       "        -2.99329418e-01, -7.97587617e-01],\n",
       "       [ 2.58428250e-06,  1.68471991e-06,  3.57559885e-06,\n",
       "         5.42564045e-06,  4.94348126e-06,  1.71049303e-01,\n",
       "         1.23229891e-02, -3.36088440e-01, -1.41101552e-01,\n",
       "         9.91480113e-02,  2.41069190e-01,  2.75784390e-01,\n",
       "         3.60774385e-01, -1.92386440e-01, -5.89467215e-01,\n",
       "        -3.93574741e-01,  1.55499539e-01],\n",
       "       [ 5.53476182e-06,  4.25629744e-06,  8.13009806e-07,\n",
       "         2.96275094e-06,  4.30246435e-06, -2.67113528e-01,\n",
       "         3.51246135e-01,  1.53488427e-01, -3.72319337e-01,\n",
       "        -5.62941081e-02,  2.03525173e-01, -4.70921318e-01,\n",
       "         2.28367998e-02,  5.03996813e-01, -1.34380271e-01,\n",
       "        -2.92356469e-01,  1.36649367e-01],\n",
       "       [ 3.01759547e-06,  1.81434069e-07,  1.92032674e-06,\n",
       "         4.75661125e-07, -1.07846924e-06, -2.04613845e-01,\n",
       "         4.76498625e-01, -4.41585634e-01,  2.33160638e-01,\n",
       "         9.28498634e-02, -1.58744017e-01, -3.96641880e-01,\n",
       "         3.83979598e-01, -2.85546898e-01,  7.86058939e-02,\n",
       "         2.34790644e-01, -1.70892448e-02],\n",
       "       [ 1.68919915e-06,  1.32115434e-06,  3.35540944e-06,\n",
       "        -7.45605105e-07,  2.55149972e-06, -4.59627861e-03,\n",
       "         1.50215227e-02, -8.33331725e-02,  3.20814902e-01,\n",
       "        -6.05378571e-01,  3.65353809e-01, -1.49756239e-02,\n",
       "         4.76642343e-02, -1.51620505e-01,  4.04597019e-01,\n",
       "        -4.40557026e-01,  8.15219101e-02],\n",
       "       [ 4.35162562e-01,  4.67994060e-01,  4.67133031e-01,\n",
       "         4.43260518e-01,  4.20620908e-01,  5.44229222e-06,\n",
       "        -4.25183526e-06, -2.49857063e-06, -2.39206456e-06,\n",
       "        -3.10077262e-06, -7.29870765e-06,  8.55259489e-06,\n",
       "         4.62914481e-06,  8.50970473e-06,  1.03880044e-05,\n",
       "         1.26546348e-05,  4.21794587e-06],\n",
       "       [-6.25927382e-01, -3.97374911e-01,  1.28958168e-01,\n",
       "         4.06467258e-01,  5.18133431e-01,  1.10676187e-06,\n",
       "         3.01667388e-06,  3.69203182e-07, -1.35584816e-06,\n",
       "        -2.61867382e-06, -1.42726409e-06, -3.19827594e-06,\n",
       "        -1.54993629e-06, -5.87674535e-07,  7.88014693e-07,\n",
       "         1.92218698e-06, -5.24855402e-07],\n",
       "       [-5.35707745e-01,  3.78137487e-01,  5.72275519e-01,\n",
       "        -9.17361705e-03, -4.92387884e-01,  1.68326260e-06,\n",
       "        -5.93657791e-07, -1.48140744e-06, -1.60544975e-06,\n",
       "         1.54696383e-06,  1.31409867e-06, -2.99069694e-06,\n",
       "         6.86313743e-07,  2.31153748e-06,  4.18845250e-08,\n",
       "        -1.95850841e-06, -9.26451976e-08],\n",
       "       [-3.52176690e-01,  6.47012473e-01, -3.87762145e-01,\n",
       "        -3.42216903e-01,  4.35745968e-01,  1.30169252e-06,\n",
       "        -1.03819467e-06, -7.14571000e-07,  1.70760740e-06,\n",
       "        -4.23064944e-07, -9.28598326e-07, -2.21329415e-06,\n",
       "         2.15197224e-06, -1.42158322e-06, -1.64169859e-06,\n",
       "         1.21299698e-06,  2.32439249e-07],\n",
       "       [ 8.85282358e-02, -2.47914581e-01,  5.36001652e-01,\n",
       "        -7.21878049e-01,  3.49707626e-01, -2.30826665e-07,\n",
       "         2.96455695e-07, -3.11151988e-07,  3.15521485e-07,\n",
       "         8.68524204e-07, -1.08258602e-06,  5.56666664e-07,\n",
       "        -7.69926404e-07,  2.60683779e-06, -3.02374837e-06,\n",
       "         1.33455660e-06, -1.31872823e-07]])"
      ]
     },
     "execution_count": 38,
     "metadata": {},
     "output_type": "execute_result"
    }
   ],
   "source": [
    "pcs.components_"
   ]
  },
  {
   "cell_type": "code",
   "execution_count": 39,
   "metadata": {
    "colab": {
     "base_uri": "https://localhost:8080/",
     "height": 444
    },
    "id": "6l5Ao-1gOsVD",
    "outputId": "80615287-f3fd-47fa-b05f-baec4e72bb21"
   },
   "outputs": [
    {
     "data": {
      "text/html": [
       "<div>\n",
       "<style scoped>\n",
       "    .dataframe tbody tr th:only-of-type {\n",
       "        vertical-align: middle;\n",
       "    }\n",
       "\n",
       "    .dataframe tbody tr th {\n",
       "        vertical-align: top;\n",
       "    }\n",
       "\n",
       "    .dataframe thead th {\n",
       "        text-align: right;\n",
       "    }\n",
       "</style>\n",
       "<table border=\"1\" class=\"dataframe\">\n",
       "  <thead>\n",
       "    <tr style=\"text-align: right;\">\n",
       "      <th></th>\n",
       "      <th>PC1</th>\n",
       "      <th>PC2</th>\n",
       "      <th>PC3</th>\n",
       "      <th>PC4</th>\n",
       "      <th>PC5</th>\n",
       "    </tr>\n",
       "  </thead>\n",
       "  <tbody>\n",
       "    <tr>\n",
       "      <th>hpp Aug 2005</th>\n",
       "      <td>0.000002</td>\n",
       "      <td>-1.499757e-06</td>\n",
       "      <td>-0.000004</td>\n",
       "      <td>-0.000008</td>\n",
       "      <td>2.305597e-06</td>\n",
       "    </tr>\n",
       "    <tr>\n",
       "      <th>hpp Jul 2005</th>\n",
       "      <td>0.000002</td>\n",
       "      <td>-3.843267e-07</td>\n",
       "      <td>-0.000003</td>\n",
       "      <td>-0.000009</td>\n",
       "      <td>8.172153e-07</td>\n",
       "    </tr>\n",
       "    <tr>\n",
       "      <th>hpp Jun 2005</th>\n",
       "      <td>0.000002</td>\n",
       "      <td>1.258222e-06</td>\n",
       "      <td>-0.000001</td>\n",
       "      <td>-0.000010</td>\n",
       "      <td>2.001431e-06</td>\n",
       "    </tr>\n",
       "    <tr>\n",
       "      <th>hpp May 2005</th>\n",
       "      <td>0.000002</td>\n",
       "      <td>2.663694e-06</td>\n",
       "      <td>-0.000002</td>\n",
       "      <td>-0.000009</td>\n",
       "      <td>-1.241451e-06</td>\n",
       "    </tr>\n",
       "    <tr>\n",
       "      <th>hpp Apr 2005</th>\n",
       "      <td>0.000002</td>\n",
       "      <td>3.673003e-06</td>\n",
       "      <td>-0.000004</td>\n",
       "      <td>-0.000007</td>\n",
       "      <td>8.528811e-07</td>\n",
       "    </tr>\n",
       "    <tr>\n",
       "      <th>abs Sep 2005</th>\n",
       "      <td>0.446555</td>\n",
       "      <td>-5.489354e-01</td>\n",
       "      <td>-0.190178</td>\n",
       "      <td>0.313628</td>\n",
       "      <td>7.877403e-02</td>\n",
       "    </tr>\n",
       "    <tr>\n",
       "      <th>abs Aug 2005</th>\n",
       "      <td>0.440877</td>\n",
       "      <td>-3.938438e-01</td>\n",
       "      <td>-0.035775</td>\n",
       "      <td>0.028667</td>\n",
       "      <td>-7.562369e-02</td>\n",
       "    </tr>\n",
       "    <tr>\n",
       "      <th>abs Jul 2005</th>\n",
       "      <td>0.429192</td>\n",
       "      <td>-5.029972e-02</td>\n",
       "      <td>0.538449</td>\n",
       "      <td>-0.333122</td>\n",
       "      <td>2.297394e-01</td>\n",
       "    </tr>\n",
       "    <tr>\n",
       "      <th>abs Jun 2005</th>\n",
       "      <td>0.397481</td>\n",
       "      <td>2.575435e-01</td>\n",
       "      <td>0.068591</td>\n",
       "      <td>-0.247256</td>\n",
       "      <td>-5.475081e-01</td>\n",
       "    </tr>\n",
       "    <tr>\n",
       "      <th>abs May 2005</th>\n",
       "      <td>0.369460</td>\n",
       "      <td>4.241015e-01</td>\n",
       "      <td>-0.206058</td>\n",
       "      <td>-0.003571</td>\n",
       "      <td>-7.859423e-02</td>\n",
       "    </tr>\n",
       "    <tr>\n",
       "      <th>abs Apr 2005</th>\n",
       "      <td>0.352645</td>\n",
       "      <td>4.796619e-01</td>\n",
       "      <td>-0.311923</td>\n",
       "      <td>0.126819</td>\n",
       "      <td>4.347601e-01</td>\n",
       "    </tr>\n",
       "    <tr>\n",
       "      <th>app Sep 2005</th>\n",
       "      <td>0.024982</td>\n",
       "      <td>4.364792e-02</td>\n",
       "      <td>0.204310</td>\n",
       "      <td>0.244830</td>\n",
       "      <td>-1.725746e-01</td>\n",
       "    </tr>\n",
       "    <tr>\n",
       "      <th>app Aug 2005</th>\n",
       "      <td>0.028403</td>\n",
       "      <td>1.693879e-01</td>\n",
       "      <td>0.680298</td>\n",
       "      <td>0.259002</td>\n",
       "      <td>1.912416e-01</td>\n",
       "    </tr>\n",
       "    <tr>\n",
       "      <th>app Jul 2005</th>\n",
       "      <td>0.023845</td>\n",
       "      <td>1.419169e-01</td>\n",
       "      <td>0.044676</td>\n",
       "      <td>0.423097</td>\n",
       "      <td>-4.728970e-01</td>\n",
       "    </tr>\n",
       "    <tr>\n",
       "      <th>app Jun 2005</th>\n",
       "      <td>0.019347</td>\n",
       "      <td>1.001133e-01</td>\n",
       "      <td>-0.025228</td>\n",
       "      <td>0.414677</td>\n",
       "      <td>1.254464e-01</td>\n",
       "    </tr>\n",
       "    <tr>\n",
       "      <th>app May 2005</th>\n",
       "      <td>0.019004</td>\n",
       "      <td>6.204140e-02</td>\n",
       "      <td>0.027755</td>\n",
       "      <td>0.313919</td>\n",
       "      <td>2.846753e-01</td>\n",
       "    </tr>\n",
       "    <tr>\n",
       "      <th>app Apr 2005</th>\n",
       "      <td>0.020626</td>\n",
       "      <td>-1.229216e-02</td>\n",
       "      <td>0.142178</td>\n",
       "      <td>0.368886</td>\n",
       "      <td>-2.314589e-01</td>\n",
       "    </tr>\n",
       "  </tbody>\n",
       "</table>\n",
       "</div>"
      ],
      "text/plain": [
       "                   PC1           PC2       PC3       PC4           PC5\n",
       "hpp Aug 2005  0.000002 -1.499757e-06 -0.000004 -0.000008  2.305597e-06\n",
       "hpp Jul 2005  0.000002 -3.843267e-07 -0.000003 -0.000009  8.172153e-07\n",
       "hpp Jun 2005  0.000002  1.258222e-06 -0.000001 -0.000010  2.001431e-06\n",
       "hpp May 2005  0.000002  2.663694e-06 -0.000002 -0.000009 -1.241451e-06\n",
       "hpp Apr 2005  0.000002  3.673003e-06 -0.000004 -0.000007  8.528811e-07\n",
       "abs Sep 2005  0.446555 -5.489354e-01 -0.190178  0.313628  7.877403e-02\n",
       "abs Aug 2005  0.440877 -3.938438e-01 -0.035775  0.028667 -7.562369e-02\n",
       "abs Jul 2005  0.429192 -5.029972e-02  0.538449 -0.333122  2.297394e-01\n",
       "abs Jun 2005  0.397481  2.575435e-01  0.068591 -0.247256 -5.475081e-01\n",
       "abs May 2005  0.369460  4.241015e-01 -0.206058 -0.003571 -7.859423e-02\n",
       "abs Apr 2005  0.352645  4.796619e-01 -0.311923  0.126819  4.347601e-01\n",
       "app Sep 2005  0.024982  4.364792e-02  0.204310  0.244830 -1.725746e-01\n",
       "app Aug 2005  0.028403  1.693879e-01  0.680298  0.259002  1.912416e-01\n",
       "app Jul 2005  0.023845  1.419169e-01  0.044676  0.423097 -4.728970e-01\n",
       "app Jun 2005  0.019347  1.001133e-01 -0.025228  0.414677  1.254464e-01\n",
       "app May 2005  0.019004  6.204140e-02  0.027755  0.313919  2.846753e-01\n",
       "app Apr 2005  0.020626 -1.229216e-02  0.142178  0.368886 -2.314589e-01"
      ]
     },
     "execution_count": 39,
     "metadata": {},
     "output_type": "execute_result"
    }
   ],
   "source": [
    "pcsComponents_df = pd.DataFrame(pcs.components_.transpose(), \n",
    "                                columns = pcsSummary_df.columns,\n",
    "                                index = credit_df.iloc[:, 3:].columns\n",
    "                                )\n",
    "pcsComponents_df.iloc[:,:5]"
   ]
  },
  {
   "cell_type": "code",
   "execution_count": 40,
   "metadata": {
    "colab": {
     "base_uri": "https://localhost:8080/",
     "height": 444
    },
    "id": "DFeaIOovPu6b",
    "outputId": "56a26372-352e-418f-9164-dd4565a57f4d"
   },
   "outputs": [
    {
     "data": {
      "text/html": [
       "<div>\n",
       "<style scoped>\n",
       "    .dataframe tbody tr th:only-of-type {\n",
       "        vertical-align: middle;\n",
       "    }\n",
       "\n",
       "    .dataframe tbody tr th {\n",
       "        vertical-align: top;\n",
       "    }\n",
       "\n",
       "    .dataframe thead th {\n",
       "        text-align: right;\n",
       "    }\n",
       "</style>\n",
       "<table border=\"1\" class=\"dataframe\">\n",
       "  <thead>\n",
       "    <tr style=\"text-align: right;\">\n",
       "      <th></th>\n",
       "      <th>PC1</th>\n",
       "      <th>PC2</th>\n",
       "      <th>PC3</th>\n",
       "      <th>PC4</th>\n",
       "      <th>PC5</th>\n",
       "      <th>PC6</th>\n",
       "      <th>PC7</th>\n",
       "      <th>PC8</th>\n",
       "      <th>PC9</th>\n",
       "      <th>PC10</th>\n",
       "      <th>PC11</th>\n",
       "      <th>PC12</th>\n",
       "      <th>PC13</th>\n",
       "      <th>PC14</th>\n",
       "      <th>PC15</th>\n",
       "      <th>PC16</th>\n",
       "      <th>PC17</th>\n",
       "    </tr>\n",
       "  </thead>\n",
       "  <tbody>\n",
       "    <tr>\n",
       "      <th>hpp Aug 2005</th>\n",
       "      <td>0.000002</td>\n",
       "      <td>-1.499757e-06</td>\n",
       "      <td>-0.000004</td>\n",
       "      <td>-0.000008</td>\n",
       "      <td>2.305597e-06</td>\n",
       "      <td>-2.736507e-06</td>\n",
       "      <td>8.258552e-07</td>\n",
       "      <td>-5.841227e-07</td>\n",
       "      <td>0.000003</td>\n",
       "      <td>5.534762e-06</td>\n",
       "      <td>3.017595e-06</td>\n",
       "      <td>1.689199e-06</td>\n",
       "      <td>0.435163</td>\n",
       "      <td>-6.259274e-01</td>\n",
       "      <td>-5.357077e-01</td>\n",
       "      <td>-3.521767e-01</td>\n",
       "      <td>8.852824e-02</td>\n",
       "    </tr>\n",
       "    <tr>\n",
       "      <th>hpp Jul 2005</th>\n",
       "      <td>0.000002</td>\n",
       "      <td>-3.843267e-07</td>\n",
       "      <td>-0.000003</td>\n",
       "      <td>-0.000009</td>\n",
       "      <td>8.172153e-07</td>\n",
       "      <td>3.533128e-06</td>\n",
       "      <td>2.675085e-07</td>\n",
       "      <td>-5.013228e-07</td>\n",
       "      <td>0.000002</td>\n",
       "      <td>4.256297e-06</td>\n",
       "      <td>1.814341e-07</td>\n",
       "      <td>1.321154e-06</td>\n",
       "      <td>0.467994</td>\n",
       "      <td>-3.973749e-01</td>\n",
       "      <td>3.781375e-01</td>\n",
       "      <td>6.470125e-01</td>\n",
       "      <td>-2.479146e-01</td>\n",
       "    </tr>\n",
       "    <tr>\n",
       "      <th>hpp Jun 2005</th>\n",
       "      <td>0.000002</td>\n",
       "      <td>1.258222e-06</td>\n",
       "      <td>-0.000001</td>\n",
       "      <td>-0.000010</td>\n",
       "      <td>2.001431e-06</td>\n",
       "      <td>7.634436e-07</td>\n",
       "      <td>1.377877e-06</td>\n",
       "      <td>-1.468513e-06</td>\n",
       "      <td>0.000004</td>\n",
       "      <td>8.130098e-07</td>\n",
       "      <td>1.920327e-06</td>\n",
       "      <td>3.355409e-06</td>\n",
       "      <td>0.467133</td>\n",
       "      <td>1.289582e-01</td>\n",
       "      <td>5.722755e-01</td>\n",
       "      <td>-3.877621e-01</td>\n",
       "      <td>5.360017e-01</td>\n",
       "    </tr>\n",
       "    <tr>\n",
       "      <th>hpp May 2005</th>\n",
       "      <td>0.000002</td>\n",
       "      <td>2.663694e-06</td>\n",
       "      <td>-0.000002</td>\n",
       "      <td>-0.000009</td>\n",
       "      <td>-1.241451e-06</td>\n",
       "      <td>-9.055027e-07</td>\n",
       "      <td>-5.618409e-07</td>\n",
       "      <td>-6.693577e-07</td>\n",
       "      <td>0.000005</td>\n",
       "      <td>2.962751e-06</td>\n",
       "      <td>4.756611e-07</td>\n",
       "      <td>-7.456051e-07</td>\n",
       "      <td>0.443261</td>\n",
       "      <td>4.064673e-01</td>\n",
       "      <td>-9.173617e-03</td>\n",
       "      <td>-3.422169e-01</td>\n",
       "      <td>-7.218780e-01</td>\n",
       "    </tr>\n",
       "    <tr>\n",
       "      <th>hpp Apr 2005</th>\n",
       "      <td>0.000002</td>\n",
       "      <td>3.673003e-06</td>\n",
       "      <td>-0.000004</td>\n",
       "      <td>-0.000007</td>\n",
       "      <td>8.528811e-07</td>\n",
       "      <td>2.829327e-09</td>\n",
       "      <td>3.291314e-06</td>\n",
       "      <td>1.266949e-06</td>\n",
       "      <td>0.000005</td>\n",
       "      <td>4.302464e-06</td>\n",
       "      <td>-1.078469e-06</td>\n",
       "      <td>2.551500e-06</td>\n",
       "      <td>0.420621</td>\n",
       "      <td>5.181334e-01</td>\n",
       "      <td>-4.923879e-01</td>\n",
       "      <td>4.357460e-01</td>\n",
       "      <td>3.497076e-01</td>\n",
       "    </tr>\n",
       "    <tr>\n",
       "      <th>abs Sep 2005</th>\n",
       "      <td>0.446555</td>\n",
       "      <td>-5.489354e-01</td>\n",
       "      <td>-0.190178</td>\n",
       "      <td>0.313628</td>\n",
       "      <td>7.877403e-02</td>\n",
       "      <td>-4.581596e-01</td>\n",
       "      <td>8.312471e-03</td>\n",
       "      <td>7.776721e-02</td>\n",
       "      <td>0.171049</td>\n",
       "      <td>-2.671135e-01</td>\n",
       "      <td>-2.046138e-01</td>\n",
       "      <td>-4.596279e-03</td>\n",
       "      <td>0.000005</td>\n",
       "      <td>1.106762e-06</td>\n",
       "      <td>1.683263e-06</td>\n",
       "      <td>1.301693e-06</td>\n",
       "      <td>-2.308267e-07</td>\n",
       "    </tr>\n",
       "    <tr>\n",
       "      <th>abs Aug 2005</th>\n",
       "      <td>0.440877</td>\n",
       "      <td>-3.938438e-01</td>\n",
       "      <td>-0.035775</td>\n",
       "      <td>0.028667</td>\n",
       "      <td>-7.562369e-02</td>\n",
       "      <td>5.263058e-01</td>\n",
       "      <td>-6.475534e-02</td>\n",
       "      <td>1.034436e-01</td>\n",
       "      <td>0.012323</td>\n",
       "      <td>3.512461e-01</td>\n",
       "      <td>4.764986e-01</td>\n",
       "      <td>1.502152e-02</td>\n",
       "      <td>-0.000004</td>\n",
       "      <td>3.016674e-06</td>\n",
       "      <td>-5.936578e-07</td>\n",
       "      <td>-1.038195e-06</td>\n",
       "      <td>2.964557e-07</td>\n",
       "    </tr>\n",
       "    <tr>\n",
       "      <th>abs Jul 2005</th>\n",
       "      <td>0.429192</td>\n",
       "      <td>-5.029972e-02</td>\n",
       "      <td>0.538449</td>\n",
       "      <td>-0.333122</td>\n",
       "      <td>2.297394e-01</td>\n",
       "      <td>3.110302e-02</td>\n",
       "      <td>7.947392e-02</td>\n",
       "      <td>-1.176714e-01</td>\n",
       "      <td>-0.336088</td>\n",
       "      <td>1.534884e-01</td>\n",
       "      <td>-4.415856e-01</td>\n",
       "      <td>-8.333317e-02</td>\n",
       "      <td>-0.000002</td>\n",
       "      <td>3.692032e-07</td>\n",
       "      <td>-1.481407e-06</td>\n",
       "      <td>-7.145710e-07</td>\n",
       "      <td>-3.111520e-07</td>\n",
       "    </tr>\n",
       "    <tr>\n",
       "      <th>abs Jun 2005</th>\n",
       "      <td>0.397481</td>\n",
       "      <td>2.575435e-01</td>\n",
       "      <td>0.068591</td>\n",
       "      <td>-0.247256</td>\n",
       "      <td>-5.475081e-01</td>\n",
       "      <td>-1.774123e-01</td>\n",
       "      <td>-2.289582e-01</td>\n",
       "      <td>-1.017887e-01</td>\n",
       "      <td>-0.141102</td>\n",
       "      <td>-3.723193e-01</td>\n",
       "      <td>2.331606e-01</td>\n",
       "      <td>3.208149e-01</td>\n",
       "      <td>-0.000002</td>\n",
       "      <td>-1.355848e-06</td>\n",
       "      <td>-1.605450e-06</td>\n",
       "      <td>1.707607e-06</td>\n",
       "      <td>3.155215e-07</td>\n",
       "    </tr>\n",
       "    <tr>\n",
       "      <th>abs May 2005</th>\n",
       "      <td>0.369460</td>\n",
       "      <td>4.241015e-01</td>\n",
       "      <td>-0.206058</td>\n",
       "      <td>-0.003571</td>\n",
       "      <td>-7.859423e-02</td>\n",
       "      <td>-1.412275e-02</td>\n",
       "      <td>4.807684e-01</td>\n",
       "      <td>1.246849e-01</td>\n",
       "      <td>0.099148</td>\n",
       "      <td>-5.629411e-02</td>\n",
       "      <td>9.284986e-02</td>\n",
       "      <td>-6.053786e-01</td>\n",
       "      <td>-0.000003</td>\n",
       "      <td>-2.618674e-06</td>\n",
       "      <td>1.546964e-06</td>\n",
       "      <td>-4.230649e-07</td>\n",
       "      <td>8.685242e-07</td>\n",
       "    </tr>\n",
       "    <tr>\n",
       "      <th>abs Apr 2005</th>\n",
       "      <td>0.352645</td>\n",
       "      <td>4.796619e-01</td>\n",
       "      <td>-0.311923</td>\n",
       "      <td>0.126819</td>\n",
       "      <td>4.347601e-01</td>\n",
       "      <td>7.694953e-02</td>\n",
       "      <td>-2.628825e-01</td>\n",
       "      <td>-9.961290e-02</td>\n",
       "      <td>0.241069</td>\n",
       "      <td>2.035252e-01</td>\n",
       "      <td>-1.587440e-01</td>\n",
       "      <td>3.653538e-01</td>\n",
       "      <td>-0.000007</td>\n",
       "      <td>-1.427264e-06</td>\n",
       "      <td>1.314099e-06</td>\n",
       "      <td>-9.285983e-07</td>\n",
       "      <td>-1.082586e-06</td>\n",
       "    </tr>\n",
       "    <tr>\n",
       "      <th>app Sep 2005</th>\n",
       "      <td>0.024982</td>\n",
       "      <td>4.364792e-02</td>\n",
       "      <td>0.204310</td>\n",
       "      <td>0.244830</td>\n",
       "      <td>-1.725746e-01</td>\n",
       "      <td>6.093348e-01</td>\n",
       "      <td>-7.997223e-02</td>\n",
       "      <td>1.815124e-01</td>\n",
       "      <td>0.275784</td>\n",
       "      <td>-4.709213e-01</td>\n",
       "      <td>-3.966419e-01</td>\n",
       "      <td>-1.497562e-02</td>\n",
       "      <td>0.000009</td>\n",
       "      <td>-3.198276e-06</td>\n",
       "      <td>-2.990697e-06</td>\n",
       "      <td>-2.213294e-06</td>\n",
       "      <td>5.566667e-07</td>\n",
       "    </tr>\n",
       "    <tr>\n",
       "      <th>app Aug 2005</th>\n",
       "      <td>0.028403</td>\n",
       "      <td>1.693879e-01</td>\n",
       "      <td>0.680298</td>\n",
       "      <td>0.259002</td>\n",
       "      <td>1.912416e-01</td>\n",
       "      <td>-2.574394e-01</td>\n",
       "      <td>-2.032792e-03</td>\n",
       "      <td>2.395194e-01</td>\n",
       "      <td>0.360774</td>\n",
       "      <td>2.283680e-02</td>\n",
       "      <td>3.839796e-01</td>\n",
       "      <td>4.766423e-02</td>\n",
       "      <td>0.000005</td>\n",
       "      <td>-1.549936e-06</td>\n",
       "      <td>6.863137e-07</td>\n",
       "      <td>2.151972e-06</td>\n",
       "      <td>-7.699264e-07</td>\n",
       "    </tr>\n",
       "    <tr>\n",
       "      <th>app Jul 2005</th>\n",
       "      <td>0.023845</td>\n",
       "      <td>1.419169e-01</td>\n",
       "      <td>0.044676</td>\n",
       "      <td>0.423097</td>\n",
       "      <td>-4.728970e-01</td>\n",
       "      <td>-1.570174e-01</td>\n",
       "      <td>-3.046208e-01</td>\n",
       "      <td>2.483003e-01</td>\n",
       "      <td>-0.192386</td>\n",
       "      <td>5.039968e-01</td>\n",
       "      <td>-2.855469e-01</td>\n",
       "      <td>-1.516205e-01</td>\n",
       "      <td>0.000009</td>\n",
       "      <td>-5.876745e-07</td>\n",
       "      <td>2.311537e-06</td>\n",
       "      <td>-1.421583e-06</td>\n",
       "      <td>2.606838e-06</td>\n",
       "    </tr>\n",
       "    <tr>\n",
       "      <th>app Jun 2005</th>\n",
       "      <td>0.019347</td>\n",
       "      <td>1.001133e-01</td>\n",
       "      <td>-0.025228</td>\n",
       "      <td>0.414677</td>\n",
       "      <td>1.254464e-01</td>\n",
       "      <td>8.221822e-02</td>\n",
       "      <td>4.508259e-01</td>\n",
       "      <td>2.363508e-01</td>\n",
       "      <td>-0.589467</td>\n",
       "      <td>-1.343803e-01</td>\n",
       "      <td>7.860589e-02</td>\n",
       "      <td>4.045970e-01</td>\n",
       "      <td>0.000010</td>\n",
       "      <td>7.880147e-07</td>\n",
       "      <td>4.188453e-08</td>\n",
       "      <td>-1.641699e-06</td>\n",
       "      <td>-3.023748e-06</td>\n",
       "    </tr>\n",
       "    <tr>\n",
       "      <th>app May 2005</th>\n",
       "      <td>0.019004</td>\n",
       "      <td>6.204140e-02</td>\n",
       "      <td>0.027755</td>\n",
       "      <td>0.313919</td>\n",
       "      <td>2.846753e-01</td>\n",
       "      <td>6.001851e-02</td>\n",
       "      <td>-4.823310e-01</td>\n",
       "      <td>-2.993294e-01</td>\n",
       "      <td>-0.393575</td>\n",
       "      <td>-2.923565e-01</td>\n",
       "      <td>2.347906e-01</td>\n",
       "      <td>-4.405570e-01</td>\n",
       "      <td>0.000013</td>\n",
       "      <td>1.922187e-06</td>\n",
       "      <td>-1.958508e-06</td>\n",
       "      <td>1.212997e-06</td>\n",
       "      <td>1.334557e-06</td>\n",
       "    </tr>\n",
       "    <tr>\n",
       "      <th>app Apr 2005</th>\n",
       "      <td>0.020626</td>\n",
       "      <td>-1.229216e-02</td>\n",
       "      <td>0.142178</td>\n",
       "      <td>0.368886</td>\n",
       "      <td>-2.314589e-01</td>\n",
       "      <td>4.413986e-02</td>\n",
       "      <td>3.188629e-01</td>\n",
       "      <td>-7.975876e-01</td>\n",
       "      <td>0.155500</td>\n",
       "      <td>1.366494e-01</td>\n",
       "      <td>-1.708924e-02</td>\n",
       "      <td>8.152191e-02</td>\n",
       "      <td>0.000004</td>\n",
       "      <td>-5.248554e-07</td>\n",
       "      <td>-9.264520e-08</td>\n",
       "      <td>2.324392e-07</td>\n",
       "      <td>-1.318728e-07</td>\n",
       "    </tr>\n",
       "  </tbody>\n",
       "</table>\n",
       "</div>"
      ],
      "text/plain": [
       "                   PC1           PC2       PC3       PC4           PC5  \\\n",
       "hpp Aug 2005  0.000002 -1.499757e-06 -0.000004 -0.000008  2.305597e-06   \n",
       "hpp Jul 2005  0.000002 -3.843267e-07 -0.000003 -0.000009  8.172153e-07   \n",
       "hpp Jun 2005  0.000002  1.258222e-06 -0.000001 -0.000010  2.001431e-06   \n",
       "hpp May 2005  0.000002  2.663694e-06 -0.000002 -0.000009 -1.241451e-06   \n",
       "hpp Apr 2005  0.000002  3.673003e-06 -0.000004 -0.000007  8.528811e-07   \n",
       "abs Sep 2005  0.446555 -5.489354e-01 -0.190178  0.313628  7.877403e-02   \n",
       "abs Aug 2005  0.440877 -3.938438e-01 -0.035775  0.028667 -7.562369e-02   \n",
       "abs Jul 2005  0.429192 -5.029972e-02  0.538449 -0.333122  2.297394e-01   \n",
       "abs Jun 2005  0.397481  2.575435e-01  0.068591 -0.247256 -5.475081e-01   \n",
       "abs May 2005  0.369460  4.241015e-01 -0.206058 -0.003571 -7.859423e-02   \n",
       "abs Apr 2005  0.352645  4.796619e-01 -0.311923  0.126819  4.347601e-01   \n",
       "app Sep 2005  0.024982  4.364792e-02  0.204310  0.244830 -1.725746e-01   \n",
       "app Aug 2005  0.028403  1.693879e-01  0.680298  0.259002  1.912416e-01   \n",
       "app Jul 2005  0.023845  1.419169e-01  0.044676  0.423097 -4.728970e-01   \n",
       "app Jun 2005  0.019347  1.001133e-01 -0.025228  0.414677  1.254464e-01   \n",
       "app May 2005  0.019004  6.204140e-02  0.027755  0.313919  2.846753e-01   \n",
       "app Apr 2005  0.020626 -1.229216e-02  0.142178  0.368886 -2.314589e-01   \n",
       "\n",
       "                       PC6           PC7           PC8       PC9  \\\n",
       "hpp Aug 2005 -2.736507e-06  8.258552e-07 -5.841227e-07  0.000003   \n",
       "hpp Jul 2005  3.533128e-06  2.675085e-07 -5.013228e-07  0.000002   \n",
       "hpp Jun 2005  7.634436e-07  1.377877e-06 -1.468513e-06  0.000004   \n",
       "hpp May 2005 -9.055027e-07 -5.618409e-07 -6.693577e-07  0.000005   \n",
       "hpp Apr 2005  2.829327e-09  3.291314e-06  1.266949e-06  0.000005   \n",
       "abs Sep 2005 -4.581596e-01  8.312471e-03  7.776721e-02  0.171049   \n",
       "abs Aug 2005  5.263058e-01 -6.475534e-02  1.034436e-01  0.012323   \n",
       "abs Jul 2005  3.110302e-02  7.947392e-02 -1.176714e-01 -0.336088   \n",
       "abs Jun 2005 -1.774123e-01 -2.289582e-01 -1.017887e-01 -0.141102   \n",
       "abs May 2005 -1.412275e-02  4.807684e-01  1.246849e-01  0.099148   \n",
       "abs Apr 2005  7.694953e-02 -2.628825e-01 -9.961290e-02  0.241069   \n",
       "app Sep 2005  6.093348e-01 -7.997223e-02  1.815124e-01  0.275784   \n",
       "app Aug 2005 -2.574394e-01 -2.032792e-03  2.395194e-01  0.360774   \n",
       "app Jul 2005 -1.570174e-01 -3.046208e-01  2.483003e-01 -0.192386   \n",
       "app Jun 2005  8.221822e-02  4.508259e-01  2.363508e-01 -0.589467   \n",
       "app May 2005  6.001851e-02 -4.823310e-01 -2.993294e-01 -0.393575   \n",
       "app Apr 2005  4.413986e-02  3.188629e-01 -7.975876e-01  0.155500   \n",
       "\n",
       "                      PC10          PC11          PC12      PC13  \\\n",
       "hpp Aug 2005  5.534762e-06  3.017595e-06  1.689199e-06  0.435163   \n",
       "hpp Jul 2005  4.256297e-06  1.814341e-07  1.321154e-06  0.467994   \n",
       "hpp Jun 2005  8.130098e-07  1.920327e-06  3.355409e-06  0.467133   \n",
       "hpp May 2005  2.962751e-06  4.756611e-07 -7.456051e-07  0.443261   \n",
       "hpp Apr 2005  4.302464e-06 -1.078469e-06  2.551500e-06  0.420621   \n",
       "abs Sep 2005 -2.671135e-01 -2.046138e-01 -4.596279e-03  0.000005   \n",
       "abs Aug 2005  3.512461e-01  4.764986e-01  1.502152e-02 -0.000004   \n",
       "abs Jul 2005  1.534884e-01 -4.415856e-01 -8.333317e-02 -0.000002   \n",
       "abs Jun 2005 -3.723193e-01  2.331606e-01  3.208149e-01 -0.000002   \n",
       "abs May 2005 -5.629411e-02  9.284986e-02 -6.053786e-01 -0.000003   \n",
       "abs Apr 2005  2.035252e-01 -1.587440e-01  3.653538e-01 -0.000007   \n",
       "app Sep 2005 -4.709213e-01 -3.966419e-01 -1.497562e-02  0.000009   \n",
       "app Aug 2005  2.283680e-02  3.839796e-01  4.766423e-02  0.000005   \n",
       "app Jul 2005  5.039968e-01 -2.855469e-01 -1.516205e-01  0.000009   \n",
       "app Jun 2005 -1.343803e-01  7.860589e-02  4.045970e-01  0.000010   \n",
       "app May 2005 -2.923565e-01  2.347906e-01 -4.405570e-01  0.000013   \n",
       "app Apr 2005  1.366494e-01 -1.708924e-02  8.152191e-02  0.000004   \n",
       "\n",
       "                      PC14          PC15          PC16          PC17  \n",
       "hpp Aug 2005 -6.259274e-01 -5.357077e-01 -3.521767e-01  8.852824e-02  \n",
       "hpp Jul 2005 -3.973749e-01  3.781375e-01  6.470125e-01 -2.479146e-01  \n",
       "hpp Jun 2005  1.289582e-01  5.722755e-01 -3.877621e-01  5.360017e-01  \n",
       "hpp May 2005  4.064673e-01 -9.173617e-03 -3.422169e-01 -7.218780e-01  \n",
       "hpp Apr 2005  5.181334e-01 -4.923879e-01  4.357460e-01  3.497076e-01  \n",
       "abs Sep 2005  1.106762e-06  1.683263e-06  1.301693e-06 -2.308267e-07  \n",
       "abs Aug 2005  3.016674e-06 -5.936578e-07 -1.038195e-06  2.964557e-07  \n",
       "abs Jul 2005  3.692032e-07 -1.481407e-06 -7.145710e-07 -3.111520e-07  \n",
       "abs Jun 2005 -1.355848e-06 -1.605450e-06  1.707607e-06  3.155215e-07  \n",
       "abs May 2005 -2.618674e-06  1.546964e-06 -4.230649e-07  8.685242e-07  \n",
       "abs Apr 2005 -1.427264e-06  1.314099e-06 -9.285983e-07 -1.082586e-06  \n",
       "app Sep 2005 -3.198276e-06 -2.990697e-06 -2.213294e-06  5.566667e-07  \n",
       "app Aug 2005 -1.549936e-06  6.863137e-07  2.151972e-06 -7.699264e-07  \n",
       "app Jul 2005 -5.876745e-07  2.311537e-06 -1.421583e-06  2.606838e-06  \n",
       "app Jun 2005  7.880147e-07  4.188453e-08 -1.641699e-06 -3.023748e-06  \n",
       "app May 2005  1.922187e-06 -1.958508e-06  1.212997e-06  1.334557e-06  \n",
       "app Apr 2005 -5.248554e-07 -9.264520e-08  2.324392e-07 -1.318728e-07  "
      ]
     },
     "execution_count": 40,
     "metadata": {},
     "output_type": "execute_result"
    }
   ],
   "source": [
    "pcsComponents_dfX = pd.DataFrame(pcs.components_.transpose(), \n",
    "                                columns = pcsSummary_df.columns,\n",
    "                                index = credit_df.iloc[:, 3:].columns\n",
    "                                )\n",
    "pcsComponents_dfX"
   ]
  },
  {
   "cell_type": "markdown",
   "metadata": {},
   "source": [
    "Here, it is clear that: \n",
    "* the first principal component is dominated by the 'abs Sep 2005': \n",
    "  * it has the highest (in this case, negative) weight (0.446555). \n",
    "  \t\n",
    "  * This means that the first principal component is in fact measuring how much 'abs Sep 2005' Amount of bill statement (NT dollar) has the client.\n",
    "  \n",
    "* The second principal component seems to be measuring 'app Aug 2005'. \n",
    "\n",
    "**Normalize before applying PCA!!!**"
   ]
  },
  {
   "cell_type": "markdown",
   "metadata": {},
   "source": [
    "* Normalize and then performing PCA on the correlation matrix instead of the covariance matrix. \n",
    "* Using the correlation matrix means that you are opeage on the normalized data. "
   ]
  },
  {
   "cell_type": "code",
   "execution_count": 41,
   "metadata": {
    "id": "Gd_UIdk2budY"
   },
   "outputs": [],
   "source": [
    "from sklearn import preprocessing"
   ]
  },
  {
   "cell_type": "markdown",
   "metadata": {
    "id": "L8DAaQrQfmhC"
   },
   "source": [
    "#### Normalize the 24 variables due to the different scales of the variables and then perform PCA (or equivalently, we use PCA applied to the correlation matrix)"
   ]
  },
  {
   "cell_type": "code",
   "execution_count": 42,
   "metadata": {},
   "outputs": [
    {
     "data": {
      "text/html": [
       "<div>\n",
       "<style scoped>\n",
       "    .dataframe tbody tr th:only-of-type {\n",
       "        vertical-align: middle;\n",
       "    }\n",
       "\n",
       "    .dataframe tbody tr th {\n",
       "        vertical-align: top;\n",
       "    }\n",
       "\n",
       "    .dataframe thead th {\n",
       "        text-align: right;\n",
       "    }\n",
       "</style>\n",
       "<table border=\"1\" class=\"dataframe\">\n",
       "  <thead>\n",
       "    <tr style=\"text-align: right;\">\n",
       "      <th></th>\n",
       "      <th>hpp Aug 2005</th>\n",
       "      <th>hpp Jul 2005</th>\n",
       "      <th>hpp Jun 2005</th>\n",
       "      <th>hpp May 2005</th>\n",
       "      <th>hpp Apr 2005</th>\n",
       "      <th>abs Sep 2005</th>\n",
       "      <th>abs Aug 2005</th>\n",
       "      <th>abs Jul 2005</th>\n",
       "      <th>abs Jun 2005</th>\n",
       "      <th>abs May 2005</th>\n",
       "      <th>abs Apr 2005</th>\n",
       "      <th>app Sep 2005</th>\n",
       "      <th>app Aug 2005</th>\n",
       "      <th>app Jul 2005</th>\n",
       "      <th>app Jun 2005</th>\n",
       "      <th>app May 2005</th>\n",
       "      <th>app Apr 2005</th>\n",
       "    </tr>\n",
       "    <tr>\n",
       "      <th>ID</th>\n",
       "      <th></th>\n",
       "      <th></th>\n",
       "      <th></th>\n",
       "      <th></th>\n",
       "      <th></th>\n",
       "      <th></th>\n",
       "      <th></th>\n",
       "      <th></th>\n",
       "      <th></th>\n",
       "      <th></th>\n",
       "      <th></th>\n",
       "      <th></th>\n",
       "      <th></th>\n",
       "      <th></th>\n",
       "      <th></th>\n",
       "      <th></th>\n",
       "      <th></th>\n",
       "    </tr>\n",
       "  </thead>\n",
       "  <tbody>\n",
       "    <tr>\n",
       "      <th>1</th>\n",
       "      <td>2.0</td>\n",
       "      <td>-1.0</td>\n",
       "      <td>-1.0</td>\n",
       "      <td>-2.0</td>\n",
       "      <td>-2.0</td>\n",
       "      <td>3913.0</td>\n",
       "      <td>3102.0</td>\n",
       "      <td>689.0</td>\n",
       "      <td>0.0</td>\n",
       "      <td>0.0</td>\n",
       "      <td>0.0</td>\n",
       "      <td>0.0</td>\n",
       "      <td>689.0</td>\n",
       "      <td>0.0</td>\n",
       "      <td>0.0</td>\n",
       "      <td>0.0</td>\n",
       "      <td>0.0</td>\n",
       "    </tr>\n",
       "    <tr>\n",
       "      <th>2</th>\n",
       "      <td>2.0</td>\n",
       "      <td>0.0</td>\n",
       "      <td>0.0</td>\n",
       "      <td>0.0</td>\n",
       "      <td>2.0</td>\n",
       "      <td>2682.0</td>\n",
       "      <td>1725.0</td>\n",
       "      <td>2682.0</td>\n",
       "      <td>3272.0</td>\n",
       "      <td>3455.0</td>\n",
       "      <td>3261.0</td>\n",
       "      <td>0.0</td>\n",
       "      <td>1000.0</td>\n",
       "      <td>1000.0</td>\n",
       "      <td>1000.0</td>\n",
       "      <td>0.0</td>\n",
       "      <td>2000.0</td>\n",
       "    </tr>\n",
       "    <tr>\n",
       "      <th>3</th>\n",
       "      <td>0.0</td>\n",
       "      <td>0.0</td>\n",
       "      <td>0.0</td>\n",
       "      <td>0.0</td>\n",
       "      <td>0.0</td>\n",
       "      <td>29239.0</td>\n",
       "      <td>14027.0</td>\n",
       "      <td>13559.0</td>\n",
       "      <td>14331.0</td>\n",
       "      <td>14948.0</td>\n",
       "      <td>15549.0</td>\n",
       "      <td>1518.0</td>\n",
       "      <td>1500.0</td>\n",
       "      <td>1000.0</td>\n",
       "      <td>1000.0</td>\n",
       "      <td>1000.0</td>\n",
       "      <td>5000.0</td>\n",
       "    </tr>\n",
       "    <tr>\n",
       "      <th>4</th>\n",
       "      <td>0.0</td>\n",
       "      <td>0.0</td>\n",
       "      <td>0.0</td>\n",
       "      <td>0.0</td>\n",
       "      <td>0.0</td>\n",
       "      <td>46990.0</td>\n",
       "      <td>48233.0</td>\n",
       "      <td>49291.0</td>\n",
       "      <td>28314.0</td>\n",
       "      <td>28959.0</td>\n",
       "      <td>29547.0</td>\n",
       "      <td>2000.0</td>\n",
       "      <td>2019.0</td>\n",
       "      <td>1200.0</td>\n",
       "      <td>1100.0</td>\n",
       "      <td>1069.0</td>\n",
       "      <td>1000.0</td>\n",
       "    </tr>\n",
       "    <tr>\n",
       "      <th>5</th>\n",
       "      <td>0.0</td>\n",
       "      <td>-1.0</td>\n",
       "      <td>0.0</td>\n",
       "      <td>0.0</td>\n",
       "      <td>0.0</td>\n",
       "      <td>8617.0</td>\n",
       "      <td>5670.0</td>\n",
       "      <td>35835.0</td>\n",
       "      <td>20940.0</td>\n",
       "      <td>19146.0</td>\n",
       "      <td>19131.0</td>\n",
       "      <td>2000.0</td>\n",
       "      <td>36681.0</td>\n",
       "      <td>10000.0</td>\n",
       "      <td>9000.0</td>\n",
       "      <td>689.0</td>\n",
       "      <td>679.0</td>\n",
       "    </tr>\n",
       "  </tbody>\n",
       "</table>\n",
       "</div>"
      ],
      "text/plain": [
       "    hpp Aug 2005  hpp Jul 2005  hpp Jun 2005  hpp May 2005  hpp Apr 2005  \\\n",
       "ID                                                                         \n",
       "1            2.0          -1.0          -1.0          -2.0          -2.0   \n",
       "2            2.0           0.0           0.0           0.0           2.0   \n",
       "3            0.0           0.0           0.0           0.0           0.0   \n",
       "4            0.0           0.0           0.0           0.0           0.0   \n",
       "5            0.0          -1.0           0.0           0.0           0.0   \n",
       "\n",
       "    abs Sep 2005  abs Aug 2005  abs Jul 2005  abs Jun 2005  abs May 2005  \\\n",
       "ID                                                                         \n",
       "1         3913.0        3102.0         689.0           0.0           0.0   \n",
       "2         2682.0        1725.0        2682.0        3272.0        3455.0   \n",
       "3        29239.0       14027.0       13559.0       14331.0       14948.0   \n",
       "4        46990.0       48233.0       49291.0       28314.0       28959.0   \n",
       "5         8617.0        5670.0       35835.0       20940.0       19146.0   \n",
       "\n",
       "    abs Apr 2005  app Sep 2005  app Aug 2005  app Jul 2005  app Jun 2005  \\\n",
       "ID                                                                         \n",
       "1            0.0           0.0         689.0           0.0           0.0   \n",
       "2         3261.0           0.0        1000.0        1000.0        1000.0   \n",
       "3        15549.0        1518.0        1500.0        1000.0        1000.0   \n",
       "4        29547.0        2000.0        2019.0        1200.0        1100.0   \n",
       "5        19131.0        2000.0       36681.0       10000.0        9000.0   \n",
       "\n",
       "    app May 2005  app Apr 2005  \n",
       "ID                              \n",
       "1            0.0           0.0  \n",
       "2            0.0        2000.0  \n",
       "3         1000.0        5000.0  \n",
       "4         1069.0        1000.0  \n",
       "5          689.0         679.0  "
      ]
     },
     "execution_count": 42,
     "metadata": {},
     "output_type": "execute_result"
    }
   ],
   "source": [
    "credit_df.iloc[:, 3:].head()"
   ]
  },
  {
   "cell_type": "code",
   "execution_count": 43,
   "metadata": {
    "colab": {
     "base_uri": "https://localhost:8080/",
     "height": 140
    },
    "id": "HY8QEOSqQWBm",
    "outputId": "1ab0efd4-0821-4edc-84b6-3b9bbb502cde"
   },
   "outputs": [
    {
     "data": {
      "text/plain": [
       "PCA()"
      ]
     },
     "execution_count": 43,
     "metadata": {},
     "output_type": "execute_result"
    }
   ],
   "source": [
    "pcs = PCA()\n",
    "pcs.fit(preprocessing.scale(credit_df.iloc[:, 3:].dropna(axis=0))) \n",
    "                # Standardize a dataset along any axis.\n",
    "                # Center to the mean and component wise scale to unit variance.\n"
   ]
  },
  {
   "cell_type": "code",
   "execution_count": 44,
   "metadata": {},
   "outputs": [
    {
     "data": {
      "text/html": [
       "<div>\n",
       "<style scoped>\n",
       "    .dataframe tbody tr th:only-of-type {\n",
       "        vertical-align: middle;\n",
       "    }\n",
       "\n",
       "    .dataframe tbody tr th {\n",
       "        vertical-align: top;\n",
       "    }\n",
       "\n",
       "    .dataframe thead th {\n",
       "        text-align: right;\n",
       "    }\n",
       "</style>\n",
       "<table border=\"1\" class=\"dataframe\">\n",
       "  <thead>\n",
       "    <tr style=\"text-align: right;\">\n",
       "      <th></th>\n",
       "      <th>PC1</th>\n",
       "      <th>PC2</th>\n",
       "      <th>PC3</th>\n",
       "      <th>PC4</th>\n",
       "      <th>PC5</th>\n",
       "      <th>PC6</th>\n",
       "      <th>PC7</th>\n",
       "      <th>PC8</th>\n",
       "      <th>PC9</th>\n",
       "      <th>PC10</th>\n",
       "      <th>PC11</th>\n",
       "      <th>PC12</th>\n",
       "      <th>PC13</th>\n",
       "      <th>PC14</th>\n",
       "      <th>PC15</th>\n",
       "      <th>PC16</th>\n",
       "      <th>PC17</th>\n",
       "    </tr>\n",
       "  </thead>\n",
       "  <tbody>\n",
       "    <tr>\n",
       "      <th>Standard deviation</th>\n",
       "      <td>2.5219</td>\n",
       "      <td>1.8419</td>\n",
       "      <td>1.2268</td>\n",
       "      <td>0.9550</td>\n",
       "      <td>0.9424</td>\n",
       "      <td>0.9339</td>\n",
       "      <td>0.8848</td>\n",
       "      <td>0.8558</td>\n",
       "      <td>0.7361</td>\n",
       "      <td>0.5261</td>\n",
       "      <td>0.5006</td>\n",
       "      <td>0.4404</td>\n",
       "      <td>0.3638</td>\n",
       "      <td>0.2650</td>\n",
       "      <td>0.2023</td>\n",
       "      <td>0.1591</td>\n",
       "      <td>0.1524</td>\n",
       "    </tr>\n",
       "    <tr>\n",
       "      <th>Proportion of variance</th>\n",
       "      <td>0.3741</td>\n",
       "      <td>0.1996</td>\n",
       "      <td>0.0885</td>\n",
       "      <td>0.0537</td>\n",
       "      <td>0.0522</td>\n",
       "      <td>0.0513</td>\n",
       "      <td>0.0461</td>\n",
       "      <td>0.0431</td>\n",
       "      <td>0.0319</td>\n",
       "      <td>0.0163</td>\n",
       "      <td>0.0147</td>\n",
       "      <td>0.0114</td>\n",
       "      <td>0.0078</td>\n",
       "      <td>0.0041</td>\n",
       "      <td>0.0024</td>\n",
       "      <td>0.0015</td>\n",
       "      <td>0.0014</td>\n",
       "    </tr>\n",
       "    <tr>\n",
       "      <th>Cumulative proportion</th>\n",
       "      <td>0.3741</td>\n",
       "      <td>0.5737</td>\n",
       "      <td>0.6622</td>\n",
       "      <td>0.7158</td>\n",
       "      <td>0.7681</td>\n",
       "      <td>0.8194</td>\n",
       "      <td>0.8654</td>\n",
       "      <td>0.9085</td>\n",
       "      <td>0.9404</td>\n",
       "      <td>0.9567</td>\n",
       "      <td>0.9714</td>\n",
       "      <td>0.9828</td>\n",
       "      <td>0.9906</td>\n",
       "      <td>0.9947</td>\n",
       "      <td>0.9971</td>\n",
       "      <td>0.9986</td>\n",
       "      <td>1.0000</td>\n",
       "    </tr>\n",
       "  </tbody>\n",
       "</table>\n",
       "</div>"
      ],
      "text/plain": [
       "                           PC1     PC2     PC3     PC4     PC5     PC6  \\\n",
       "Standard deviation      2.5219  1.8419  1.2268  0.9550  0.9424  0.9339   \n",
       "Proportion of variance  0.3741  0.1996  0.0885  0.0537  0.0522  0.0513   \n",
       "Cumulative proportion   0.3741  0.5737  0.6622  0.7158  0.7681  0.8194   \n",
       "\n",
       "                           PC7     PC8     PC9    PC10    PC11    PC12  \\\n",
       "Standard deviation      0.8848  0.8558  0.7361  0.5261  0.5006  0.4404   \n",
       "Proportion of variance  0.0461  0.0431  0.0319  0.0163  0.0147  0.0114   \n",
       "Cumulative proportion   0.8654  0.9085  0.9404  0.9567  0.9714  0.9828   \n",
       "\n",
       "                          PC13    PC14    PC15    PC16    PC17  \n",
       "Standard deviation      0.3638  0.2650  0.2023  0.1591  0.1524  \n",
       "Proportion of variance  0.0078  0.0041  0.0024  0.0015  0.0014  \n",
       "Cumulative proportion   0.9906  0.9947  0.9971  0.9986  1.0000  "
      ]
     },
     "execution_count": 44,
     "metadata": {},
     "output_type": "execute_result"
    }
   ],
   "source": [
    "pcsSummary_df = pd.DataFrame({'Standard deviation': np.sqrt(pcs.explained_variance_),\n",
    "                             'Proportion of variance': pcs.explained_variance_ratio_,\n",
    "                             'Cumulative proportion': np.cumsum(pcs.explained_variance_ratio_)\n",
    "                             })\n",
    "\n",
    "pcsSummary_df = pcsSummary_df.transpose()\n",
    "pcsSummary_df.columns = ['PC{}'.format(i) for i in range(1, len(pcsSummary_df.columns) + 1)]\n",
    "pcsSummary_df.round(4) "
   ]
  },
  {
   "cell_type": "code",
   "execution_count": 60,
   "metadata": {},
   "outputs": [
    {
     "data": {
      "text/plain": [
       "0.5736611523101947"
      ]
     },
     "execution_count": 60,
     "metadata": {},
     "output_type": "execute_result"
    }
   ],
   "source": [
    "pcsSummary_df.iloc[2,1]"
   ]
  },
  {
   "cell_type": "markdown",
   "metadata": {},
   "source": [
    "* Now we find that we need eleven principal components to account for 97% of the total variability. \n",
    "* The first two principal components account for only 57.366% of the total variability, and thus reducing the number of variables to two would mean losing a lot of information. "
   ]
  },
  {
   "cell_type": "code",
   "execution_count": 46,
   "metadata": {
    "colab": {
     "base_uri": "https://localhost:8080/",
     "height": 444
    },
    "id": "iZD7YxMOQnFA",
    "outputId": "9f352f51-922f-4582-d2c3-56081b892d7b"
   },
   "outputs": [
    {
     "data": {
      "text/html": [
       "<div>\n",
       "<style scoped>\n",
       "    .dataframe tbody tr th:only-of-type {\n",
       "        vertical-align: middle;\n",
       "    }\n",
       "\n",
       "    .dataframe tbody tr th {\n",
       "        vertical-align: top;\n",
       "    }\n",
       "\n",
       "    .dataframe thead th {\n",
       "        text-align: right;\n",
       "    }\n",
       "</style>\n",
       "<table border=\"1\" class=\"dataframe\">\n",
       "  <thead>\n",
       "    <tr style=\"text-align: right;\">\n",
       "      <th></th>\n",
       "      <th>PC1</th>\n",
       "      <th>PC2</th>\n",
       "      <th>PC3</th>\n",
       "      <th>PC4</th>\n",
       "      <th>PC5</th>\n",
       "      <th>PC6</th>\n",
       "      <th>PC7</th>\n",
       "      <th>PC8</th>\n",
       "      <th>PC9</th>\n",
       "      <th>PC10</th>\n",
       "      <th>PC11</th>\n",
       "      <th>PC12</th>\n",
       "    </tr>\n",
       "  </thead>\n",
       "  <tbody>\n",
       "    <tr>\n",
       "      <th>hpp Aug 2005</th>\n",
       "      <td>0.182133</td>\n",
       "      <td>-0.370555</td>\n",
       "      <td>0.038277</td>\n",
       "      <td>-0.093717</td>\n",
       "      <td>0.003960</td>\n",
       "      <td>-0.024331</td>\n",
       "      <td>0.005363</td>\n",
       "      <td>0.009595</td>\n",
       "      <td>0.615737</td>\n",
       "      <td>0.521661</td>\n",
       "      <td>-0.038415</td>\n",
       "      <td>-0.390193</td>\n",
       "    </tr>\n",
       "    <tr>\n",
       "      <th>hpp Jul 2005</th>\n",
       "      <td>0.190795</td>\n",
       "      <td>-0.396060</td>\n",
       "      <td>0.091279</td>\n",
       "      <td>-0.050900</td>\n",
       "      <td>-0.022859</td>\n",
       "      <td>-0.019187</td>\n",
       "      <td>-0.025106</td>\n",
       "      <td>-0.109569</td>\n",
       "      <td>0.402112</td>\n",
       "      <td>-0.303752</td>\n",
       "      <td>-0.163334</td>\n",
       "      <td>0.640234</td>\n",
       "    </tr>\n",
       "    <tr>\n",
       "      <th>hpp Jun 2005</th>\n",
       "      <td>0.198663</td>\n",
       "      <td>-0.405322</td>\n",
       "      <td>0.126948</td>\n",
       "      <td>-0.014929</td>\n",
       "      <td>-0.041633</td>\n",
       "      <td>0.021928</td>\n",
       "      <td>-0.056389</td>\n",
       "      <td>0.005734</td>\n",
       "      <td>-0.083813</td>\n",
       "      <td>-0.600528</td>\n",
       "      <td>0.041285</td>\n",
       "      <td>-0.287605</td>\n",
       "    </tr>\n",
       "    <tr>\n",
       "      <th>hpp May 2005</th>\n",
       "      <td>0.203603</td>\n",
       "      <td>-0.394029</td>\n",
       "      <td>0.145679</td>\n",
       "      <td>0.032480</td>\n",
       "      <td>-0.008026</td>\n",
       "      <td>0.026185</td>\n",
       "      <td>0.068537</td>\n",
       "      <td>0.030625</td>\n",
       "      <td>-0.375459</td>\n",
       "      <td>-0.040259</td>\n",
       "      <td>0.143001</td>\n",
       "      <td>-0.380931</td>\n",
       "    </tr>\n",
       "    <tr>\n",
       "      <th>hpp Apr 2005</th>\n",
       "      <td>0.200126</td>\n",
       "      <td>-0.364357</td>\n",
       "      <td>0.144839</td>\n",
       "      <td>0.048810</td>\n",
       "      <td>0.080890</td>\n",
       "      <td>-0.025331</td>\n",
       "      <td>0.016044</td>\n",
       "      <td>0.046116</td>\n",
       "      <td>-0.491732</td>\n",
       "      <td>0.504451</td>\n",
       "      <td>0.085245</td>\n",
       "      <td>0.430590</td>\n",
       "    </tr>\n",
       "    <tr>\n",
       "      <th>abs Sep 2005</th>\n",
       "      <td>0.343788</td>\n",
       "      <td>0.138461</td>\n",
       "      <td>-0.220410</td>\n",
       "      <td>-0.050892</td>\n",
       "      <td>-0.030255</td>\n",
       "      <td>-0.059413</td>\n",
       "      <td>0.011303</td>\n",
       "      <td>0.008644</td>\n",
       "      <td>0.087699</td>\n",
       "      <td>-0.006283</td>\n",
       "      <td>0.551036</td>\n",
       "      <td>0.056687</td>\n",
       "    </tr>\n",
       "    <tr>\n",
       "      <th>abs Aug 2005</th>\n",
       "      <td>0.355785</td>\n",
       "      <td>0.138389</td>\n",
       "      <td>-0.189278</td>\n",
       "      <td>0.016305</td>\n",
       "      <td>-0.078714</td>\n",
       "      <td>-0.045989</td>\n",
       "      <td>-0.036404</td>\n",
       "      <td>-0.134339</td>\n",
       "      <td>0.057511</td>\n",
       "      <td>-0.011580</td>\n",
       "      <td>0.370383</td>\n",
       "      <td>0.055778</td>\n",
       "    </tr>\n",
       "    <tr>\n",
       "      <th>abs Jul 2005</th>\n",
       "      <td>0.360308</td>\n",
       "      <td>0.143952</td>\n",
       "      <td>-0.126089</td>\n",
       "      <td>0.050449</td>\n",
       "      <td>-0.137722</td>\n",
       "      <td>0.076274</td>\n",
       "      <td>-0.121489</td>\n",
       "      <td>0.099198</td>\n",
       "      <td>0.025127</td>\n",
       "      <td>-0.027979</td>\n",
       "      <td>0.108879</td>\n",
       "      <td>0.041469</td>\n",
       "    </tr>\n",
       "    <tr>\n",
       "      <th>abs Jun 2005</th>\n",
       "      <td>0.364520</td>\n",
       "      <td>0.140552</td>\n",
       "      <td>-0.114611</td>\n",
       "      <td>0.086367</td>\n",
       "      <td>-0.032131</td>\n",
       "      <td>0.022430</td>\n",
       "      <td>0.125392</td>\n",
       "      <td>0.035091</td>\n",
       "      <td>-0.032335</td>\n",
       "      <td>-0.033458</td>\n",
       "      <td>-0.205666</td>\n",
       "      <td>-0.043450</td>\n",
       "    </tr>\n",
       "    <tr>\n",
       "      <th>abs May 2005</th>\n",
       "      <td>0.362235</td>\n",
       "      <td>0.138095</td>\n",
       "      <td>-0.096712</td>\n",
       "      <td>0.060789</td>\n",
       "      <td>0.126729</td>\n",
       "      <td>-0.064318</td>\n",
       "      <td>-0.004393</td>\n",
       "      <td>0.049924</td>\n",
       "      <td>-0.076136</td>\n",
       "      <td>0.008609</td>\n",
       "      <td>-0.412448</td>\n",
       "      <td>-0.060730</td>\n",
       "    </tr>\n",
       "    <tr>\n",
       "      <th>abs Apr 2005</th>\n",
       "      <td>0.354782</td>\n",
       "      <td>0.136549</td>\n",
       "      <td>-0.087249</td>\n",
       "      <td>-0.079688</td>\n",
       "      <td>0.147879</td>\n",
       "      <td>0.091935</td>\n",
       "      <td>0.015583</td>\n",
       "      <td>-0.001354</td>\n",
       "      <td>-0.099123</td>\n",
       "      <td>0.034834</td>\n",
       "      <td>-0.480560</td>\n",
       "      <td>-0.049718</td>\n",
       "    </tr>\n",
       "    <tr>\n",
       "      <th>app Sep 2005</th>\n",
       "      <td>0.101215</td>\n",
       "      <td>0.159187</td>\n",
       "      <td>0.407902</td>\n",
       "      <td>0.324846</td>\n",
       "      <td>-0.252671</td>\n",
       "      <td>0.023622</td>\n",
       "      <td>-0.236454</td>\n",
       "      <td>-0.736381</td>\n",
       "      <td>-0.012548</td>\n",
       "      <td>0.086471</td>\n",
       "      <td>-0.043936</td>\n",
       "      <td>-0.067457</td>\n",
       "    </tr>\n",
       "    <tr>\n",
       "      <th>app Aug 2005</th>\n",
       "      <td>0.084708</td>\n",
       "      <td>0.151848</td>\n",
       "      <td>0.444283</td>\n",
       "      <td>0.262687</td>\n",
       "      <td>-0.249300</td>\n",
       "      <td>0.395386</td>\n",
       "      <td>-0.281071</td>\n",
       "      <td>0.587249</td>\n",
       "      <td>0.114389</td>\n",
       "      <td>0.024578</td>\n",
       "      <td>0.033234</td>\n",
       "      <td>0.049383</td>\n",
       "    </tr>\n",
       "    <tr>\n",
       "      <th>app Jul 2005</th>\n",
       "      <td>0.092560</td>\n",
       "      <td>0.162770</td>\n",
       "      <td>0.403362</td>\n",
       "      <td>0.246272</td>\n",
       "      <td>0.255933</td>\n",
       "      <td>-0.012997</td>\n",
       "      <td>0.783339</td>\n",
       "      <td>0.016573</td>\n",
       "      <td>0.137858</td>\n",
       "      <td>-0.062820</td>\n",
       "      <td>0.125047</td>\n",
       "      <td>0.023129</td>\n",
       "    </tr>\n",
       "    <tr>\n",
       "      <th>app Jun 2005</th>\n",
       "      <td>0.083278</td>\n",
       "      <td>0.151560</td>\n",
       "      <td>0.341683</td>\n",
       "      <td>-0.086626</td>\n",
       "      <td>0.671471</td>\n",
       "      <td>-0.387404</td>\n",
       "      <td>-0.441209</td>\n",
       "      <td>0.073907</td>\n",
       "      <td>0.055272</td>\n",
       "      <td>-0.055601</td>\n",
       "      <td>0.120646</td>\n",
       "      <td>-0.027503</td>\n",
       "    </tr>\n",
       "    <tr>\n",
       "      <th>app May 2005</th>\n",
       "      <td>0.080258</td>\n",
       "      <td>0.145166</td>\n",
       "      <td>0.265487</td>\n",
       "      <td>-0.759270</td>\n",
       "      <td>0.064173</td>\n",
       "      <td>0.505020</td>\n",
       "      <td>0.059657</td>\n",
       "      <td>-0.177684</td>\n",
       "      <td>-0.050354</td>\n",
       "      <td>0.014924</td>\n",
       "      <td>0.065245</td>\n",
       "      <td>0.015408</td>\n",
       "    </tr>\n",
       "    <tr>\n",
       "      <th>app Apr 2005</th>\n",
       "      <td>0.074396</td>\n",
       "      <td>0.134435</td>\n",
       "      <td>0.296273</td>\n",
       "      <td>-0.378002</td>\n",
       "      <td>-0.528768</td>\n",
       "      <td>-0.640697</td>\n",
       "      <td>0.110696</td>\n",
       "      <td>0.169384</td>\n",
       "      <td>-0.056959</td>\n",
       "      <td>0.013202</td>\n",
       "      <td>-0.094406</td>\n",
       "      <td>0.002621</td>\n",
       "    </tr>\n",
       "  </tbody>\n",
       "</table>\n",
       "</div>"
      ],
      "text/plain": [
       "                   PC1       PC2       PC3       PC4       PC5       PC6  \\\n",
       "hpp Aug 2005  0.182133 -0.370555  0.038277 -0.093717  0.003960 -0.024331   \n",
       "hpp Jul 2005  0.190795 -0.396060  0.091279 -0.050900 -0.022859 -0.019187   \n",
       "hpp Jun 2005  0.198663 -0.405322  0.126948 -0.014929 -0.041633  0.021928   \n",
       "hpp May 2005  0.203603 -0.394029  0.145679  0.032480 -0.008026  0.026185   \n",
       "hpp Apr 2005  0.200126 -0.364357  0.144839  0.048810  0.080890 -0.025331   \n",
       "abs Sep 2005  0.343788  0.138461 -0.220410 -0.050892 -0.030255 -0.059413   \n",
       "abs Aug 2005  0.355785  0.138389 -0.189278  0.016305 -0.078714 -0.045989   \n",
       "abs Jul 2005  0.360308  0.143952 -0.126089  0.050449 -0.137722  0.076274   \n",
       "abs Jun 2005  0.364520  0.140552 -0.114611  0.086367 -0.032131  0.022430   \n",
       "abs May 2005  0.362235  0.138095 -0.096712  0.060789  0.126729 -0.064318   \n",
       "abs Apr 2005  0.354782  0.136549 -0.087249 -0.079688  0.147879  0.091935   \n",
       "app Sep 2005  0.101215  0.159187  0.407902  0.324846 -0.252671  0.023622   \n",
       "app Aug 2005  0.084708  0.151848  0.444283  0.262687 -0.249300  0.395386   \n",
       "app Jul 2005  0.092560  0.162770  0.403362  0.246272  0.255933 -0.012997   \n",
       "app Jun 2005  0.083278  0.151560  0.341683 -0.086626  0.671471 -0.387404   \n",
       "app May 2005  0.080258  0.145166  0.265487 -0.759270  0.064173  0.505020   \n",
       "app Apr 2005  0.074396  0.134435  0.296273 -0.378002 -0.528768 -0.640697   \n",
       "\n",
       "                   PC7       PC8       PC9      PC10      PC11      PC12  \n",
       "hpp Aug 2005  0.005363  0.009595  0.615737  0.521661 -0.038415 -0.390193  \n",
       "hpp Jul 2005 -0.025106 -0.109569  0.402112 -0.303752 -0.163334  0.640234  \n",
       "hpp Jun 2005 -0.056389  0.005734 -0.083813 -0.600528  0.041285 -0.287605  \n",
       "hpp May 2005  0.068537  0.030625 -0.375459 -0.040259  0.143001 -0.380931  \n",
       "hpp Apr 2005  0.016044  0.046116 -0.491732  0.504451  0.085245  0.430590  \n",
       "abs Sep 2005  0.011303  0.008644  0.087699 -0.006283  0.551036  0.056687  \n",
       "abs Aug 2005 -0.036404 -0.134339  0.057511 -0.011580  0.370383  0.055778  \n",
       "abs Jul 2005 -0.121489  0.099198  0.025127 -0.027979  0.108879  0.041469  \n",
       "abs Jun 2005  0.125392  0.035091 -0.032335 -0.033458 -0.205666 -0.043450  \n",
       "abs May 2005 -0.004393  0.049924 -0.076136  0.008609 -0.412448 -0.060730  \n",
       "abs Apr 2005  0.015583 -0.001354 -0.099123  0.034834 -0.480560 -0.049718  \n",
       "app Sep 2005 -0.236454 -0.736381 -0.012548  0.086471 -0.043936 -0.067457  \n",
       "app Aug 2005 -0.281071  0.587249  0.114389  0.024578  0.033234  0.049383  \n",
       "app Jul 2005  0.783339  0.016573  0.137858 -0.062820  0.125047  0.023129  \n",
       "app Jun 2005 -0.441209  0.073907  0.055272 -0.055601  0.120646 -0.027503  \n",
       "app May 2005  0.059657 -0.177684 -0.050354  0.014924  0.065245  0.015408  \n",
       "app Apr 2005  0.110696  0.169384 -0.056959  0.013202 -0.094406  0.002621  "
      ]
     },
     "execution_count": 46,
     "metadata": {},
     "output_type": "execute_result"
    }
   ],
   "source": [
    "pcsComponents_df = pd.DataFrame(pcs.components_.transpose(), \n",
    "                                columns=pcsSummary_df.columns,\n",
    "                                index=credit_df.iloc[:, 3:].columns\n",
    "                                )\n",
    "pcsComponents_df.iloc[:,:12]"
   ]
  },
  {
   "cell_type": "code",
   "execution_count": 47,
   "metadata": {},
   "outputs": [
    {
     "data": {
      "text/plain": [
       "'abs Jun 2005'"
      ]
     },
     "execution_count": 47,
     "metadata": {},
     "output_type": "execute_result"
    }
   ],
   "source": [
    "pcsComponents_df.PC1.idxmax()"
   ]
  },
  {
   "cell_type": "code",
   "execution_count": 48,
   "metadata": {},
   "outputs": [
    {
     "data": {
      "text/plain": [
       "abs Jun 2005    0.364520\n",
       "abs May 2005    0.362235\n",
       "abs Jul 2005    0.360308\n",
       "Name: PC1, dtype: float64"
      ]
     },
     "execution_count": 48,
     "metadata": {},
     "output_type": "execute_result"
    }
   ],
   "source": [
    "pcsComponents_df.PC1.nlargest(3)"
   ]
  },
  {
   "cell_type": "code",
   "execution_count": 49,
   "metadata": {},
   "outputs": [
    {
     "data": {
      "text/plain": [
       "'app Apr 2005'"
      ]
     },
     "execution_count": 49,
     "metadata": {},
     "output_type": "execute_result"
    }
   ],
   "source": [
    "pcsComponents_df.PC1.idxmin()"
   ]
  },
  {
   "cell_type": "code",
   "execution_count": 50,
   "metadata": {},
   "outputs": [
    {
     "data": {
      "text/plain": [
       "app Apr 2005    0.074396\n",
       "app May 2005    0.080258\n",
       "app Jun 2005    0.083278\n",
       "Name: PC1, dtype: float64"
      ]
     },
     "execution_count": 50,
     "metadata": {},
     "output_type": "execute_result"
    }
   ],
   "source": [
    "pcsComponents_df.PC1.nsmallest(3)"
   ]
  },
  {
   "cell_type": "markdown",
   "metadata": {},
   "source": [
    "***'abs Jun 2005'***"
   ]
  },
  {
   "cell_type": "code",
   "execution_count": 51,
   "metadata": {},
   "outputs": [
    {
     "data": {
      "text/plain": [
       "'app Jul 2005'"
      ]
     },
     "execution_count": 51,
     "metadata": {},
     "output_type": "execute_result"
    }
   ],
   "source": [
    "pcsComponents_df.PC2.idxmax()"
   ]
  },
  {
   "cell_type": "code",
   "execution_count": 52,
   "metadata": {},
   "outputs": [
    {
     "data": {
      "text/plain": [
       "app Jul 2005    0.162770\n",
       "app Sep 2005    0.159187\n",
       "app Aug 2005    0.151848\n",
       "Name: PC2, dtype: float64"
      ]
     },
     "execution_count": 52,
     "metadata": {},
     "output_type": "execute_result"
    }
   ],
   "source": [
    "pcsComponents_df.PC2.nlargest(3)"
   ]
  },
  {
   "cell_type": "code",
   "execution_count": 53,
   "metadata": {},
   "outputs": [
    {
     "data": {
      "text/plain": [
       "'hpp Jun 2005'"
      ]
     },
     "execution_count": 53,
     "metadata": {},
     "output_type": "execute_result"
    }
   ],
   "source": [
    "pcsComponents_df.PC2.idxmin()"
   ]
  },
  {
   "cell_type": "code",
   "execution_count": 54,
   "metadata": {},
   "outputs": [
    {
     "data": {
      "text/plain": [
       "hpp Jun 2005   -0.405322\n",
       "hpp Jul 2005   -0.396060\n",
       "hpp May 2005   -0.394029\n",
       "Name: PC2, dtype: float64"
      ]
     },
     "execution_count": 54,
     "metadata": {},
     "output_type": "execute_result"
    }
   ],
   "source": [
    "pcsComponents_df.PC2.nsmallest(3)"
   ]
  },
  {
   "cell_type": "markdown",
   "metadata": {},
   "source": [
    "***'hpp Jun 2005'***"
   ]
  },
  {
   "cell_type": "code",
   "execution_count": 55,
   "metadata": {},
   "outputs": [
    {
     "data": {
      "text/plain": [
       "'app Aug 2005'"
      ]
     },
     "execution_count": 55,
     "metadata": {},
     "output_type": "execute_result"
    }
   ],
   "source": [
    "pcsComponents_df.PC3.idxmax()"
   ]
  },
  {
   "cell_type": "code",
   "execution_count": 56,
   "metadata": {},
   "outputs": [
    {
     "data": {
      "text/plain": [
       "app Aug 2005    0.444283\n",
       "app Sep 2005    0.407902\n",
       "app Jul 2005    0.403362\n",
       "Name: PC3, dtype: float64"
      ]
     },
     "execution_count": 56,
     "metadata": {},
     "output_type": "execute_result"
    }
   ],
   "source": [
    "pcsComponents_df.PC3.nlargest(3)"
   ]
  },
  {
   "cell_type": "code",
   "execution_count": 57,
   "metadata": {},
   "outputs": [
    {
     "data": {
      "text/plain": [
       "'abs Sep 2005'"
      ]
     },
     "execution_count": 57,
     "metadata": {},
     "output_type": "execute_result"
    }
   ],
   "source": [
    "pcsComponents_df.PC3.idxmin()"
   ]
  },
  {
   "cell_type": "code",
   "execution_count": 58,
   "metadata": {},
   "outputs": [
    {
     "data": {
      "text/plain": [
       "abs Sep 2005   -0.220410\n",
       "abs Aug 2005   -0.189278\n",
       "abs Jul 2005   -0.126089\n",
       "Name: PC3, dtype: float64"
      ]
     },
     "execution_count": 58,
     "metadata": {},
     "output_type": "execute_result"
    }
   ],
   "source": [
    "pcsComponents_df.PC3.nsmallest(3)"
   ]
  },
  {
   "cell_type": "markdown",
   "metadata": {},
   "source": [
    "***'app Aug 2005'***"
   ]
  },
  {
   "cell_type": "code",
   "execution_count": 59,
   "metadata": {
    "colab": {
     "base_uri": "https://localhost:8080/"
    },
    "id": "bKXEYFl1Vzp1",
    "outputId": "c32dd967-ef16-4615-f110-8cd2a3db9a22"
   },
   "outputs": [
    {
     "name": "stdout",
     "output_type": "stream",
     "text": [
      "******************************************************* End *******************************************************\n"
     ]
    }
   ],
   "source": [
    "print('*'*55,'End','*'*55)"
   ]
  },
  {
   "cell_type": "code",
   "execution_count": null,
   "metadata": {},
   "outputs": [],
   "source": []
  }
 ],
 "metadata": {
  "colab": {
   "collapsed_sections": [],
   "provenance": []
  },
  "kernelspec": {
   "display_name": "Python 3",
   "language": "python",
   "name": "python3"
  },
  "language_info": {
   "codemirror_mode": {
    "name": "ipython",
    "version": 3
   },
   "file_extension": ".py",
   "mimetype": "text/x-python",
   "name": "python",
   "nbconvert_exporter": "python",
   "pygments_lexer": "ipython3",
   "version": "3.8.8"
  },
  "vscode": {
   "interpreter": {
    "hash": "81d7914d2b2a3219f43d771ae1e771391ac75294fd7e96947ac0ff9a170e8098"
   }
  }
 },
 "nbformat": 4,
 "nbformat_minor": 1
}
