{
 "cells": [
  {
   "cell_type": "markdown",
   "metadata": {},
   "source": [
    "# Proyecto Final\n",
    "## Equipo 30\n",
    "### A01793933 - Christian Suárez Gil\n",
    "### A01793999 - Nathalia Prada"
   ]
  },
  {
   "cell_type": "markdown",
   "metadata": {},
   "source": [
    "____________"
   ]
  },
  {
   "cell_type": "markdown",
   "metadata": {},
   "source": [
    "## Avance 1:"
   ]
  },
  {
   "cell_type": "markdown",
   "metadata": {},
   "source": [
    "- Nombre del Conjunto de Datos: Health insurance data set"
   ]
  },
  {
   "cell_type": "markdown",
   "metadata": {},
   "source": [
    "- Organización que lo generó: Kaggle - SURESH GUPTA"
   ]
  },
  {
   "cell_type": "markdown",
   "metadata": {},
   "source": [
    "- Enlace de Internet: https://www.kaggle.com/datasets/sureshgupta/health-insurance-data-set"
   ]
  },
  {
   "cell_type": "markdown",
   "metadata": {},
   "source": [
    "- Descripción del conjunto de datos:\n",
    "\n",
    "Esta dataset contiene información historica de personas que contrator una poliza de salud en Estados Unidos. En este podemos encontrar información socio demografica, médica, geográfica y del valor solicitado por cada persona a la compañia. Las variables con las que contamos, se explican a continuación:\n",
    "\n",
    "\n",
    "1. age : Age of the policyholder (Numeric)\n",
    "2. sex: Gender of policyholder (Categoric)\n",
    "3. weight: Weight of the policyholder (Numeric)\n",
    "4. bmi: Body mass index, providing an understanding of body, weights that are relatively high or low relative to height, objective index of body weight (kg / m ^ 2) using the ratio of height to weight (Numeric)\n",
    "5. noofdependents: Number of dependent persons on the policyholder (Numeric)\n",
    "6. smoker: Indicates policyholder is a smoker or a non-smoker (non-smoker=0;smoker=1) (Categoric)\n",
    "7. claim: The amount claimed by the policyholder (Numeric)\n",
    "8. bloodpressure: Bloodpressure reading of policyholder (Numeric)\n",
    "9. diabetes: Indicates policyholder suffers from diabetes or not (non-diabetic=0; diabetic=1) (Categoric)\n",
    "10. regular_ex: A policyholder regularly excercises or not (no-excercise=0; excercise=1) (Categoric)\n",
    "11. job_title: Job profile of the policyholder (Categoric)\n",
    "12. city: The city in which the policyholder resides (Categoric)\n",
    "hereditary_diseases: A policyholder suffering from a hereditary diseases or not (Categoric)\n"
   ]
  },
  {
   "cell_type": "code",
   "execution_count": 10,
   "metadata": {},
   "outputs": [],
   "source": [
    "import pandas as pd\n",
    "data = pd.read_csv('1651277648862_healthinsurance.csv')\n",
    "# data.head()"
   ]
  },
  {
   "cell_type": "code",
   "execution_count": 12,
   "metadata": {},
   "outputs": [
    {
     "name": "stdout",
     "output_type": "stream",
     "text": [
      "El Data Set cuenta con 15000 registros\n"
     ]
    }
   ],
   "source": [
    "print( 'El Data Set cuenta con ' + str(len(data)) + ' registros')"
   ]
  },
  {
   "cell_type": "markdown",
   "metadata": {},
   "source": [
    "- Preguntas de investigación que podría responder :\n",
    "\n",
    "1. ¿Influye la edad en el valor reclamado por los asegurados?¿de que manera?\n",
    "2. ¿Cuál puede ser la prima cobrada a cada uno de los asegurados según sus características demográficas?\n",
    "3. ¿Cuál puede ser el gasto médico anual para nuevos clientes?\n",
    "4. ¿Cómo afectan la tendencia política y las leyes de cada estado en el valor reclamado?\n",
    "5. ¿Influye el ejercicio o la falta de este en el valor reclamado por los asegurados?¿de que manera?\n",
    "6. ¿El genero influye en el valor reclamado por los asegurados?\n",
    "7. ¿Se puede hacer venta cruzada de otros tipos de seguros a estos clientes?\n",
    "8. ¿Influye el trabajo desempeñado por una persona en el monto a reclamar?\n"
   ]
  },
  {
   "cell_type": "markdown",
   "metadata": {},
   "source": [
    "- Actor que estaría interesado en las preguntas mencionadas"
   ]
  },
  {
   "cell_type": "markdown",
   "metadata": {},
   "source": [
    "1. Compañías de seguros \n",
    "2. El gobierno\n",
    "3. Los Prestadores de Servicios de Salud"
   ]
  },
  {
   "cell_type": "code",
   "execution_count": null,
   "metadata": {},
   "outputs": [],
   "source": []
  },
  {
   "cell_type": "code",
   "execution_count": null,
   "metadata": {},
   "outputs": [],
   "source": []
  },
  {
   "cell_type": "code",
   "execution_count": null,
   "metadata": {},
   "outputs": [],
   "source": []
  }
 ],
 "metadata": {
  "kernelspec": {
   "display_name": "Python 3.9.7 ('base')",
   "language": "python",
   "name": "python3"
  },
  "language_info": {
   "codemirror_mode": {
    "name": "ipython",
    "version": 3
   },
   "file_extension": ".py",
   "mimetype": "text/x-python",
   "name": "python",
   "nbconvert_exporter": "python",
   "pygments_lexer": "ipython3",
   "version": "3.9.7"
  },
  "orig_nbformat": 4,
  "vscode": {
   "interpreter": {
    "hash": "81d7914d2b2a3219f43d771ae1e771391ac75294fd7e96947ac0ff9a170e8098"
   }
  }
 },
 "nbformat": 4,
 "nbformat_minor": 2
}
