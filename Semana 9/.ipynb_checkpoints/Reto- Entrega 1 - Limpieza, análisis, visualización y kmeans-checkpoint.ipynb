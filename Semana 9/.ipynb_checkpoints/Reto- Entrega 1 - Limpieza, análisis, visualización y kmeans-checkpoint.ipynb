{
 "cells": [
  {
   "cell_type": "markdown",
   "metadata": {},
   "source": [
    "# Reto- Entrega 1 - Limpieza, análisis, visualización y kmeans\n",
    "## Equipo 30\n",
    "### A01793933 - Christian Suárez Gil\n",
    "### A01793999 - Nathalia Prada"
   ]
  },
  {
   "cell_type": "markdown",
   "metadata": {},
   "source": [
    "____________"
   ]
  },
  {
   "cell_type": "markdown",
   "metadata": {},
   "source": [
    "### Lectura de Datos"
   ]
  },
  {
   "cell_type": "code",
   "execution_count": null,
   "metadata": {},
   "outputs": [],
   "source": [
    "Path = 'https://raw.githubusercontent.com/PosgradoMNA/Actividades_Aprendizaje-/main/default%20of%20credit%20card%20clients.csv'"
   ]
  }
 ],
 "metadata": {
  "kernelspec": {
   "display_name": "Python 3",
   "language": "python",
   "name": "python3"
  },
  "language_info": {
   "codemirror_mode": {
    "name": "ipython",
    "version": 3
   },
   "file_extension": ".py",
   "mimetype": "text/x-python",
   "name": "python",
   "nbconvert_exporter": "python",
   "pygments_lexer": "ipython3",
   "version": "3.7.3"
  },
  "vscode": {
   "interpreter": {
    "hash": "81d7914d2b2a3219f43d771ae1e771391ac75294fd7e96947ac0ff9a170e8098"
   }
  }
 },
 "nbformat": 4,
 "nbformat_minor": 2
}
