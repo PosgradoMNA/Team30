{
 "cells": [
  {
   "cell_type": "markdown",
   "metadata": {},
   "source": [
    "# Reto- Entrega 1 - Limpieza, análisis, visualización y kmeans\n",
    "## Equipo 30\n",
    "### A01793933 - Christian Suárez Gil\n",
    "### A01793999 - Nathalia Prada"
   ]
  },
  {
   "cell_type": "markdown",
   "metadata": {},
   "source": [
    "____________"
   ]
  },
  {
   "cell_type": "markdown",
   "metadata": {},
   "source": [
    "Importación de librerías"
   ]
  },
  {
   "cell_type": "code",
   "execution_count": 1,
   "metadata": {},
   "outputs": [],
   "source": [
    "import pandas as pd\n",
    "import matplotlib\n",
    "import matplotlib.pyplot as plt\n",
    "import missingno as msno\n",
    "import plotly.express as px\n",
    "import geopandas as gpd\n",
    "from shapely.geometry import Point\n",
    "import plotly.io as pio\n",
    "pio.templates.default = \"plotly_white\"\n",
    "\n",
    "%matplotlib inline\n",
    "# # activate plot theme\n",
    "# import qeds\n",
    "# qeds.themes.mpl_style();\n",
    "\n",
    "from sklearn.cluster import KMeans\n",
    "from geopy.geocoders import Nominatim\n",
    "from yellowbrick.cluster import KElbowVisualizer\n",
    "pd.set_option('display.max_columns', None)\n",
    "import seaborn as sns\n",
    "import numpy as np"
   ]
  },
  {
   "cell_type": "markdown",
   "metadata": {},
   "source": [
    "## Lectura de Datos"
   ]
  },
  {
   "cell_type": "markdown",
   "metadata": {},
   "source": [
    "En esta base de datos encontraras:\n",
    "\n",
    "* Aguas subterraneas.\n",
    "* Aguas superficiales."
   ]
  },
  {
   "cell_type": "code",
   "execution_count": 2,
   "metadata": {},
   "outputs": [],
   "source": [
    "#Path = 'https://raw.githubusercontent.com/PosgradoMNA/Team30_ArtificialmenteInteligentes/main/Semana%209/Datos_de_calidad_del_agua_2020/Datos_de_calidad_del_agua_de_sitios_de_monitoreo_de_aguas_subterraneas_2020.csv'\n",
    "#a_subte = pd.read_csv(Path, index_col = 0, encoding='latin-1')\n",
    "\n",
    "Path = 'https://raw.githubusercontent.com/PosgradoMNA/Team30_ArtificialmenteInteligentes/main/Semana%209/Datos_de_calidad_del_agua_2020/Datos_de_calidad_del_agua_de_sitios_de_monitoreo_de_aguas_superficiales_2020.csv'\n",
    "a_subte = pd.read_csv(Path, index_col = 0, encoding='latin-1')"
   ]
  },
  {
   "cell_type": "markdown",
   "metadata": {},
   "source": [
    "### INDICADORES DE LA CALIDAD DEL AGUA SUPERFICIAL Y SUBTERRÁNEA"
   ]
  },
  {
   "cell_type": "markdown",
   "metadata": {},
   "source": [
    "## Limpieza de base de datos"
   ]
  },
  {
   "cell_type": "markdown",
   "metadata": {},
   "source": [
    "### Limpieza Datos Monitoreo de Aguas Subterraneas"
   ]
  },
  {
   "cell_type": "markdown",
   "metadata": {},
   "source": [
    "#### Cambio del nombre de las columnas"
   ]
  },
  {
   "cell_type": "markdown",
   "metadata": {},
   "source": [
    "Imprimimos las columnas del data set:"
   ]
  },
  {
   "cell_type": "code",
   "execution_count": 3,
   "metadata": {},
   "outputs": [
    {
     "data": {
      "text/plain": [
       "Index(['SITIO', 'ORGANISMO_DE_CUENCA', 'ESTADO', 'MUNICIPIO', 'CUENCA',\n",
       "       'CUERPO DE AGUA', 'TIPO', 'SUBTIPO', 'LONGITUD', 'LATITUD', 'PERIODO',\n",
       "       'DBO_mg/L', 'CALIDAD_DBO', 'DQO_mg/L', 'CALIDAD_DQO', 'SST_mg/L',\n",
       "       'CALIDAD_SST', 'COLI_FEC_NMP_100mL', 'CALIDAD_COLI_FEC',\n",
       "       'E_COLI_NMP_100mL', 'CALIDAD_E_COLI', 'ENTEROC_NMP_100mL',\n",
       "       'CALIDAD_ENTEROC', 'OD_PORC', 'CALIDAD_OD_PORC', 'OD_PORC_SUP',\n",
       "       'CALIDAD_OD_PORC_SUP', 'OD_PORC_MED', 'CALIDAD_OD_PORC_MED',\n",
       "       'OD_PORC_FON', 'CALIDAD_OD_PORC_FON', 'TOX_D_48_UT', 'CALIDAD_TOX_D_48',\n",
       "       'TOX_V_15_UT', 'CALIDAD_TOX_V_15', 'TOX_D_48_SUP_UT',\n",
       "       'CALIDAD TOX_D_48_SUP', 'TOX_D_48_FON_UT', 'CALIDAD_TOX_D_48_FON',\n",
       "       'TOX_FIS_SUP_15_UT', 'CALIDAD_TOX_FIS_SUP_15', 'TOX_FIS_FON_15_UT',\n",
       "       'CALIDAD_TOX_FIS_FON_15', 'SEMAFORO', 'CONTAMINANTES', 'CUMPLE_CON_DBO',\n",
       "       'CUMPLE_CON_DQO', 'CUMPLE_CON_SST', 'CUMPLE_CON_CF',\n",
       "       'CUMPLE_CON_E_COLI', 'CUMPLE_CON_ENTEROC', 'CUMPLE_CON_OD',\n",
       "       'CUMPLE_CON_TOX', 'GRUPO'],\n",
       "      dtype='object')"
      ]
     },
     "execution_count": 3,
     "metadata": {},
     "output_type": "execute_result"
    }
   ],
   "source": [
    "a_subte.columns"
   ]
  },
  {
   "cell_type": "markdown",
   "metadata": {},
   "source": [
    "Modificamos los nombres para simplificar la lectura de los datos,a continuación se presenta una tabla con la equivalencia de numbres y la descripción de cada columna del dataset:"
   ]
  },
  {
   "cell_type": "markdown",
   "metadata": {},
   "source": [
    "| **Nombre**           | **Nuevo Nombre**  | **Descripción**                                                                                                                                    |\n",
    "|----------------------|-------------------|----------------------------------------------------------------------------------------------------------------------------------------------------|\n",
    "| SITIO                | sitio             | Nombre del sitio de muestreo                                                                                                                       |\n",
    "| ORGANISMO_DE_CUENCA  | organismo_cuenca  | Nombre del Organismo de Cuenca de agua donde se localiza el sitio de monitoreo                                                                     |\n",
    "| ESTADO               | estado            | Estado donde se encuentra el sitio de muestreo                                                                                                     |\n",
    "| MUNICIPIO            | municipio         | Municipio donde se encuentra el sitio de muestreo                                                                                                  |\n",
    "| ACUIFERO             | acuifero          | Acuifero donde se encuentra el sitio de muestreo                                                                                                   |\n",
    "| SUBTIPO              | subtipo           | Subtipo de cuerpo de agua donde se encuentra el sitio de muestreo                                                                                  |\n",
    "| LONGITUD             | longitud          | Coordenada de longitud                                                                                                                             |\n",
    "| LATITUD              | latitud           | Coordenada de latitud                                                                                                                              |\n",
    "| PERIODO              | periodo           | Anio o periodo en que se realizo el muestreo                                                                                                       |\n",
    "| ALC_mg/L             | alc               | Valor de Alcalinidad Total, en miligramos por litro                                                                                                |\n",
    "| CALIDAD_ALC          | calidad_alc       | Clasificacion de la calidad del agua de acuerdo con el indicador Alcalinidad Total                                                                 |\n",
    "| CONDUCT_mS/cm        | conduct           | Valor de Conductividad en microSiemens por centimetro                                                                                              |\n",
    "| CALIDAD_CONDUC       | calidad_conduct   | Clasificacion de la calidad del agua de acuerdo con el indicador Conductividad                                                                     |\n",
    "| SDT_mg/L             | sdt               | Valor de Solidos Disueltos Totales, en miligramos por litro                                                                                        |\n",
    "| SDT_M_mg/L           | sdt_m             | Valor de Solidos Disueltos Totales-Medidos, en miligramos por litro                                                                                |\n",
    "| CALIDAD_SDT_ra       | calidad_sdt_ra    | Clasificacion de la calidad del agua de acuerdo con el indicador de los Solidos Disueltos Totales (Riego agricola)                                 |\n",
    "| CALIDAD_SDT_salin    | calidad_sdt_salin | Clasificacion de la calidad del agua de acuerdo con el indicador de los Solidos Disueltos Totales (Salinizacion)                                   |\n",
    "| FLUORUROS_mg/L       | fluoruros         | Valor de Fluoruros Totales (F-), en miligramos por litro                                                                                           |\n",
    "| CALIDAD_FLUO         | calidad_fluo      | Clasificacion de la calidad del agua de acuerdo con el indicador Fluoruros Totales                                                                 |\n",
    "| DUR_mg/L             | dur               | Valor de Dureza Total, en miligramos por litro                                                                                                     |\n",
    "| CALIDAD_DUR          | calidad_dur       | Clasificacion de la calidad del agua de acuerdo con el indicador Dureza Total                                                                      |\n",
    "| COLI_FEC_NMP/100_mL  | coli_fec          | Valor de Coliformes Fecales, en Numero Mas Probable por 100 mililitros                                                                             |\n",
    "| CALIDAD_COLI_FEC     | calidad_coli_fec  | Clasificacion de la calidad del agua de acuerdo con el indicador Coliformes Fecales                                                                |\n",
    "| N_NO3_mg/L           | n_no3             | Valor de Nitrogeno de Nitratos, en miligramos por litro                                                                                            |\n",
    "| CALIDAD_N_NO3        | calidad_n_no3     | Clasificacion de la calidad del agua de acuerdo con el indicador Nitrogeno de Nitratos                                                             |\n",
    "| AS_TOT_mg/L          | as                | Valor de Arsenico Total, en miligramos por litro                                                                                                   |\n",
    "| CALIDAD_AS           | calidad_as        | Clasificacion de la calidad del agua de acuerdo con el indicador Arsenico Total                                                                    |\n",
    "| CD_TOT_mg/L          | cd                | Valor de Cadmio Total, en miligramos por litro                                                                                                     |\n",
    "| CALIDAD_CD           | calidad_cd        | Clasificacion de la calidad del agua de acuerdo con el indicador Cadmio Total                                                                      |\n",
    "| CR_TOT_mg/L          | cr                | Valor de Cromo Total, en miligramos por litro                                                                                                      |\n",
    "| CALIDAD_CR           | calidad_cr        | Clasificacion de la calidad del agua de acuerdo con el indicador Cromo Total                                                                       |\n",
    "| HG_TOT_mg/L          | hg                | Valor de Mercurio Total, en miligramos por litro                                                                                                   |\n",
    "| CALIDAD_HG           | calidad_hg        | Clasificacion de la calidad del agua de acuerdo con el indicador Mercurio Total                                                                    |\n",
    "| PB_TOT_mg/L          | pb                | Valor de Plomo Total, en miligramos por litro                                                                                                      |\n",
    "| CALIDAD_PB           | calidad_pb        | Clasificacion de la calidad del agua de acuerdo con el indicador Plomo Total                                                                       |\n",
    "| MN_TOT_mg/L          | mn                | Valor de Manganeso Total, en miligramos por litro                                                                                                  |\n",
    "| CALIDAD_MN           | calidad_mn        | Clasificacion de la calidad del agua de acuerdo con el indicador Manganeso Total                                                                   |\n",
    "| FE_TOT_mg/L          | fe                | Valor de Hierro Total, en miligramos por litro                                                                                                     |\n",
    "| CALIDAD_FE           | calidad_fe        | Clasificacion de la calidad del agua de acuerdo con el indicador Hierro Total                                                                      |\n",
    "| SEMAFORO             | semaforo          | Indica el nivel de contaminacion de acuerdo a los contaminantes presentes                                                                          |\n",
    "| CONTAMINANTES        | contaminantes     | Contaminantes presentes en incumplimiento (Contaminados)                                                                                           |\n",
    "| CUMPLE_CON_ALC       | cumple_alc        |  Indica si cumple con la calidad de Baja, Media, o Alta para el Indicador Alcalinidad Total                                                        |\n",
    "| CUMPLE_CON_COND      | cumple_cond       |  Indica si cumple con la calidad de Excelente para riego, Buena para riego, o Permisible para riego, para el Indicador Conductividad.              |\n",
    "| CUMPLE_CON_SDT_ra    | cumple_sdt_ra     | Indica si cumple con la calidad de Excelente para riego, Cultivos sensibles o Cultivos con manejo especial, para el Indicador SDT (Riego agrícola) |\n",
    "| CUMPLE_CON_SDT_salin | cumple_sdt_salin  | Indica si cumple con la calidad de Potable - Dulce o Ligeramente salobres, para el Indicador Solidos Disueltos Totales (Salinización)              |\n",
    "| CUMPLE_CON_FLUO      | cumple_fluo       | Indica si cumple con la calidad de Baja, Media, o Potable - Optima, para el Indicador Fluoruros Totales                                            |\n",
    "| CUMPLE_CON_DUR       | cumple_dur        | Indica si cumple con la calidad de Potable - Suave, Potable - Moderadamente suave, o Potable - Dura, para el Indicador Dureza Total.               |\n",
    "| CUMPLE_CON_CF        | cumple_cf         | Indica si cumple con la calidad de Potable - Excelente, o Buena calidad, Aceptable, para el Indicador Coliformes Fecales                           |\n",
    "| CUMPLE_CON_NO3       | cumple_no3        | Indica si cumple con la calidad de Potable - Excelente o Potable - Buena calidad, para el Indicador Nitrogeno de Nitratos                          |\n",
    "| CUMPLE_CON_AS        | cumple_as         | Indica si cumple con la calidad de Potable - Excelente o Apta como FAAP, para el Indicador Arsenico Total                                          |\n",
    "| CUMPLE_CON_CD        | cumple_cd         | Indica si cumple con la calidad de Potable - Excelente, para el Indicador Cadmio Total                                                             |\n",
    "| CUMPLE_CON_CR        | cumple_cr         | Indica si cumple con la calidad de Potable - Excelente, para el Indicador Cromo Total                                                              |\n",
    "| CUMPLE_CON_HG        | cumple_hg         | Indica si cumple con la calidad de Potable - Excelente, para el Indicador Mercurio Total                                                           |\n",
    "| CUMPLE_CON_PB        | cumple_pb         | Indica si cumple con la calidad de Potable - Excelente, para el Indicador Plomo Total                                                              |\n",
    "| CUMPLE_CON_MN        | cumple_mn         | Indica si cumple con la calidad de Potable - Excelente, para el Indicador Manganeso Total                                                          |\n",
    "| CUMPLE_CON_FE        | cumple_fe         | Indica si cumple con la calidad de Potable - Excelente, para el Indicador Hierro Total                                                             |\n"
   ]
  },
  {
   "cell_type": "code",
   "execution_count": 4,
   "metadata": {},
   "outputs": [],
   "source": [
    "columnas = ['sitio','organismo_cuenca','estado','municipio','acuifero','subtipo','longitud','latitud','periodo','alc','calidad_alc',\n",
    "'conduct','calidad_conduct','sdt','sdt_m','calidad_sdt_ra','calidad_sdt_salin','fluoruros','calidad_fluo','dur','calidad_dur','coli_fec','calidad_coli_fec',\n",
    "'n_no3','calidad_n_no3','as','calidad_as','cd','calidad_cd','cr','calidad_cr','hg','calidad_hg','pb','calidad_pb','mn','calidad_mn','fe','calidad_fe','semaforo',\n",
    "'contaminantes','cumple_alc','cumple_cond','cumple_sdt_ra','cumple_sdt_salin','cumple_fluo','cumple_dur','cumple_cf','cumple_no3','cumple_as','cumple_cd','cumple_cr',\n",
    "'cumple_hg','cumple_pb','cumple_mn','cumple_fe']"
   ]
  },
  {
   "cell_type": "code",
   "execution_count": 5,
   "metadata": {},
   "outputs": [
    {
     "ename": "ValueError",
     "evalue": "Length mismatch: Expected axis has 54 elements, new values have 56 elements",
     "output_type": "error",
     "traceback": [
      "\u001b[1;31m---------------------------------------------------------------------------\u001b[0m",
      "\u001b[1;31mValueError\u001b[0m                                Traceback (most recent call last)",
      "\u001b[1;32m~\\AppData\\Local\\Temp\\ipykernel_3560\\500372570.py\u001b[0m in \u001b[0;36m<module>\u001b[1;34m\u001b[0m\n\u001b[1;32m----> 1\u001b[1;33m \u001b[0ma_subte\u001b[0m\u001b[1;33m.\u001b[0m\u001b[0mcolumns\u001b[0m \u001b[1;33m=\u001b[0m \u001b[0mcolumnas\u001b[0m\u001b[1;33m\u001b[0m\u001b[1;33m\u001b[0m\u001b[0m\n\u001b[0m",
      "\u001b[1;32m~\\anaconda3\\lib\\site-packages\\pandas\\core\\generic.py\u001b[0m in \u001b[0;36m__setattr__\u001b[1;34m(self, name, value)\u001b[0m\n\u001b[0;32m   5586\u001b[0m         \u001b[1;32mtry\u001b[0m\u001b[1;33m:\u001b[0m\u001b[1;33m\u001b[0m\u001b[1;33m\u001b[0m\u001b[0m\n\u001b[0;32m   5587\u001b[0m             \u001b[0mobject\u001b[0m\u001b[1;33m.\u001b[0m\u001b[0m__getattribute__\u001b[0m\u001b[1;33m(\u001b[0m\u001b[0mself\u001b[0m\u001b[1;33m,\u001b[0m \u001b[0mname\u001b[0m\u001b[1;33m)\u001b[0m\u001b[1;33m\u001b[0m\u001b[1;33m\u001b[0m\u001b[0m\n\u001b[1;32m-> 5588\u001b[1;33m             \u001b[1;32mreturn\u001b[0m \u001b[0mobject\u001b[0m\u001b[1;33m.\u001b[0m\u001b[0m__setattr__\u001b[0m\u001b[1;33m(\u001b[0m\u001b[0mself\u001b[0m\u001b[1;33m,\u001b[0m \u001b[0mname\u001b[0m\u001b[1;33m,\u001b[0m \u001b[0mvalue\u001b[0m\u001b[1;33m)\u001b[0m\u001b[1;33m\u001b[0m\u001b[1;33m\u001b[0m\u001b[0m\n\u001b[0m\u001b[0;32m   5589\u001b[0m         \u001b[1;32mexcept\u001b[0m \u001b[0mAttributeError\u001b[0m\u001b[1;33m:\u001b[0m\u001b[1;33m\u001b[0m\u001b[1;33m\u001b[0m\u001b[0m\n\u001b[0;32m   5590\u001b[0m             \u001b[1;32mpass\u001b[0m\u001b[1;33m\u001b[0m\u001b[1;33m\u001b[0m\u001b[0m\n",
      "\u001b[1;32m~\\anaconda3\\lib\\site-packages\\pandas\\_libs\\properties.pyx\u001b[0m in \u001b[0;36mpandas._libs.properties.AxisProperty.__set__\u001b[1;34m()\u001b[0m\n",
      "\u001b[1;32m~\\anaconda3\\lib\\site-packages\\pandas\\core\\generic.py\u001b[0m in \u001b[0;36m_set_axis\u001b[1;34m(self, axis, labels)\u001b[0m\n\u001b[0;32m    767\u001b[0m     \u001b[1;32mdef\u001b[0m \u001b[0m_set_axis\u001b[0m\u001b[1;33m(\u001b[0m\u001b[0mself\u001b[0m\u001b[1;33m,\u001b[0m \u001b[0maxis\u001b[0m\u001b[1;33m:\u001b[0m \u001b[0mint\u001b[0m\u001b[1;33m,\u001b[0m \u001b[0mlabels\u001b[0m\u001b[1;33m:\u001b[0m \u001b[0mIndex\u001b[0m\u001b[1;33m)\u001b[0m \u001b[1;33m->\u001b[0m \u001b[1;32mNone\u001b[0m\u001b[1;33m:\u001b[0m\u001b[1;33m\u001b[0m\u001b[1;33m\u001b[0m\u001b[0m\n\u001b[0;32m    768\u001b[0m         \u001b[0mlabels\u001b[0m \u001b[1;33m=\u001b[0m \u001b[0mensure_index\u001b[0m\u001b[1;33m(\u001b[0m\u001b[0mlabels\u001b[0m\u001b[1;33m)\u001b[0m\u001b[1;33m\u001b[0m\u001b[1;33m\u001b[0m\u001b[0m\n\u001b[1;32m--> 769\u001b[1;33m         \u001b[0mself\u001b[0m\u001b[1;33m.\u001b[0m\u001b[0m_mgr\u001b[0m\u001b[1;33m.\u001b[0m\u001b[0mset_axis\u001b[0m\u001b[1;33m(\u001b[0m\u001b[0maxis\u001b[0m\u001b[1;33m,\u001b[0m \u001b[0mlabels\u001b[0m\u001b[1;33m)\u001b[0m\u001b[1;33m\u001b[0m\u001b[1;33m\u001b[0m\u001b[0m\n\u001b[0m\u001b[0;32m    770\u001b[0m         \u001b[0mself\u001b[0m\u001b[1;33m.\u001b[0m\u001b[0m_clear_item_cache\u001b[0m\u001b[1;33m(\u001b[0m\u001b[1;33m)\u001b[0m\u001b[1;33m\u001b[0m\u001b[1;33m\u001b[0m\u001b[0m\n\u001b[0;32m    771\u001b[0m \u001b[1;33m\u001b[0m\u001b[0m\n",
      "\u001b[1;32m~\\anaconda3\\lib\\site-packages\\pandas\\core\\internals\\managers.py\u001b[0m in \u001b[0;36mset_axis\u001b[1;34m(self, axis, new_labels)\u001b[0m\n\u001b[0;32m    212\u001b[0m     \u001b[1;32mdef\u001b[0m \u001b[0mset_axis\u001b[0m\u001b[1;33m(\u001b[0m\u001b[0mself\u001b[0m\u001b[1;33m,\u001b[0m \u001b[0maxis\u001b[0m\u001b[1;33m:\u001b[0m \u001b[0mint\u001b[0m\u001b[1;33m,\u001b[0m \u001b[0mnew_labels\u001b[0m\u001b[1;33m:\u001b[0m \u001b[0mIndex\u001b[0m\u001b[1;33m)\u001b[0m \u001b[1;33m->\u001b[0m \u001b[1;32mNone\u001b[0m\u001b[1;33m:\u001b[0m\u001b[1;33m\u001b[0m\u001b[1;33m\u001b[0m\u001b[0m\n\u001b[0;32m    213\u001b[0m         \u001b[1;31m# Caller is responsible for ensuring we have an Index object.\u001b[0m\u001b[1;33m\u001b[0m\u001b[1;33m\u001b[0m\u001b[0m\n\u001b[1;32m--> 214\u001b[1;33m         \u001b[0mself\u001b[0m\u001b[1;33m.\u001b[0m\u001b[0m_validate_set_axis\u001b[0m\u001b[1;33m(\u001b[0m\u001b[0maxis\u001b[0m\u001b[1;33m,\u001b[0m \u001b[0mnew_labels\u001b[0m\u001b[1;33m)\u001b[0m\u001b[1;33m\u001b[0m\u001b[1;33m\u001b[0m\u001b[0m\n\u001b[0m\u001b[0;32m    215\u001b[0m         \u001b[0mself\u001b[0m\u001b[1;33m.\u001b[0m\u001b[0maxes\u001b[0m\u001b[1;33m[\u001b[0m\u001b[0maxis\u001b[0m\u001b[1;33m]\u001b[0m \u001b[1;33m=\u001b[0m \u001b[0mnew_labels\u001b[0m\u001b[1;33m\u001b[0m\u001b[1;33m\u001b[0m\u001b[0m\n\u001b[0;32m    216\u001b[0m \u001b[1;33m\u001b[0m\u001b[0m\n",
      "\u001b[1;32m~\\anaconda3\\lib\\site-packages\\pandas\\core\\internals\\base.py\u001b[0m in \u001b[0;36m_validate_set_axis\u001b[1;34m(self, axis, new_labels)\u001b[0m\n\u001b[0;32m     67\u001b[0m \u001b[1;33m\u001b[0m\u001b[0m\n\u001b[0;32m     68\u001b[0m         \u001b[1;32melif\u001b[0m \u001b[0mnew_len\u001b[0m \u001b[1;33m!=\u001b[0m \u001b[0mold_len\u001b[0m\u001b[1;33m:\u001b[0m\u001b[1;33m\u001b[0m\u001b[1;33m\u001b[0m\u001b[0m\n\u001b[1;32m---> 69\u001b[1;33m             raise ValueError(\n\u001b[0m\u001b[0;32m     70\u001b[0m                 \u001b[1;34mf\"Length mismatch: Expected axis has {old_len} elements, new \"\u001b[0m\u001b[1;33m\u001b[0m\u001b[1;33m\u001b[0m\u001b[0m\n\u001b[0;32m     71\u001b[0m                 \u001b[1;34mf\"values have {new_len} elements\"\u001b[0m\u001b[1;33m\u001b[0m\u001b[1;33m\u001b[0m\u001b[0m\n",
      "\u001b[1;31mValueError\u001b[0m: Length mismatch: Expected axis has 54 elements, new values have 56 elements"
     ]
    }
   ],
   "source": [
    "a_subte.columns = columnas"
   ]
  },
  {
   "cell_type": "markdown",
   "metadata": {},
   "source": [
    "#### visualización de datos faltantes"
   ]
  },
  {
   "cell_type": "markdown",
   "metadata": {},
   "source": [
    "La matriz de nulidad de $msno.matrix$ es una pantalla densa en información que permite identificar rápidamente patrones en la completitud de los datos."
   ]
  },
  {
   "cell_type": "code",
   "execution_count": null,
   "metadata": {},
   "outputs": [],
   "source": [
    "msno.matrix(a_subte, labels=True)\n",
    "plt.show()"
   ]
  },
  {
   "cell_type": "markdown",
   "metadata": {},
   "source": [
    "En la visualización de datos faltantes, podemos ver que una de las columnas con más datos faltantes es 'contaminantes', sin embargo es esta columna los campos vacios nos indican esa muestra no tiene contaminantes, por lo que se decide llenar los campos faltantes con la frase \"sin contaminantes\":"
   ]
  },
  {
   "cell_type": "code",
   "execution_count": null,
   "metadata": {},
   "outputs": [],
   "source": [
    "a_subte[\"contaminantes\"].fillna(\"sin contaminantes\", inplace = True)"
   ]
  },
  {
   "cell_type": "code",
   "execution_count": null,
   "metadata": {},
   "outputs": [],
   "source": [
    "a_subte.isna().mean()"
   ]
  },
  {
   "cell_type": "markdown",
   "metadata": {},
   "source": [
    "Al revisar la media de los datos vemos que una de las columnas tiene el 100% de sus datos faltantes, el siguiente código elimina las columnas que tienen más de un determinado porcentaje de datos faltantes:"
   ]
  },
  {
   "cell_type": "code",
   "execution_count": null,
   "metadata": {},
   "outputs": [],
   "source": [
    "a_subte.drop(a_subte.columns[a_subte.isnull().mean() >= 0.3], inplace=True, axis=1)"
   ]
  },
  {
   "cell_type": "markdown",
   "metadata": {},
   "source": [
    "Una vez eliminadas las columnas con más de determinado porcentaje de datos faltantes, se eliminan las filas con datos faltantes:"
   ]
  },
  {
   "cell_type": "code",
   "execution_count": null,
   "metadata": {},
   "outputs": [],
   "source": [
    "a_subte.dropna(inplace = True, axis = 0)\n",
    "a_subte.shape"
   ]
  },
  {
   "cell_type": "markdown",
   "metadata": {},
   "source": [
    "#### Columnas con valores \"<number\""
   ]
  },
  {
   "cell_type": "markdown",
   "metadata": {},
   "source": [
    "Realizamos una descripción inicial de los datos:"
   ]
  },
  {
   "cell_type": "code",
   "execution_count": null,
   "metadata": {},
   "outputs": [],
   "source": [
    "a_subte.describe(include = 'all')"
   ]
  },
  {
   "cell_type": "markdown",
   "metadata": {},
   "source": [
    "Hay columnas en las cuales el valor más frecuente del data set es \"<number\", esto se debe a que para los valores muy pequeños se decidió usar esta nomenclatura en el data set. En estas, reemplazaremos dichos valores string por 0, y cambiamos el tipo de dato a flotante: "
   ]
  },
  {
   "cell_type": "code",
   "execution_count": null,
   "metadata": {},
   "outputs": [],
   "source": [
    "entro=0\n",
    "for i in a_subte.columns:\n",
    "    mask = a_subte[i].astype(str).str.match(r'^\\<')\n",
    "    a_subte[i].mask(mask,0,inplace=True)\n",
    "    if mask.any():\n",
    "        a_subte[i]=a_subte[i].astype('float')           "
   ]
  },
  {
   "cell_type": "code",
   "execution_count": null,
   "metadata": {},
   "outputs": [],
   "source": [
    "a_subte.describe(include = 'all')"
   ]
  },
  {
   "cell_type": "markdown",
   "metadata": {},
   "source": [
    "#### Revisión de tipos de datos"
   ]
  },
  {
   "cell_type": "markdown",
   "metadata": {},
   "source": [
    "Ahora todas las variables numericas parecen tener el tipo correcto de datos, exeptuando sdt_m que contiene el \"Valor de Solidos Disueltos Totales-Medidos, en miligramos por litro\" y periodo:"
   ]
  },
  {
   "cell_type": "code",
   "execution_count": null,
   "metadata": {},
   "outputs": [],
   "source": [
    "a_subte.dtypes"
   ]
  },
  {
   "cell_type": "code",
   "execution_count": null,
   "metadata": {},
   "outputs": [],
   "source": [
    "a_subte['sdt_m']=a_subte['sdt_m'].astype('float')  \n",
    "a_subte['periodo']=a_subte['periodo'].astype('float') "
   ]
  },
  {
   "cell_type": "markdown",
   "metadata": {},
   "source": [
    "#### Columnas con único valor"
   ]
  },
  {
   "cell_type": "markdown",
   "metadata": {},
   "source": [
    "Las columnas con un único valor no agregan valor al dataframe por lo que se eliminan del Data Frame:"
   ]
  },
  {
   "cell_type": "code",
   "execution_count": null,
   "metadata": {},
   "outputs": [],
   "source": [
    "a_subte.columns[a_subte.nunique()==1]"
   ]
  },
  {
   "cell_type": "code",
   "execution_count": null,
   "metadata": {},
   "outputs": [],
   "source": [
    "a_subte.drop(a_subte.columns[a_subte.nunique()==1], inplace=True, axis=1)"
   ]
  },
  {
   "cell_type": "markdown",
   "metadata": {},
   "source": [
    "#### Encoding de la variable semanforo"
   ]
  },
  {
   "cell_type": "markdown",
   "metadata": {},
   "source": [
    "Transformamos los valores categóricos de las características relevantes como semaforo en valores numéricos:"
   ]
  },
  {
   "cell_type": "code",
   "execution_count": null,
   "metadata": {},
   "outputs": [],
   "source": [
    "a_subte['semaforo_e']=a_subte['semaforo'].map({'Verde':0,'Amarillo':1,'Rojo':2})\n",
    "a_subte['semaforo_e']=a_subte['semaforo_e'].astype('float')"
   ]
  },
  {
   "cell_type": "markdown",
   "metadata": {},
   "source": [
    " ## Explorar datos"
   ]
  },
  {
   "cell_type": "markdown",
   "metadata": {},
   "source": [
    "### exploración Datos Monitoreo de Aguas Subterraneas"
   ]
  },
  {
   "cell_type": "markdown",
   "metadata": {},
   "source": [
    "| **Nombre**           | **Nuevo Nombre**  | **Descripción**                                                                                                                                    |\n",
    "|----------------------|-------------------|----------------------------------------------------------------------------------------------------------------------------------------------------|\n",
    "| SITIO                | sitio             | Nombre del sitio de muestreo                                                                                                                       |\n",
    "| ORGANISMO_DE_CUENCA  | organismo_cuenca  | Nombre del Organismo de Cuenca de agua donde se localiza el sitio de monitoreo                                                                     |\n",
    "| ESTADO               | estado            | Estado donde se encuentra el sitio de muestreo                                                                                                     |\n",
    "| MUNICIPIO            | municipio         | Municipio donde se encuentra el sitio de muestreo                                                                                                  |\n",
    "| ACUIFERO             | acuifero          | Acuifero donde se encuentra el sitio de muestreo                                                                                                   |\n",
    "| SUBTIPO              | subtipo           | Subtipo de cuerpo de agua donde se encuentra el sitio de muestreo                                                                                  |\n",
    "| LONGITUD             | longitud          | Coordenada de longitud                                                                                                                             |\n",
    "| LATITUD              | latitud           | Coordenada de latitud                                                                                                                              |\n",
    "| PERIODO              | periodo           | Anio o periodo en que se realizo el muestreo                                                                                                       |\n",
    "| ALC_mg/L             | alc               | Valor de Alcalinidad Total, en miligramos por litro                                                                                                |\n",
    "| CALIDAD_ALC          | calidad_alc       | Clasificacion de la calidad del agua de acuerdo con el indicador Alcalinidad Total                                                                 |\n",
    "| CONDUCT_mS/cm        | conduct           | Valor de Conductividad en microSiemens por centimetro                                                                                              |\n",
    "| CALIDAD_CONDUC       | calidad_conduct   | Clasificacion de la calidad del agua de acuerdo con el indicador Conductividad                                                                     |\n",
    "| SDT_mg/L             | sdt               | Valor de Solidos Disueltos Totales, en miligramos por litro                                                                                        |\n",
    "| SDT_M_mg/L           | sdt_m             | Valor de Solidos Disueltos Totales-Medidos, en miligramos por litro                                                                                |\n",
    "| CALIDAD_SDT_ra       | calidad_sdt_ra    | Clasificacion de la calidad del agua de acuerdo con el indicador de los Solidos Disueltos Totales (Riego agricola)                                 |\n",
    "| CALIDAD_SDT_salin    | calidad_sdt_salin | Clasificacion de la calidad del agua de acuerdo con el indicador de los Solidos Disueltos Totales (Salinizacion)                                   |\n",
    "| FLUORUROS_mg/L       | fluoruros         | Valor de Fluoruros Totales (F-), en miligramos por litro                                                                                           |\n",
    "| CALIDAD_FLUO         | calidad_fluo      | Clasificacion de la calidad del agua de acuerdo con el indicador Fluoruros Totales                                                                 |\n",
    "| DUR_mg/L             | dur               | Valor de Dureza Total, en miligramos por litro                                                                                                     |\n",
    "| CALIDAD_DUR          | calidad_dur       | Clasificacion de la calidad del agua de acuerdo con el indicador Dureza Total                                                                      |\n",
    "| COLI_FEC_NMP/100_mL  | coli_fec          | Valor de Coliformes Fecales, en Numero Mas Probable por 100 mililitros                                                                             |\n",
    "| CALIDAD_COLI_FEC     | calidad_coli_fec  | Clasificacion de la calidad del agua de acuerdo con el indicador Coliformes Fecales                                                                |\n",
    "| N_NO3_mg/L           | n_no3             | Valor de Nitrogeno de Nitratos, en miligramos por litro                                                                                            |\n",
    "| CALIDAD_N_NO3        | calidad_n_no3     | Clasificacion de la calidad del agua de acuerdo con el indicador Nitrogeno de Nitratos                                                             |\n",
    "| AS_TOT_mg/L          | as                | Valor de Arsenico Total, en miligramos por litro                                                                                                   |\n",
    "| CALIDAD_AS           | calidad_as        | Clasificacion de la calidad del agua de acuerdo con el indicador Arsenico Total                                                                    |\n",
    "| CD_TOT_mg/L          | cd                | Valor de Cadmio Total, en miligramos por litro                                                                                                     |\n",
    "| CALIDAD_CD           | calidad_cd        | Clasificacion de la calidad del agua de acuerdo con el indicador Cadmio Total                                                                      |\n",
    "| CR_TOT_mg/L          | cr                | Valor de Cromo Total, en miligramos por litro                                                                                                      |\n",
    "| CALIDAD_CR           | calidad_cr        | Clasificacion de la calidad del agua de acuerdo con el indicador Cromo Total                                                                       |\n",
    "| HG_TOT_mg/L          | hg                | Valor de Mercurio Total, en miligramos por litro                                                                                                   |\n",
    "| CALIDAD_HG           | calidad_hg        | Clasificacion de la calidad del agua de acuerdo con el indicador Mercurio Total                                                                    |\n",
    "| PB_TOT_mg/L          | pb                | Valor de Plomo Total, en miligramos por litro                                                                                                      |\n",
    "| CALIDAD_PB           | calidad_pb        | Clasificacion de la calidad del agua de acuerdo con el indicador Plomo Total                                                                       |\n",
    "| MN_TOT_mg/L          | mn                | Valor de Manganeso Total, en miligramos por litro                                                                                                  |\n",
    "| CALIDAD_MN           | calidad_mn        | Clasificacion de la calidad del agua de acuerdo con el indicador Manganeso Total                                                                   |\n",
    "| FE_TOT_mg/L          | fe                | Valor de Hierro Total, en miligramos por litro                                                                                                     |\n",
    "| CALIDAD_FE           | calidad_fe        | Clasificacion de la calidad del agua de acuerdo con el indicador Hierro Total                                                                      |\n",
    "| SEMAFORO             | semaforo          | Indica el nivel de contaminacion de acuerdo a los contaminantes presentes                                                                          |\n",
    "| CONTAMINANTES        | contaminantes     | Contaminantes presentes en incumplimiento (Contaminados)                                                                                           |\n",
    "| CUMPLE_CON_ALC       | cumple_alc        |  Indica si cumple con la calidad de Baja, Media, o Alta para el Indicador Alcalinidad Total                                                        |\n",
    "| CUMPLE_CON_COND      | cumple_cond       |  Indica si cumple con la calidad de Excelente para riego, Buena para riego, o Permisible para riego, para el Indicador Conductividad.              |\n",
    "| CUMPLE_CON_SDT_ra    | cumple_sdt_ra     | Indica si cumple con la calidad de Excelente para riego, Cultivos sensibles o Cultivos con manejo especial, para el Indicador SDT (Riego agrícola) |\n",
    "| CUMPLE_CON_SDT_salin | cumple_sdt_salin  | Indica si cumple con la calidad de Potable - Dulce o Ligeramente salobres, para el Indicador Solidos Disueltos Totales (Salinización)              |\n",
    "| CUMPLE_CON_FLUO      | cumple_fluo       | Indica si cumple con la calidad de Baja, Media, o Potable - Optima, para el Indicador Fluoruros Totales                                            |\n",
    "| CUMPLE_CON_DUR       | cumple_dur        | Indica si cumple con la calidad de Potable - Suave, Potable - Moderadamente suave, o Potable - Dura, para el Indicador Dureza Total.               |\n",
    "| CUMPLE_CON_CF        | cumple_cf         | Indica si cumple con la calidad de Potable - Excelente, o Buena calidad, Aceptable, para el Indicador Coliformes Fecales                           |\n",
    "| CUMPLE_CON_NO3       | cumple_no3        | Indica si cumple con la calidad de Potable - Excelente o Potable - Buena calidad, para el Indicador Nitrogeno de Nitratos                          |\n",
    "| CUMPLE_CON_AS        | cumple_as         | Indica si cumple con la calidad de Potable - Excelente o Apta como FAAP, para el Indicador Arsenico Total                                          |\n",
    "| CUMPLE_CON_CD        | cumple_cd         | Indica si cumple con la calidad de Potable - Excelente, para el Indicador Cadmio Total                                                             |\n",
    "| CUMPLE_CON_CR        | cumple_cr         | Indica si cumple con la calidad de Potable - Excelente, para el Indicador Cromo Total                                                              |\n",
    "| CUMPLE_CON_HG        | cumple_hg         | Indica si cumple con la calidad de Potable - Excelente, para el Indicador Mercurio Total                                                           |\n",
    "| CUMPLE_CON_PB        | cumple_pb         | Indica si cumple con la calidad de Potable - Excelente, para el Indicador Plomo Total                                                              |\n",
    "| CUMPLE_CON_MN        | cumple_mn         | Indica si cumple con la calidad de Potable - Excelente, para el Indicador Manganeso Total                                                          |\n",
    "| CUMPLE_CON_FE        | cumple_fe         | Indica si cumple con la calidad de Potable - Excelente, para el Indicador Hierro Total                                                             |\n",
    "|                      | semaforo_e        | Columna con los valores semaforo codificados de la siguiente manera: Verde:0,Amarillo:1,Rojo:2            |\n"
   ]
  },
  {
   "cell_type": "markdown",
   "metadata": {},
   "source": []
  },
  {
   "cell_type": "code",
   "execution_count": null,
   "metadata": {},
   "outputs": [],
   "source": [
    "msno.matrix(a_subte, labels=True)\n",
    "plt.show()"
   ]
  },
  {
   "cell_type": "code",
   "execution_count": null,
   "metadata": {},
   "outputs": [],
   "source": [
    "a_subte.shape"
   ]
  },
  {
   "cell_type": "code",
   "execution_count": null,
   "metadata": {},
   "outputs": [],
   "source": [
    "a_subte.describe()"
   ]
  },
  {
   "cell_type": "code",
   "execution_count": null,
   "metadata": {},
   "outputs": [],
   "source": [
    "a_subte.describe(include = 'object')"
   ]
  },
  {
   "cell_type": "markdown",
   "metadata": {},
   "source": [
    "#### Visualización de Datos"
   ]
  },
  {
   "cell_type": "markdown",
   "metadata": {},
   "source": [
    "##### Variables no númericas"
   ]
  },
  {
   "cell_type": "markdown",
   "metadata": {},
   "source": [
    "Se seleccionan las colunas no numéricas con menos de 35 datos únicos para ser graficadas con gráficos de barras:"
   ]
  },
  {
   "cell_type": "code",
   "execution_count": null,
   "metadata": {},
   "outputs": [],
   "source": [
    "col_bar= a_subte[a_subte.columns[a_subte.nunique()<35]].select_dtypes(exclude='number').columns\n",
    "col_bar"
   ]
  },
  {
   "cell_type": "code",
   "execution_count": null,
   "metadata": {},
   "outputs": [],
   "source": [
    "for i in col_bar:\n",
    "    fig = px.bar(a_subte, x=i)\n",
    "    #fig = px.box(a_subte, x=i)\n",
    "    fig.show()"
   ]
  },
  {
   "cell_type": "code",
   "execution_count": null,
   "metadata": {},
   "outputs": [],
   "source": [
    "cmcats=['organismo_cuenca', 'estado', 'subtipo']\n",
    "plt.figure(figsize=(20,20))\n",
    "for i,var in enumerate(cmcats):\n",
    "    plt.subplot(3,1,i+1)\n",
    "    plt.xticks(fontsize=8, rotation=30)\n",
    "    sns.boxplot(x=var, y='semaforo_e', data=a_subte)"
   ]
  },
  {
   "cell_type": "markdown",
   "metadata": {},
   "source": [
    "##### Variables Númericas"
   ]
  },
  {
   "cell_type": "markdown",
   "metadata": {},
   "source": [
    "Se seleccionan las variables númericas y se grafican diagramas de cajas:"
   ]
  },
  {
   "cell_type": "code",
   "execution_count": null,
   "metadata": {},
   "outputs": [],
   "source": [
    "col_num=a_subte.select_dtypes(include='number').columns\n",
    "col_num"
   ]
  },
  {
   "cell_type": "code",
   "execution_count": null,
   "metadata": {},
   "outputs": [],
   "source": [
    "for i in col_num:\n",
    "    fig = px.box(a_subte, x=i)\n",
    "    fig.show()"
   ]
  },
  {
   "cell_type": "code",
   "execution_count": null,
   "metadata": {},
   "outputs": [],
   "source": [
    "# plot correlations between continous variables:\n",
    "plt.figure(figsize=(20,20))\n",
    "sns.heatmap(a_subte[col_num].corr(), cmap=\"RdYlBu\", \n",
    "    annot=True, square=True,\n",
    "    vmin=-0.8, vmax=0.8, fmt=\"+.2f\")\n",
    "plt.title(\"Correlations between continous variables\")"
   ]
  },
  {
   "cell_type": "code",
   "execution_count": null,
   "metadata": {},
   "outputs": [],
   "source": [
    "sns.pairplot(a_subte, vars=['conduct', 'fluoruros', 'dur', 'as',  'hg', 'mn', 'fe','semaforo_e'], kind='reg',diag_kind='hist')"
   ]
  },
  {
   "cell_type": "markdown",
   "metadata": {},
   "source": [
    "## Realizar análisis para encontrar si existe una relación entre la calidad del agua y su ubicación geográfica a través de K- means."
   ]
  },
  {
   "cell_type": "markdown",
   "metadata": {},
   "source": [
    "Creamos una columna index1 para conservar un identificador de los datos:"
   ]
  },
  {
   "cell_type": "code",
   "execution_count": null,
   "metadata": {},
   "outputs": [],
   "source": [
    "a_subte.index.is_unique"
   ]
  },
  {
   "cell_type": "code",
   "execution_count": null,
   "metadata": {},
   "outputs": [],
   "source": [
    "a_subte['index1'] = a_subte.index"
   ]
  },
  {
   "cell_type": "code",
   "execution_count": null,
   "metadata": {},
   "outputs": [],
   "source": [
    "a_subte.columns"
   ]
  },
  {
   "cell_type": "markdown",
   "metadata": {},
   "source": [
    "Seleccionamos las columnas que usaremos para K-means:"
   ]
  },
  {
   "cell_type": "code",
   "execution_count": null,
   "metadata": {},
   "outputs": [],
   "source": [
    "dfsub=a_subte.loc[:,['index1','sitio','organismo_cuenca','estado','municipio','acuifero','subtipo','longitud','latitud','semaforo']]"
   ]
  },
  {
   "cell_type": "markdown",
   "metadata": {},
   "source": [
    "Creamos el campo coordenadas con una tupla de la longitud y latitud de los datos:"
   ]
  },
  {
   "cell_type": "code",
   "execution_count": null,
   "metadata": {},
   "outputs": [],
   "source": [
    "dfsub[\"Coordinates\"] = list(zip(dfsub.longitud, dfsub.latitud))"
   ]
  },
  {
   "cell_type": "markdown",
   "metadata": {},
   "source": [
    "Utilizamos las clase Point de shapely.Geometry. Poin es un tipo de geometría que representa una única coordenada con valores x,y y:"
   ]
  },
  {
   "cell_type": "code",
   "execution_count": null,
   "metadata": {},
   "outputs": [],
   "source": [
    "dfsub[\"Coordinates\"] = dfsub[\"Coordinates\"].apply(Point)"
   ]
  },
  {
   "cell_type": "markdown",
   "metadata": {},
   "source": [
    "Creamos un GeoDataFrame comenzando desde un DataFrame regular, usamos la lista de objetos shapely.Point y la establecemos como una geometria:"
   ]
  },
  {
   "cell_type": "code",
   "execution_count": null,
   "metadata": {},
   "outputs": [],
   "source": [
    "gdfsub = gpd.GeoDataFrame(dfsub, geometry=\"Coordinates\")"
   ]
  },
  {
   "cell_type": "markdown",
   "metadata": {},
   "source": [
    "Leemos el archivo de mapa:"
   ]
  },
  {
   "cell_type": "code",
   "execution_count": null,
   "metadata": {},
   "outputs": [],
   "source": [
    "world = gpd.read_file(gpd.datasets.get_path(\"naturalearth_lowres\"))\n",
    "world = world.set_index(\"iso_a3\")"
   ]
  },
  {
   "cell_type": "markdown",
   "metadata": {},
   "source": [
    "## Realizar análisis para encontrar si existe una relación entre la calidad del agua y su ubicación geográfica a través de K- means. \n",
    "\n",
    "### Kmeans para semaforo Verde"
   ]
  },
  {
   "cell_type": "markdown",
   "metadata": {},
   "source": [
    "Creamos una columna index1 para conservar un identificador de los datos:"
   ]
  },
  {
   "cell_type": "code",
   "execution_count": null,
   "metadata": {},
   "outputs": [],
   "source": [
    "a_subte.index.is_unique"
   ]
  },
  {
   "cell_type": "code",
   "execution_count": null,
   "metadata": {},
   "outputs": [],
   "source": [
    "a_subte['index1'] = a_subte.index"
   ]
  },
  {
   "cell_type": "code",
   "execution_count": null,
   "metadata": {},
   "outputs": [],
   "source": [
    "a_subte.columns"
   ]
  },
  {
   "cell_type": "markdown",
   "metadata": {},
   "source": [
    "Seleccionamos las columnas que usaremos para K-means:"
   ]
  },
  {
   "cell_type": "code",
   "execution_count": null,
   "metadata": {},
   "outputs": [],
   "source": [
    "dfsubv=a_subte.loc[a_subte['semaforo']=='Verde',['index1','sitio','organismo_cuenca','estado','municipio','acuifero','subtipo','longitud','latitud','semaforo']]"
   ]
  },
  {
   "cell_type": "markdown",
   "metadata": {},
   "source": [
    "Creamos el campo coordenadas con una tupla de la longitud y latitud de los datos:"
   ]
  },
  {
   "cell_type": "code",
   "execution_count": null,
   "metadata": {},
   "outputs": [],
   "source": [
    "dfsubv[\"Coordinates\"] = list(zip(dfsubv.longitud, dfsubv.latitud))"
   ]
  },
  {
   "cell_type": "markdown",
   "metadata": {},
   "source": [
    "Utilizamos las clase Point de shapely.Geometry. Poin es un tipo de geometría que representa una única coordenada con valores x,y y:"
   ]
  },
  {
   "cell_type": "code",
   "execution_count": null,
   "metadata": {},
   "outputs": [],
   "source": [
    "dfsubv[\"Coordinates\"] = dfsubv[\"Coordinates\"].apply(Point)"
   ]
  },
  {
   "cell_type": "markdown",
   "metadata": {},
   "source": [
    "Creamos un GeoDataFrame comenzando desde un DataFrame regular, usamos la lista de objetos shapely.Point y la establecemos como una geometria:"
   ]
  },
  {
   "cell_type": "code",
   "execution_count": null,
   "metadata": {},
   "outputs": [],
   "source": [
    "gdfsubv = gpd.GeoDataFrame(dfsubv, geometry=\"Coordinates\")"
   ]
  },
  {
   "cell_type": "markdown",
   "metadata": {},
   "source": [
    "Leemos el archivo de mapa:"
   ]
  },
  {
   "cell_type": "code",
   "execution_count": null,
   "metadata": {},
   "outputs": [],
   "source": [
    "world = gpd.read_file(gpd.datasets.get_path(\"naturalearth_lowres\"))\n",
    "world = world.set_index(\"iso_a3\")"
   ]
  },
  {
   "cell_type": "markdown",
   "metadata": {},
   "source": [
    "## kmeans Aguas Subterraneas"
   ]
  },
  {
   "cell_type": "markdown",
   "metadata": {},
   "source": [
    "El agrupamiento de k-medias es un método de cuantificación vectorial, originario del procesamiento de señales, que tiene como objetivo dividir n observaciones en k grupos en los que cada observación pertenece al grupo con la media más cercana, sirviendo como un prototipo del grupo.\n",
    "\n",
    "\n",
    "### Codo - Distorsión\n",
    "\n",
    "Distorsión: se calcula como el promedio de las distancias al cuadrado desde los centros de los clústeres respectivos. Por lo general, se utiliza la métrica de distancia euclidiana.\n",
    "\n",
    "El método del codo ejecuta el agrupamiento de k-medias en el conjunto de datos para un rango de valores de k (por ejemplo, de 1 a 10) y luego, para cada valor de k, calcula una puntuación promedio para todos los grupos. De forma predeterminada, se calcula la puntuación de distorsión, la suma de las distancias al cuadrado desde cada punto hasta su centro asignado. "
   ]
  },
  {
   "cell_type": "markdown",
   "metadata": {},
   "source": [
    "KElbowVisualizer implementa el método \"codo\" para ayudar a seleccionar la cantidad óptima de clústeres ajustando el modelo con un rango de valores para k. Si el gráfico de líneas se asemeja a un brazo, entonces el \"codo\" (el punto de inflexión en la curva) es una buena indicación de que el modelo subyacente se ajusta mejor a ese punto. En el visualizador, el \"codo\" se anotará con una línea discontinua:"
   ]
  },
  {
   "cell_type": "code",
   "execution_count": null,
   "metadata": {},
   "outputs": [],
   "source": [
    "kmeans = KMeans(n_init=20)\n",
    "\n",
    "visualizer = KElbowVisualizer(kmeans, k=(2,30),metric='distortion',timings=False,)\n",
    "visualizer.fit(gdfsubv[['latitud','longitud']])  \n",
    "visualizer.show() "
   ]
  },
  {
   "cell_type": "markdown",
   "metadata": {},
   "source": [
    "Del gráfico podemos ver que el numero de clusters con máximo impacto es 7, despues de ese numero de clusters el impacto de nuevos clusters se reduce significativamente.\n"
   ]
  },
  {
   "cell_type": "markdown",
   "metadata": {},
   "source": [
    "#### Agrupamiento K-Means\n",
    "Realizamos el agrupamiento K-Means con 6 clusters, se crea una columna en el dataframe con las etiquetas de los centros de los clusters resultado de la reducción:"
   ]
  },
  {
   "cell_type": "code",
   "execution_count": null,
   "metadata": {},
   "outputs": [],
   "source": [
    "kmeans = KMeans(n_clusters = 7, init ='k-means++')\n",
    "kmeans.fit(gdfsubv[['latitud','longitud']]) # Calcule el clustering de k-medias.\n",
    "gdfsubv['cluster_sub'] = kmeans.fit_predict(gdfsubv[['latitud','longitud']])\n",
    "centerssub = kmeans.cluster_centers_ # Coordenadas de los centros de los clusters."
   ]
  },
  {
   "cell_type": "code",
   "execution_count": null,
   "metadata": {},
   "outputs": [],
   "source": [
    "gdfsubv.head()"
   ]
  },
  {
   "cell_type": "markdown",
   "metadata": {},
   "source": [
    "#### Información de los centros de los clusteres"
   ]
  },
  {
   "cell_type": "markdown",
   "metadata": {},
   "source": [
    "Se crea un geodataframe con las coordinadas de los centros de los clusters:"
   ]
  },
  {
   "cell_type": "code",
   "execution_count": null,
   "metadata": {},
   "outputs": [],
   "source": [
    "centers_dfsubv= pd.DataFrame(data=centerssub, columns=['latitud','longitud'])\n",
    "centers_dfsubv[\"Coordinates\"] = list(zip(centers_dfsubv.longitud, centers_dfsubv.latitud))\n",
    "centers_dfsubv[\"Coordinates\"] = centers_dfsubv[\"Coordinates\"].apply(Point)\n",
    "centers_gdfsubv = gpd.GeoDataFrame(centers_dfsubv, geometry=\"Coordinates\")"
   ]
  },
  {
   "cell_type": "code",
   "execution_count": null,
   "metadata": {},
   "outputs": [],
   "source": [
    "geolocator = Nominatim(user_agent=\"geoapiExercises\")\n",
    "\n",
    "def city_state(row):\n",
    "    coord = f\"{row['latitud']}, {row['longitud']}\"\n",
    "    location = geolocator.reverse(coord)\n",
    "    #print (location)\n",
    "    if location is not None:\n",
    "        address = location.raw['address']\n",
    "        #print(address)\n",
    "        state = address.get('state', '')\n",
    "        row['state'] = state\n",
    "        city = address.get('city', '')\n",
    "        row['city'] = city\n",
    "        county = address.get('county', '')\n",
    "        row['county'] = county\n",
    "    return row\n",
    "\n",
    "centersub_geo= centers_gdfsubv.apply(city_state, axis=1)\n",
    "centersub_geo['id_clussub']= centersub_geo.index\n",
    "centersub_geo"
   ]
  },
  {
   "cell_type": "code",
   "execution_count": null,
   "metadata": {},
   "outputs": [],
   "source": [
    "fig, gax = plt.subplots(figsize=(10,10))\n",
    "\n",
    "#ploteando las filas en las cuales el país es México:\n",
    "world.query(\"name == 'Mexico'\").plot(ax = gax, edgecolor='black', color='palegreen')\n",
    "\n",
    "\n",
    "\n",
    "# Ploteamos las aguas suberraneas de nuestro GeoDataFrame, con diferentes colores según el cluster al que pertenecen:\n",
    "\n",
    "gdfsubv.plot(ax=gax, column='cluster_sub', alpha = 0.5, cmap = 'summer')\n",
    "\n",
    "# Ploteamos los centros de los clusters:\n",
    "centers_gdfsubv.plot(ax=gax, color='darkgreen')\n",
    "\n",
    "\n",
    "gax.set_xlabel('longitud')\n",
    "gax.set_ylabel('latitud')\n",
    "gax.set_title('Aguas Subterraneas en México - Semaforo Verde')\n",
    "\n",
    "gax.spines['top'].set_visible(False)\n",
    "gax.spines['right'].set_visible(False)\n",
    "\n",
    "plt.show()"
   ]
  },
  {
   "cell_type": "code",
   "execution_count": null,
   "metadata": {},
   "outputs": [],
   "source": []
  },
  {
   "cell_type": "markdown",
   "metadata": {},
   "source": [
    "## Realizar análisis para encontrar si existe una relación entre la calidad del agua y su ubicación geográfica a través de K- means\n",
    "### Kmeans para semaforo Amarillo"
   ]
  },
  {
   "cell_type": "markdown",
   "metadata": {},
   "source": [
    "Creamos una columna index1 para conservar un identificador de los datos:"
   ]
  },
  {
   "cell_type": "code",
   "execution_count": null,
   "metadata": {},
   "outputs": [],
   "source": [
    "a_subte.index.is_unique"
   ]
  },
  {
   "cell_type": "code",
   "execution_count": null,
   "metadata": {},
   "outputs": [],
   "source": [
    "a_subte['index1'] = a_subte.index"
   ]
  },
  {
   "cell_type": "code",
   "execution_count": null,
   "metadata": {},
   "outputs": [],
   "source": [
    "a_subte.columns"
   ]
  },
  {
   "cell_type": "markdown",
   "metadata": {},
   "source": [
    "Seleccionamos las columnas que usaremos para K-means:"
   ]
  },
  {
   "cell_type": "code",
   "execution_count": null,
   "metadata": {},
   "outputs": [],
   "source": [
    "dfsuba=a_subte.loc[a_subte['semaforo']=='Amarillo',['index1','sitio','organismo_cuenca','estado','municipio','acuifero','subtipo','longitud','latitud','semaforo']]"
   ]
  },
  {
   "cell_type": "markdown",
   "metadata": {},
   "source": [
    "Creamos el campo coordenadas con una tupla de la longitud y latitud de los datos:"
   ]
  },
  {
   "cell_type": "code",
   "execution_count": null,
   "metadata": {},
   "outputs": [],
   "source": [
    "dfsuba[\"Coordinates\"] = list(zip(dfsuba.longitud, dfsuba.latitud))"
   ]
  },
  {
   "cell_type": "markdown",
   "metadata": {},
   "source": [
    "Utilizamos las clase Point de shapely.Geometry. Poin es un tipo de geometría que representa una única coordenada con valores x,y y:"
   ]
  },
  {
   "cell_type": "code",
   "execution_count": null,
   "metadata": {},
   "outputs": [],
   "source": [
    "dfsuba[\"Coordinates\"] = dfsuba[\"Coordinates\"].apply(Point)"
   ]
  },
  {
   "cell_type": "markdown",
   "metadata": {},
   "source": [
    "Creamos un GeoDataFrame comenzando desde un DataFrame regular, usamos la lista de objetos shapely.Point y la establecemos como una geometria:"
   ]
  },
  {
   "cell_type": "code",
   "execution_count": null,
   "metadata": {},
   "outputs": [],
   "source": [
    "gdfsuba = gpd.GeoDataFrame(dfsuba, geometry=\"Coordinates\")"
   ]
  },
  {
   "cell_type": "markdown",
   "metadata": {},
   "source": [
    "Leemos el archivo de mapa:"
   ]
  },
  {
   "cell_type": "code",
   "execution_count": null,
   "metadata": {},
   "outputs": [],
   "source": [
    "world = gpd.read_file(gpd.datasets.get_path(\"naturalearth_lowres\"))\n",
    "world = world.set_index(\"iso_a3\")"
   ]
  },
  {
   "cell_type": "markdown",
   "metadata": {},
   "source": [
    "## kmeans Aguas Subterraneas"
   ]
  },
  {
   "cell_type": "markdown",
   "metadata": {},
   "source": [
    "El agrupamiento de k-medias es un método de cuantificación vectorial, originario del procesamiento de señales, que tiene como objetivo dividir n observaciones en k grupos en los que cada observación pertenece al grupo con la media más cercana, sirviendo como un prototipo del grupo.\n",
    "\n",
    "\n",
    "### Codo - Distorsión\n",
    "\n",
    "Distorsión: se calcula como el promedio de las distancias al cuadrado desde los centros de los clústeres respectivos. Por lo general, se utiliza la métrica de distancia euclidiana.\n",
    "\n",
    "El método del codo ejecuta el agrupamiento de k-medias en el conjunto de datos para un rango de valores de k (por ejemplo, de 1 a 10) y luego, para cada valor de k, calcula una puntuación promedio para todos los grupos. De forma predeterminada, se calcula la puntuación de distorsión, la suma de las distancias al cuadrado desde cada punto hasta su centro asignado. "
   ]
  },
  {
   "cell_type": "markdown",
   "metadata": {},
   "source": [
    "KElbowVisualizer implementa el método \"codo\" para ayudar a seleccionar la cantidad óptima de clústeres ajustando el modelo con un rango de valores para k. Si el gráfico de líneas se asemeja a un brazo, entonces el \"codo\" (el punto de inflexión en la curva) es una buena indicación de que el modelo subyacente se ajusta mejor a ese punto. En el visualizador, el \"codo\" se anotará con una línea discontinua:"
   ]
  },
  {
   "cell_type": "code",
   "execution_count": null,
   "metadata": {},
   "outputs": [],
   "source": [
    "kmeans = KMeans(n_init=20)\n",
    "\n",
    "visualizer = KElbowVisualizer(kmeans, k=(2,30),metric='distortion',timings=False,)\n",
    "visualizer.fit(gdfsuba[['latitud','longitud']])  \n",
    "visualizer.show() "
   ]
  },
  {
   "cell_type": "markdown",
   "metadata": {},
   "source": [
    "Del gráfico podemos ver que el numero de clusters con máximo impacto es 5, despues de ese numero de clusters el impacto de nuevos clusters se reduce significativamente.\n"
   ]
  },
  {
   "cell_type": "markdown",
   "metadata": {},
   "source": [
    "#### Agrupamiento K-Means\n",
    "Realizamos el agrupamiento K-Means con 5 clusters, se crea una columna en el dataframe con las etiquetas de los centros de los clusters resultado de la reducción:"
   ]
  },
  {
   "cell_type": "code",
   "execution_count": null,
   "metadata": {},
   "outputs": [],
   "source": [
    "kmeans = KMeans(n_clusters = 5, init ='k-means++')\n",
    "kmeans.fit(gdfsuba[['latitud','longitud']]) # Calcule el clustering de k-medias.\n",
    "gdfsuba['cluster_sub'] = kmeans.fit_predict(gdfsuba[['latitud','longitud']])\n",
    "centerssub = kmeans.cluster_centers_ # Coordenadas de los centros de los clusters."
   ]
  },
  {
   "cell_type": "code",
   "execution_count": null,
   "metadata": {},
   "outputs": [],
   "source": [
    "gdfsuba.head()"
   ]
  },
  {
   "cell_type": "markdown",
   "metadata": {},
   "source": [
    "#### Información de los centros de los clusteres"
   ]
  },
  {
   "cell_type": "markdown",
   "metadata": {},
   "source": [
    "Se crea un geodataframe con las coordinadas de los centros de los clusters:"
   ]
  },
  {
   "cell_type": "code",
   "execution_count": null,
   "metadata": {},
   "outputs": [],
   "source": [
    "centers_dfsuba= pd.DataFrame(data=centerssub, columns=['latitud','longitud'])\n",
    "centers_dfsuba[\"Coordinates\"] = list(zip(centers_dfsuba.longitud, centers_dfsuba.latitud))\n",
    "centers_dfsuba[\"Coordinates\"] = centers_dfsuba[\"Coordinates\"].apply(Point)\n",
    "centers_gdfsuba = gpd.GeoDataFrame(centers_dfsuba, geometry=\"Coordinates\")"
   ]
  },
  {
   "cell_type": "code",
   "execution_count": null,
   "metadata": {},
   "outputs": [],
   "source": [
    "geolocator = Nominatim(user_agent=\"geoapiExercises\")\n",
    "\n",
    "def city_state(row):\n",
    "    coord = f\"{row['latitud']}, {row['longitud']}\"\n",
    "    location = geolocator.reverse(coord)\n",
    "    #print (location)\n",
    "    if location is not None:\n",
    "        address = location.raw['address']\n",
    "        #print(address)\n",
    "        state = address.get('state', '')\n",
    "        row['state'] = state\n",
    "        city = address.get('city', '')\n",
    "        row['city'] = city\n",
    "        county = address.get('county', '')\n",
    "        row['county'] = county\n",
    "    return row\n",
    "\n",
    "centersub_geo= centers_gdfsuba.apply(city_state, axis=1)\n",
    "centersub_geo['id_clussub']= centersub_geo.index\n",
    "centersub_geo"
   ]
  },
  {
   "cell_type": "code",
   "execution_count": null,
   "metadata": {
    "scrolled": true
   },
   "outputs": [],
   "source": [
    "fig, gax = plt.subplots(figsize=(10,10))\n",
    "\n",
    "#ploteando las filas en las cuales el país es México:\n",
    "world.query(\"name == 'Mexico'\").plot(ax = gax, edgecolor='black', color='lightyellow')\n",
    "\n",
    "\n",
    "\n",
    "# Ploteamos las aguas suberraneas de nuestro GeoDataFrame, con diferentes colores según el cluster al que pertenecen:\n",
    "\n",
    "gdfsuba.plot(ax=gax, column='cluster_sub', alpha = 0.5, cmap = 'viridis')\n",
    "\n",
    "# Ploteamos los centros de los clusters:\n",
    "centers_gdfsuba.plot(ax=gax, color='orange')\n",
    "\n",
    "\n",
    "gax.set_xlabel('longitud')\n",
    "gax.set_ylabel('latitud')\n",
    "gax.set_title('Aguas Subterraneas en México - Semaforo Amarillo')\n",
    "\n",
    "gax.spines['top'].set_visible(False)\n",
    "gax.spines['right'].set_visible(False)\n",
    "\n",
    "plt.show()"
   ]
  },
  {
   "cell_type": "code",
   "execution_count": null,
   "metadata": {},
   "outputs": [],
   "source": []
  },
  {
   "cell_type": "code",
   "execution_count": null,
   "metadata": {},
   "outputs": [],
   "source": []
  },
  {
   "cell_type": "markdown",
   "metadata": {},
   "source": [
    "## Realizar análisis para encontrar si existe una relación entre la calidad del agua y su ubicación geográfica a través de K- means\n",
    "\n",
    "### Kmeans para semaforo Rojo"
   ]
  },
  {
   "cell_type": "markdown",
   "metadata": {},
   "source": [
    "Creamos una columna index1 para conservar un identificador de los datos:"
   ]
  },
  {
   "cell_type": "code",
   "execution_count": null,
   "metadata": {},
   "outputs": [],
   "source": [
    "a_subte.index.is_unique"
   ]
  },
  {
   "cell_type": "code",
   "execution_count": null,
   "metadata": {},
   "outputs": [],
   "source": [
    "a_subte['index1'] = a_subte.index"
   ]
  },
  {
   "cell_type": "code",
   "execution_count": null,
   "metadata": {},
   "outputs": [],
   "source": [
    "a_subte.columns"
   ]
  },
  {
   "cell_type": "markdown",
   "metadata": {},
   "source": [
    "Seleccionamos las columnas que usaremos para K-means:"
   ]
  },
  {
   "cell_type": "code",
   "execution_count": null,
   "metadata": {},
   "outputs": [],
   "source": [
    "dfsubr=a_subte.loc[a_subte['semaforo']=='Rojo',['index1','sitio','organismo_cuenca','estado','municipio','acuifero','subtipo','longitud','latitud','semaforo']]"
   ]
  },
  {
   "cell_type": "markdown",
   "metadata": {},
   "source": [
    "Creamos el campo coordenadas con una tupla de la longitud y latitud de los datos:"
   ]
  },
  {
   "cell_type": "code",
   "execution_count": null,
   "metadata": {},
   "outputs": [],
   "source": [
    "dfsubr[\"Coordinates\"] = list(zip(dfsubr.longitud, dfsubr.latitud))"
   ]
  },
  {
   "cell_type": "markdown",
   "metadata": {},
   "source": [
    "Utilizamos las clase Point de shapely.Geometry. Poin es un tipo de geometría que representa una única coordenada con valores x,y y:"
   ]
  },
  {
   "cell_type": "code",
   "execution_count": null,
   "metadata": {},
   "outputs": [],
   "source": [
    "dfsubr[\"Coordinates\"] = dfsubr[\"Coordinates\"].apply(Point)"
   ]
  },
  {
   "cell_type": "markdown",
   "metadata": {},
   "source": [
    "Creamos un GeoDataFrame comenzando desde un DataFrame regular, usamos la lista de objetos shapely.Point y la establecemos como una geometria:"
   ]
  },
  {
   "cell_type": "code",
   "execution_count": null,
   "metadata": {},
   "outputs": [],
   "source": [
    "gdfsubr = gpd.GeoDataFrame(dfsubr, geometry=\"Coordinates\")"
   ]
  },
  {
   "cell_type": "markdown",
   "metadata": {},
   "source": [
    "Leemos el archivo de mapa:"
   ]
  },
  {
   "cell_type": "code",
   "execution_count": null,
   "metadata": {},
   "outputs": [],
   "source": [
    "world = gpd.read_file(gpd.datasets.get_path(\"naturalearth_lowres\"))\n",
    "world = world.set_index(\"iso_a3\")"
   ]
  },
  {
   "cell_type": "markdown",
   "metadata": {},
   "source": [
    "## kmeans Aguas Subterraneas"
   ]
  },
  {
   "cell_type": "markdown",
   "metadata": {},
   "source": [
    "El agrupamiento de k-medias es un método de cuantificación vectorial, originario del procesamiento de señales, que tiene como objetivo dividir n observaciones en k grupos en los que cada observación pertenece al grupo con la media más cercana, sirviendo como un prototipo del grupo.\n",
    "\n",
    "\n",
    "### Codo - Distorsión\n",
    "\n",
    "Distorsión: se calcula como el promedio de las distancias al cuadrado desde los centros de los clústeres respectivos. Por lo general, se utiliza la métrica de distancia euclidiana.\n",
    "\n",
    "El método del codo ejecuta el agrupamiento de k-medias en el conjunto de datos para un rango de valores de k (por ejemplo, de 1 a 10) y luego, para cada valor de k, calcula una puntuación promedio para todos los grupos. De forma predeterminada, se calcula la puntuación de distorsión, la suma de las distancias al cuadrado desde cada punto hasta su centro asignado. "
   ]
  },
  {
   "cell_type": "markdown",
   "metadata": {},
   "source": [
    "KElbowVisualizer implementa el método \"codo\" para ayudar a seleccionar la cantidad óptima de clústeres ajustando el modelo con un rango de valores para k. Si el gráfico de líneas se asemeja a un brazo, entonces el \"codo\" (el punto de inflexión en la curva) es una buena indicación de que el modelo subyacente se ajusta mejor a ese punto. En el visualizador, el \"codo\" se anotará con una línea discontinua:"
   ]
  },
  {
   "cell_type": "code",
   "execution_count": null,
   "metadata": {},
   "outputs": [],
   "source": [
    "kmeans = KMeans(n_init=20)\n",
    "\n",
    "visualizer = KElbowVisualizer(kmeans, k=(2,30),metric='distortion',timings=False,)\n",
    "visualizer.fit(gdfsubr[['latitud','longitud']])  \n",
    "visualizer.show() "
   ]
  },
  {
   "cell_type": "markdown",
   "metadata": {},
   "source": [
    "Del gráfico podemos ver que el numero de clusters con máximo impacto es 7, despues de ese numero de clusters el impacto de nuevos clusters se reduce significativamente.\n"
   ]
  },
  {
   "cell_type": "markdown",
   "metadata": {},
   "source": [
    "#### Agrupamiento K-Means\n",
    "Realizamos el agrupamiento K-Means con 6 clusters, se crea una columna en el dataframe con las etiquetas de los centros de los clusters resultado de la reducción:"
   ]
  },
  {
   "cell_type": "code",
   "execution_count": null,
   "metadata": {},
   "outputs": [],
   "source": [
    "kmeans = KMeans(n_clusters = 7, init ='k-means++')\n",
    "kmeans.fit(gdfsubr[['latitud','longitud']]) # Calcule el clustering de k-medias.\n",
    "gdfsubr['cluster_sub'] = kmeans.fit_predict(gdfsubr[['latitud','longitud']])\n",
    "centerssub = kmeans.cluster_centers_ # Coordenadas de los centros de los clusters."
   ]
  },
  {
   "cell_type": "code",
   "execution_count": null,
   "metadata": {},
   "outputs": [],
   "source": [
    "gdfsubr.head()"
   ]
  },
  {
   "cell_type": "markdown",
   "metadata": {},
   "source": [
    "#### Información de los centros de los clusteres"
   ]
  },
  {
   "cell_type": "markdown",
   "metadata": {},
   "source": [
    "Se crea un geodataframe con las coordinadas de los centros de los clusters:"
   ]
  },
  {
   "cell_type": "code",
   "execution_count": null,
   "metadata": {},
   "outputs": [],
   "source": [
    "centers_dfsubr= pd.DataFrame(data=centerssub, columns=['latitud','longitud'])\n",
    "centers_dfsubr[\"Coordinates\"] = list(zip(centers_dfsubr.longitud, centers_dfsubr.latitud))\n",
    "centers_dfsubr[\"Coordinates\"] = centers_dfsubr[\"Coordinates\"].apply(Point)\n",
    "centers_gdfsubr = gpd.GeoDataFrame(centers_dfsubr, geometry=\"Coordinates\")"
   ]
  },
  {
   "cell_type": "code",
   "execution_count": null,
   "metadata": {},
   "outputs": [],
   "source": [
    "geolocator = Nominatim(user_agent=\"geoapiExercises\")\n",
    "\n",
    "def city_state(row):\n",
    "    coord = f\"{row['latitud']}, {row['longitud']}\"\n",
    "    location = geolocator.reverse(coord)\n",
    "    #print (location)\n",
    "    if location is not None:\n",
    "        address = location.raw['address']\n",
    "        #print(address)\n",
    "        state = address.get('state', '')\n",
    "        row['state'] = state\n",
    "        city = address.get('city', '')\n",
    "        row['city'] = city\n",
    "        county = address.get('county', '')\n",
    "        row['county'] = county\n",
    "    return row\n",
    "\n",
    "centersub_geo= centers_gdfsubr.apply(city_state, axis=1)\n",
    "centersub_geo['id_clussub']= centersub_geo.index\n",
    "centersub_geo"
   ]
  },
  {
   "cell_type": "code",
   "execution_count": null,
   "metadata": {
    "scrolled": true
   },
   "outputs": [],
   "source": [
    "fig, gax = plt.subplots(figsize=(10,10))\n",
    "\n",
    "#ploteando las filas en las cuales el país es México:\n",
    "world.query(\"name == 'Mexico'\").plot(ax = gax, edgecolor='red', color='bisque')\n",
    "\n",
    "\n",
    "\n",
    "# Ploteamos las aguas suberraneas de nuestro GeoDataFrame, con diferentes colores según el cluster al que pertenecen:\n",
    "\n",
    "gdfsubr.plot(ax=gax, column='cluster_sub', alpha = 0.5, cmap = 'plasma')\n",
    "\n",
    "# Ploteamos los centros de los clusters:\n",
    "centers_gdfsubr.plot(ax=gax, color='firebrick')\n",
    "\n",
    "\n",
    "gax.set_xlabel('longitud')\n",
    "gax.set_ylabel('latitud')\n",
    "gax.set_title('Aguas Subterraneas en México - Semaforo Rojo')\n",
    "\n",
    "gax.spines['top'].set_visible(False)\n",
    "gax.spines['right'].set_visible(False)\n",
    "\n",
    "plt.show()"
   ]
  },
  {
   "cell_type": "code",
   "execution_count": null,
   "metadata": {},
   "outputs": [],
   "source": []
  },
  {
   "cell_type": "markdown",
   "metadata": {},
   "source": [
    "### Semaforo de Aguas Subterraneas en México"
   ]
  },
  {
   "cell_type": "markdown",
   "metadata": {},
   "source": [
    "Ploteamos las aguas subterraneas de México representadas por puntos en el mapa, y asignamos color a los puntos de acuerdo con la columna \"semaforo\" que  indica el nivel de contaminación de acuerdo a los contaminantes presentes, asi: \n",
    "\n",
    "* Rojo: Si los resultados de calidad del agua indican incumplimiento en uno o más de los siguientes indicadores: Fluoruros, Colíformes Fecales, Nitrógeno de Nitratos, Arsénico Total, Cadmio Total, Cromo Total, Mercurio Total o Plomo Total; el sitio se pinta de rojo. \n",
    "\n",
    "* Amarillo: Si los resultados de calidad del agua indican incumplimiento en uno o más de los siguientes indicadores: Alcalinídad, Conductividad,Dureza, Sólidos Dísueltos Totales - Riego Agrícola, Sólidos Disueltos Totales - Salinización, Manganeso Total o Hierro Total; el sitio se pinta de amarillo. \n",
    "\n",
    "* Verde: Si los resultados de calidad del agua no indican incumplimiento en ninguno de los indicadores: Fluoruros, Colíformes Fecales, Nitrógeno de Nitratos, Arsénico Total, Cadmio Total, Cromo Total, Mercurio Total, Plomo Total, Alcalinídad, Conductividad,Dureza, Sólidos Dísueltos Totales - Riego Agrícola, Sólidos Disueltos Totales - Salinización, Manganeso Total o Hierro Total; el sitio se pinta de verde. "
   ]
  },
  {
   "cell_type": "code",
   "execution_count": null,
   "metadata": {},
   "outputs": [],
   "source": [
    "\n",
    "fig, gax = plt.subplots(figsize=(10,10))\n",
    "\n",
    "#ploteando las filas en las cuales el país es México:\n",
    "world.query(\"name == 'Mexico'\").plot(ax = gax, edgecolor='black', color='white')\n",
    "\n",
    "\n",
    "# Creamos una paleta de colores para los diferentes valores del semaforo:\n",
    "# semaforo_palette = {'Verde' : 'green', 'Rojo' : 'red', 'Amarillo': 'yellow'}\n",
    "cmap = matplotlib.colors.ListedColormap([ 'yellow', 'red','green'])\n",
    "\n",
    "# Ploteamos las aguas suberraneas de nuestro GeoDataFrame con la paleta de colores de semaforo:\n",
    "gdfsub.plot(ax=gax, column='semaforo', alpha = 0.5, legend=True, cmap=cmap)\n",
    "\n",
    "gax.set_xlabel('longitud')\n",
    "gax.set_ylabel('latitud')\n",
    "gax.set_title('Semaforo de Aguas Subterraneas en México')\n",
    "\n",
    "gax.spines['top'].set_visible(False)\n",
    "gax.spines['right'].set_visible(False)\n",
    "\n",
    "plt.show()"
   ]
  },
  {
   "cell_type": "markdown",
   "metadata": {},
   "source": [
    "### Mapa de Centros de Semaforos"
   ]
  },
  {
   "cell_type": "code",
   "execution_count": null,
   "metadata": {},
   "outputs": [],
   "source": [
    "fig, gax = plt.subplots(figsize=(10,10))\n",
    "\n",
    "#ploteando las filas en las cuales el país es México:\n",
    "world.query(\"name == 'Mexico'\").plot(ax = gax, edgecolor='black', color='white')\n",
    "\n",
    "\n",
    "# Ploteamos los centros de los clusters:\n",
    "centers_gdfsubv.plot(ax=gax, color='green')\n",
    "centers_gdfsubr.plot(ax=gax, color='red')\n",
    "centers_gdfsuba.plot(ax=gax, color='yellow')\n",
    "\n",
    "\n",
    "gax.set_xlabel('longitud')\n",
    "gax.set_ylabel('latitud')\n",
    "gax.set_title('Aguas Subterraneas en México')\n",
    "\n",
    "gax.spines['top'].set_visible(False)\n",
    "gax.spines['right'].set_visible(False)\n",
    "\n",
    "plt.show()"
   ]
  },
  {
   "cell_type": "markdown",
   "metadata": {},
   "source": [
    "## kmeans Aguas Subterraneas en General"
   ]
  },
  {
   "cell_type": "markdown",
   "metadata": {},
   "source": [
    "El agrupamiento de k-medias es un método de cuantificación vectorial, originario del procesamiento de señales, que tiene como objetivo dividir n observaciones en k grupos en los que cada observación pertenece al grupo con la media más cercana, sirviendo como un prototipo del grupo.\n",
    "\n",
    "\n",
    "### Codo - Distorsión\n",
    "\n",
    "Distorsión: se calcula como el promedio de las distancias al cuadrado desde los centros de los clústeres respectivos. Por lo general, se utiliza la métrica de distancia euclidiana.\n",
    "\n",
    "El método del codo ejecuta el agrupamiento de k-medias en el conjunto de datos para un rango de valores de k (por ejemplo, de 1 a 10) y luego, para cada valor de k, calcula una puntuación promedio para todos los grupos. De forma predeterminada, se calcula la puntuación de distorsión, la suma de las distancias al cuadrado desde cada punto hasta su centro asignado. "
   ]
  },
  {
   "cell_type": "markdown",
   "metadata": {},
   "source": [
    "KElbowVisualizer implementa el método \"codo\" para ayudar a seleccionar la cantidad óptima de clústeres ajustando el modelo con un rango de valores para k. Si el gráfico de líneas se asemeja a un brazo, entonces el \"codo\" (el punto de inflexión en la curva) es una buena indicación de que el modelo subyacente se ajusta mejor a ese punto. En el visualizador, el \"codo\" se anotará con una línea discontinua:"
   ]
  },
  {
   "cell_type": "code",
   "execution_count": null,
   "metadata": {},
   "outputs": [],
   "source": [
    "kmeans = KMeans(n_init=20)\n",
    "\n",
    "visualizer = KElbowVisualizer(kmeans, k=(2,30),metric='distortion',timings=False,)\n",
    "visualizer.fit(gdfsub[['latitud','longitud']])  \n",
    "visualizer.show() "
   ]
  },
  {
   "cell_type": "markdown",
   "metadata": {},
   "source": [
    "Del gráfico podemos ver que el numero de clusters con máximo impacto es 6, despues de ese numero de clusters el impacto de nuevos clusters se reduce significativamente.\n"
   ]
  },
  {
   "cell_type": "markdown",
   "metadata": {},
   "source": [
    "#### Agrupamiento K-Means\n",
    "Realizamos el agrupamiento K-Means con 6 clusters, se crea una columna en el dataframe con las etiquetas de los centros de los clusters resultado de la reducción:"
   ]
  },
  {
   "cell_type": "code",
   "execution_count": null,
   "metadata": {},
   "outputs": [],
   "source": [
    "kmeans = KMeans(n_clusters = 6, init ='k-means++')\n",
    "kmeans.fit(gdfsub[['latitud','longitud']]) # Calcule el clustering de k-medias.\n",
    "gdfsub['cluster_sub'] = kmeans.fit_predict(gdfsub[['latitud','longitud']])\n",
    "centerssub = kmeans.cluster_centers_ # Coordenadas de los centros de los clusters."
   ]
  },
  {
   "cell_type": "code",
   "execution_count": null,
   "metadata": {},
   "outputs": [],
   "source": [
    "gdfsub.head()"
   ]
  },
  {
   "cell_type": "markdown",
   "metadata": {},
   "source": [
    "#### Información de los centros de los clusteres"
   ]
  },
  {
   "cell_type": "markdown",
   "metadata": {},
   "source": [
    "Se crea un geodataframe con las coordinadas de los centros de los clusters:"
   ]
  },
  {
   "cell_type": "code",
   "execution_count": null,
   "metadata": {},
   "outputs": [],
   "source": [
    "centers_dfsub= pd.DataFrame(data=centerssub, columns=['latitud','longitud'])\n",
    "centers_dfsub[\"Coordinates\"] = list(zip(centers_dfsub.longitud, centers_dfsub.latitud))\n",
    "centers_dfsub[\"Coordinates\"] = centers_dfsub[\"Coordinates\"].apply(Point)\n",
    "centers_gdfsub = gpd.GeoDataFrame(centers_dfsub, geometry=\"Coordinates\")"
   ]
  },
  {
   "cell_type": "code",
   "execution_count": null,
   "metadata": {},
   "outputs": [],
   "source": [
    "geolocator = Nominatim(user_agent=\"geoapiExercises\")\n",
    "\n",
    "def city_state(row):\n",
    "    coord = f\"{row['latitud']}, {row['longitud']}\"\n",
    "    location = geolocator.reverse(coord)\n",
    "    #print (location)\n",
    "    if location is not None:\n",
    "        address = location.raw['address']\n",
    "        #print(address)\n",
    "        state = address.get('state', '')\n",
    "        row['state'] = state\n",
    "        city = address.get('city', '')\n",
    "        row['city'] = city\n",
    "        county = address.get('county', '')\n",
    "        row['county'] = county\n",
    "    return row\n",
    "\n",
    "centersub_geo= centers_gdfsub.apply(city_state, axis=1)\n",
    "centersub_geo['id_clussub']= centersub_geo.index\n",
    "centersub_geo"
   ]
  },
  {
   "cell_type": "code",
   "execution_count": null,
   "metadata": {},
   "outputs": [],
   "source": [
    "fig, gax = plt.subplots(figsize=(10,10))\n",
    "\n",
    "#ploteando las filas en las cuales el país es México:\n",
    "world.query(\"name == 'Mexico'\").plot(ax = gax, edgecolor='black', color='white')\n",
    "\n",
    "\n",
    "\n",
    "# Ploteamos las aguas suberraneas de nuestro GeoDataFrame, con diferentes colores según el cluster al que pertenecen:\n",
    "\n",
    "gdfsub.plot(ax=gax, column='cluster_sub', alpha = 0.5, cmap = 'cool')\n",
    "\n",
    "# Ploteamos los centros de los clusters:\n",
    "centers_gdfsub.plot(ax=gax, color='black')\n",
    "\n",
    "\n",
    "gax.set_xlabel('longitud')\n",
    "gax.set_ylabel('latitud')\n",
    "gax.set_title('Aguas Subterraneas en México')\n",
    "\n",
    "gax.spines['top'].set_visible(False)\n",
    "gax.spines['right'].set_visible(False)\n",
    "\n",
    "plt.show()"
   ]
  },
  {
   "cell_type": "markdown",
   "metadata": {},
   "source": [
    "## Relación entre la calidad del agua y su ubicación geográfica"
   ]
  },
  {
   "cell_type": "markdown",
   "metadata": {},
   "source": [
    "Graficamos la cantidad de muestras segun el semaforo de contaminación por cluster:"
   ]
  },
  {
   "cell_type": "code",
   "execution_count": null,
   "metadata": {},
   "outputs": [],
   "source": [
    "sns.countplot(x = 'cluster_sub',\n",
    "            hue = 'semaforo',\n",
    "            data = gdfsub,\n",
    "             palette=['green','red','yellow'])"
   ]
  },
  {
   "cell_type": "markdown",
   "metadata": {},
   "source": [
    "Obtenemos una tabla con el porcentaje de muestras según el semaforo por cluster:"
   ]
  },
  {
   "cell_type": "code",
   "execution_count": null,
   "metadata": {},
   "outputs": [],
   "source": [
    "cross = pd.crosstab(index=gdfsub['cluster_sub'],columns=gdfsub['semaforo'],normalize='index').reindex([\"Verde\", \"Amarillo\", \"Rojo\"],axis='columns')\n",
    "cross.style.background_gradient(cmap='Blues').format(\"{:.0%}\")"
   ]
  },
  {
   "cell_type": "markdown",
   "metadata": {},
   "source": [
    "Al analizar la tabla anterior, podemos concluir que la ubicación geográfica si tiene una relación directa con la calidad del agua que se obtiene en las fuentes subterráneas, dado que tenemos por ejemplo un cluster con el 53% de sus puntos en verde y otro con el 61% de sus puntos en rojo. Lo anterior indica que las variables que definen el nivel del semáforo están correlacionadas geográficamente."
   ]
  }
 ],
 "metadata": {
  "kernelspec": {
   "display_name": "Python 3 (ipykernel)",
   "language": "python",
   "name": "python3"
  },
  "language_info": {
   "codemirror_mode": {
    "name": "ipython",
    "version": 3
   },
   "file_extension": ".py",
   "mimetype": "text/x-python",
   "name": "python",
   "nbconvert_exporter": "python",
   "pygments_lexer": "ipython3",
   "version": "3.9.13"
  },
  "vscode": {
   "interpreter": {
    "hash": "9e3bfd5707cea17bcbe380e30b983be31a9c4e73ed42697506103186bbe325e5"
   }
  }
 },
 "nbformat": 4,
 "nbformat_minor": 2
}
