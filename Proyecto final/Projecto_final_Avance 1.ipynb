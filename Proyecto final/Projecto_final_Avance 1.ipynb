{
 "cells": [
  {
   "cell_type": "markdown",
   "metadata": {},
   "source": [
    "# Proyecto Final\n",
    "## Equipo 30\n",
    "### A01793933 - Christian Suárez Gil\n",
    "### A01793999 - Nathalia Prada"
   ]
  },
  {
   "cell_type": "markdown",
   "metadata": {},
   "source": [
    "____________"
   ]
  },
  {
   "cell_type": "markdown",
   "metadata": {},
   "source": [
    "## Avance 1:"
   ]
  },
  {
   "cell_type": "markdown",
   "metadata": {},
   "source": [
    "- Nombre del Conjunto de Datos: Health insurance data set"
   ]
  },
  {
   "cell_type": "markdown",
   "metadata": {},
   "source": [
    "- Organización que lo generó: Kaggle - SURESH GUPTA"
   ]
  },
  {
   "cell_type": "markdown",
   "metadata": {},
   "source": [
    "- Enlace de Internet: https://www.kaggle.com/datasets/sureshgupta/health-insurance-data-set"
   ]
  },
  {
   "cell_type": "markdown",
   "metadata": {},
   "source": [
    "- Descripción del conjunto de datos:\n",
    "\n",
    "Este dataset contiene información histórica de personas que contratan una póliza de salud en Estados Unidos. En este podemos encontrar información socio demográfica, médica, geográfica y del valor solicitado por cada persona a la compañía. Las variables con las que contamos, se explican a continuación:\n",
    "\n",
    "1. age : Edad del asegurado (Numérica) - Age of the policyholder (Numeric)\n",
    "2. sex: Genero del Asegurado (Categórica) - Gender of policyholder (Categoric)\n",
    "3. weight: Peso del asegurado (Numérica) - Weight of the policyholder (Numeric)\n",
    "4. bmi: Índice de masa corporal, provee un entendimiento del cuerpo, el peso es relativamente alto o bajo en relación con la altura (Numérica) - Body mass index, providing an understanding of body, weights that are relatively high or low relative to height, objective index of body weight (kg / m ^ 2) using the ratio of height to weight (Numeric)\n",
    "5. noofdependents: Número de personas dependientes en la póliza (Numérica) - Number of dependent persons on the policyholder (Numérica)\n",
    "6. smoker: Indica si el asegurado es un fumador o un no fumador (non-smoker=0;smoker=1) (Categórica) - Indicates policyholder is a smoker or a non-smoker (non-smoker=0;smoker=1) (Categoric)\n",
    "7. claim: La cantidad reclamada por el asegurado (Numérica) - The amount claimed by the policyholder (Numeric)\n",
    "8. bloodpressure: Lectura de presión sanguínea del asegurado (Numérica) - Bloodpressure reading of policyholder (Numeric)\n",
    "9. diabetes: Indica si el asegurado sufre de diabetes o no (no diabético=0; diabético=1) (Categoric) - Indicates policyholder suffers from diabetes or not (non-diabetic=0; diabetic=1) (Categoric)\n",
    "10. regular_ex: El asegurado se ejercita regularmente o no (Categórica) A policyholder regularly excercises or not (no-excercise=0; excercise=1) (Categoric)\n",
    "11. job_title: Ocupación laboral del asegurado (Categórica) - Job profile of the policyholder (Categoric)\n",
    "12. city: Ciudad en donde el asegurado reside (Categórica) - The city in which the policyholder resides (Categoric)\n",
    "hereditary_diseases: Un asegurado sufriendo de una enfermedad hereditaria (categórica) - A policyholder suffering from a hereditary diseases or not (Categoric)\n",
    "\n",
    "\n"
   ]
  },
  {
   "cell_type": "code",
   "execution_count": null,
   "metadata": {},
   "outputs": [],
   "source": [
    "import pandas as pd\n",
    "data = pd.read_csv('1651277648862_healthinsurance.csv')\n",
    "# data.head()"
   ]
  },
  {
   "cell_type": "code",
   "execution_count": null,
   "metadata": {},
   "outputs": [
    {
     "name": "stdout",
     "output_type": "stream",
     "text": [
      "El Data Set cuenta con 15000 registros\n"
     ]
    }
   ],
   "source": [
    "print( 'El Data Set cuenta con ' + str(len(data)) + ' registros')"
   ]
  },
  {
   "cell_type": "markdown",
   "metadata": {},
   "source": [
    "- Preguntas de investigación que podría responder :\n",
    "\n",
    "1. ¿Influye la edad en el valor reclamado por los asegurados?¿de qué manera?\n",
    "2. ¿Cuál puede ser la prima cobrada a cada uno de los asegurados según sus características demográficas?\n",
    "3. ¿Cuál puede ser el gasto médico anual para nuevos clientes?\n",
    "4. ¿Cómo afectan la tendencia política y las leyes de cada estado en el valor reclamado?\n",
    "5. ¿Influye el ejercicio o la falta de este en el valor reclamado por los asegurados?¿de qué manera?\n",
    "6. ¿El género influye en el valor reclamado por los asegurados?\n",
    "7. ¿Se puede hacer venta cruzada de otros tipos de seguros a estos clientes?\n",
    "8. ¿Influye el trabajo desempeñado por una persona en el monto a reclamar?\n"
   ]
  },
  {
   "cell_type": "markdown",
   "metadata": {},
   "source": [
    "- Actor que estaría interesado en las preguntas mencionadas"
   ]
  },
  {
   "cell_type": "markdown",
   "metadata": {},
   "source": [
    "1. Compañías de seguros \n",
    "2. El gobierno\n",
    "3. Los Prestadores de Servicios de Salud"
   ]
  }
 ],
 "metadata": {
  "kernelspec": {
   "display_name": "Python 3 (ipykernel)",
   "language": "python",
   "name": "python3"
  },
  "language_info": {
   "codemirror_mode": {
    "name": "ipython",
    "version": 3
   },
   "file_extension": ".py",
   "mimetype": "text/x-python",
   "name": "python",
   "nbconvert_exporter": "python",
   "pygments_lexer": "ipython3",
   "version": "3.9.12"
  },
  "vscode": {
   "interpreter": {
    "hash": "81d7914d2b2a3219f43d771ae1e771391ac75294fd7e96947ac0ff9a170e8098"
   }
  }
 },
 "nbformat": 4,
 "nbformat_minor": 2
}
