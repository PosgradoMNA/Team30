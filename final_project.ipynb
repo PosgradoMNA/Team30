{
 "cells": [
  {
   "cell_type": "markdown",
   "metadata": {},
   "source": [
    "# Proyecto Final\n",
    "## Equipo 30\n",
    "### A01793933 - Christian Suárez Gil\n",
    "### A01793999 - Nathalia Prada"
   ]
  },
  {
   "cell_type": "markdown",
   "metadata": {},
   "source": [
    "____________"
   ]
  },
  {
   "cell_type": "markdown",
   "metadata": {},
   "source": [
    "## Avance 1:"
   ]
  },
  {
   "cell_type": "markdown",
   "metadata": {},
   "source": [
    "- Nombre del Conjunto de Datos: Health insurance data set"
   ]
  },
  {
   "cell_type": "markdown",
   "metadata": {},
   "source": [
    "- Organización que lo generó: Kaggle - SURESH GUPTA"
   ]
  },
  {
   "cell_type": "markdown",
   "metadata": {},
   "source": [
    "- Enlace de Internet: https://www.kaggle.com/datasets/sureshgupta/health-insurance-data-set"
   ]
  },
  {
   "cell_type": "markdown",
   "metadata": {},
   "source": [
    "- Descripción del conjunto de datos:\n",
    "\n",
    "Esta dataset contiene información historica de personas que contrator una poliza de salud en Estados Unidos. En este podemos encontrar información socio demografica, médica, geográfica y del valor solicitado por cada persona a la compañia. Las variables con las que contamos, se explican a continuación:\n",
    "\n",
    "\n",
    "1. age : Age of the policyholder (Numeric)\n",
    "2. sex: Gender of policyholder (Categoric)\n",
    "3. weight: Weight of the policyholder (Numeric)\n",
    "4. bmi: Body mass index, providing an understanding of body, weights that are relatively high or low relative to height, objective index of body weight (kg / m ^ 2) using the ratio of height to weight (Numeric)\n",
    "5. noofdependents: Number of dependent persons on the policyholder (Numeric)\n",
    "6. smoker: Indicates policyholder is a smoker or a non-smoker (non-smoker=0;smoker=1) (Categoric)\n",
    "7. claim: The amount claimed by the policyholder (Numeric)\n",
    "8. bloodpressure: Bloodpressure reading of policyholder (Numeric)\n",
    "9. diabetes: Indicates policyholder suffers from diabetes or not (non-diabetic=0; diabetic=1) (Categoric)\n",
    "10. regular_ex: A policyholder regularly excercises or not (no-excercise=0; excercise=1) (Categoric)\n",
    "11. job_title: Job profile of the policyholder (Categoric)\n",
    "12. city: The city in which the policyholder resides (Categoric)\n",
    "hereditary_diseases: A policyholder suffering from a hereditary diseases or not (Categoric)\n"
   ]
  },
  {
   "cell_type": "code",
   "execution_count": 10,
   "metadata": {},
   "outputs": [],
   "source": [
    "import pandas as pd\n",
    "data = pd.read_csv('1651277648862_healthinsurance.csv')\n",
    "# data.head()"
   ]
  },
  {
   "cell_type": "code",
   "execution_count": 12,
   "metadata": {},
   "outputs": [
    {
     "name": "stdout",
     "output_type": "stream",
     "text": [
      "El Data Set cuenta con 15000 registros\n"
     ]
    }
   ],
   "source": [
    "print( 'El Data Set cuenta con ' + str(len(data)) + ' registros')"
   ]
  },
  {
   "cell_type": "markdown",
   "metadata": {},
   "source": [
    "- Preguntas de investigación que podría responder :\n",
    "\n",
    "1. ¿Influye la edad en el valor reclamado por los asegurados?¿de que manera?\n",
    "2. ¿Cuál puede ser la prima cobrada a cada uno de los asegurados según sus características demográficas?\n",
    "3. ¿Cuál puede ser el gasto médico anual para nuevos clientes?\n",
    "4. ¿Cómo afectan la tendencia política y las leyes de cada estado en el valor reclamado?\n",
    "5. ¿Influye el ejercicio o la falta de este en el valor reclamado por los asegurados?¿de que manera?\n",
    "6. ¿El genero influye en el valor reclamado por los asegurados?\n",
    "7. ¿Se puede hacer venta cruzada de otros tipos de seguros a estos clientes?\n",
    "8. ¿Influye el trabajo desempeñado por una persona en el monto a reclamar?\n"
   ]
  },
  {
   "cell_type": "markdown",
   "metadata": {},
   "source": [
    "- Actor que estaría interesado en las preguntas mencionadas"
   ]
  },
  {
   "cell_type": "markdown",
   "metadata": {},
   "source": [
    "1. Compañías de seguros \n",
    "2. El gobierno\n",
    "3. Los Prestadores de Servicios de Salud"
   ]
  },
  {
   "cell_type": "markdown",
   "metadata": {},
   "source": [
    "## Avance 2:"
   ]
  },
  {
   "cell_type": "markdown",
   "metadata": {},
   "source": [
    "### 1. Business Understanding\n",
    "\n",
    "En esta fase del proyecto nos concentraremos en conocer sobre la industria de las compañías de seguros médicos en Estados Unidos y en cómo se genera el valor que reclaman los asegurados a la misma.\n",
    "Posteriormente, analizaremos que problemática de negocio podríamos ayudar a resolver mediante analisis puntuales de Ciencia de Datos y de que manera lo haríamos.\n",
    "Para finalizar esta estapa, seleccionaremos las herramientas a utilizar (tanto tecnlógicas como estadísticas) y generaremos el plan de trabajo detallado.\n"
   ]
  },
  {
   "cell_type": "markdown",
   "metadata": {},
   "source": [
    "### 2. Data Understanding\n",
    "\n",
    "En esta fase, realizaremos un Exploratory Data Analysis (EDA) sobre la data que tengamos, tanto en nuestro Data set inicial, como sobre información adicional que logremos complementar. Esto, con el objetivo de entender aspectos como: relaciones entre variables, presencia de datos atipicos, distribuciones de probabilidad, entre otros. \n"
   ]
  },
  {
   "cell_type": "markdown",
   "metadata": {},
   "source": [
    "### 3.Data Preparation\n",
    "\n",
    "A partir de lo analizado en el paso anterior, en esta etapa realizaremos la selccion de las variables que nos permitan responder al objetivo del proyecto definido en la etapa 1 y realizaremos los procesos de transformación, limpieza y preprocesamiento necesarios para contar con un Data Set Final que nos sirva para alimentar los modelos."
   ]
  },
  {
   "cell_type": "markdown",
   "metadata": {},
   "source": [
    "### 4. Modeling\n",
    "En esta fase, realizaremos la selección, construcción y entrenamiento de los modelos que nos permitan resolver la pregunta de negocio. Considerando aspectos importantes como la precisión de los modelos sobre la métrica de desempeño adecuada, la estabilidad y la eficiencia computacional de los modelos."
   ]
  },
  {
   "cell_type": "markdown",
   "metadata": {},
   "source": [
    "#### 5. Evaluation\n",
    "En está etapa evaluaremos si el modelo generado si cumple con el requerimiento de negocio que nos habíamos planteado y con que precisión. Así mismo realizamos una evaluación de todo el proceso realizado hasta este punto, para detectar si todo fue realizado correctamente o si hubo errores en las decisiones tomadas en cada fase."
   ]
  },
  {
   "cell_type": "markdown",
   "metadata": {},
   "source": [
    "### 6. Deployment\n",
    "En esta fase realizamos en despligue del modelo generado. Planeando que tipo de infraestructura y actividades se requieren para cumplir con este proposito. Así como, definir y poner en marcha los mecánismo que nos permitan medir en el tiempo si el modelo sigue siendo acertado y los pasos a implementar cuando detectemos desviaciones.\n",
    "También en esta etapa construiremos el entregable y presentación final, desde la perspectiva del negocio.\n"
   ]
  },
  {
   "cell_type": "code",
   "execution_count": null,
   "metadata": {},
   "outputs": [],
   "source": []
  },
  {
   "cell_type": "code",
   "execution_count": null,
   "metadata": {},
   "outputs": [],
   "source": []
  },
  {
   "cell_type": "code",
   "execution_count": null,
   "metadata": {},
   "outputs": [],
   "source": []
  }
 ],
 "metadata": {
  "kernelspec": {
   "display_name": "Python 3.9.7 ('base')",
   "language": "python",
   "name": "python3"
  },
  "language_info": {
   "codemirror_mode": {
    "name": "ipython",
    "version": 3
   },
   "file_extension": ".py",
   "mimetype": "text/x-python",
   "name": "python",
   "nbconvert_exporter": "python",
   "pygments_lexer": "ipython3",
   "version": "3.9.7"
  },
  "orig_nbformat": 4,
  "vscode": {
   "interpreter": {
    "hash": "81d7914d2b2a3219f43d771ae1e771391ac75294fd7e96947ac0ff9a170e8098"
   }
  }
 },
 "nbformat": 4,
 "nbformat_minor": 2
}
